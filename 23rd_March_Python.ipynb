{
 "cells": [
  {
   "cell_type": "markdown",
   "id": "dd964272-6c49-45f4-9ec0-4452b22615cd",
   "metadata": {},
   "source": [
    "Problems on Constructor"
   ]
  },
  {
   "cell_type": "code",
   "execution_count": null,
   "id": "d76b49cb-2f02-459a-b58b-a4a0d0a33ebb",
   "metadata": {},
   "outputs": [],
   "source": [
    "#1 What is a constructor in Python? Explain its purpose and usage."
   ]
  },
  {
   "cell_type": "markdown",
   "id": "33342121-937a-4e94-98c3-6da1e37ab98c",
   "metadata": {},
   "source": [
    "A constructor is a special method within a class that is automatically called when a new instance of the class is created. It is typically named __init__().\n",
    "\n",
    "The purpose of a constructor is to initialize the newly created object. This includes setting initial values for attributes or performing any other necessary setup tasks."
   ]
  },
  {
   "cell_type": "code",
   "execution_count": null,
   "id": "9dddde4e-a89e-4af7-8ba1-0e420bb7cb84",
   "metadata": {},
   "outputs": [],
   "source": [
    "#2 Differentiate between a parameterless constructor and a parameterized constructor in Python"
   ]
  },
  {
   "cell_type": "markdown",
   "id": "ad314828-efab-4357-a412-c92d58f5ffe5",
   "metadata": {},
   "source": [
    "Parameterized Constructor:\n",
    "\n",
    "A parameterized constructor is a constructor method that accepts one or more parameters.\n",
    "It is used to initialize the object with specific values provided during object creation.\n",
    "the parameterized constructor is typically implemented using the __init__() method with parameters.\n",
    "\n",
    "Parameterless Constructor:\n",
    "\n",
    "constructor that doesn't accept any parameters.\n",
    "if you define an __init__() method without any parameters, it effectively serves as a parameterless constructor.\n",
    "This constructor is used to initialize the object with default values or perform some setup tasks that don't require external input."
   ]
  },
  {
   "cell_type": "code",
   "execution_count": null,
   "id": "1f8a80f3-a6f5-4921-b6fb-fc0b5d8d6b56",
   "metadata": {},
   "outputs": [],
   "source": [
    "#3 How do you define a constructor in a Python class? Provide an example"
   ]
  },
  {
   "cell_type": "markdown",
   "id": "469cf79a-d793-481a-a339-bf3ea5ab170e",
   "metadata": {},
   "source": [
    "a constructor is defined using a special method named __init__(). This method is automatically called when an instance of the class is created. Within the __init__() method, you can initialize the object's attributes and perform any necessary setup tasks."
   ]
  },
  {
   "cell_type": "code",
   "execution_count": null,
   "id": "7ca324ed-f633-4b5b-a0f9-212f5a594a96",
   "metadata": {},
   "outputs": [],
   "source": [
    "class Car:\n",
    "    def __init__(self, make, model, year):\n",
    "        self.make = make\n",
    "        self.model = model\n",
    "        self.year = year\n",
    "        self.odometer_reading = 0"
   ]
  },
  {
   "cell_type": "code",
   "execution_count": null,
   "id": "5085e75b-1576-4f18-996b-44108248b312",
   "metadata": {},
   "outputs": [],
   "source": [
    "#4 Explain the `__init__` method in Python and its role in constructors"
   ]
  },
  {
   "cell_type": "markdown",
   "id": "c93b3353-a555-4fe2-b722-c8041bbd579f",
   "metadata": {},
   "source": [
    " the __init__() method is a special method also known as the constructor method. It is automatically called when a new instance of a class is created. The purpose of the __init__() method is to initialize the newly created object.\n",
    " \n",
    "role in constructors:\n",
    "Initialization\n",
    "Parameter Passing\n",
    "Self Parameter\n",
    "Automatic Invocation\n",
    "Constructor Overloading"
   ]
  },
  {
   "cell_type": "code",
   "execution_count": null,
   "id": "1b88b39f-9141-42fd-a3ee-8082dd4fc226",
   "metadata": {},
   "outputs": [],
   "source": [
    "#5 in a class named `Person`, create a constructor that initializes the `name` and `age` attributes. Provide an example of creating an object of this class."
   ]
  },
  {
   "cell_type": "code",
   "execution_count": null,
   "id": "79e6bfcd-a5cf-4c0b-84ab-46b1ed583f21",
   "metadata": {},
   "outputs": [],
   "source": [
    "class Person:\n",
    "    def __init__(self, name, age):\n",
    "        self.name = name\n",
    "        self.age = age\n",
    "\n",
    "\n",
    "person1 = Person(\"Alice\", 30)\n",
    "print(person1.name)\n",
    "print(person1.age)"
   ]
  },
  {
   "cell_type": "code",
   "execution_count": null,
   "id": "8dd172f2-2d9e-401c-8059-1d6fc43ef0bc",
   "metadata": {},
   "outputs": [],
   "source": [
    "#6 How can you call a constructor explicitly in Python? Give an example."
   ]
  },
  {
   "cell_type": "markdown",
   "id": "2426e768-9143-402b-9e93-72c86cef16bc",
   "metadata": {},
   "source": [
    "In Python, you typically don't call the constructor explicitly. The constructor, __init__(), is automatically called when you create a new instance of a class. However, you can simulate constructor overloading by defining multiple __init__() methods with different parameter lists."
   ]
  },
  {
   "cell_type": "code",
   "execution_count": null,
   "id": "f87c6c3b-34d3-44c0-94af-5a71f8ad334d",
   "metadata": {},
   "outputs": [],
   "source": [
    "class Person:\n",
    "    def __init__(self, name=None, age=None):\n",
    "        if name is not None and age is not None:\n",
    "            self.name = name\n",
    "            self.age = age\n",
    "        elif name is not None:\n",
    "            self.name = name\n",
    "            self.age = 0\n",
    "        else:\n",
    "            self.name = \"Unknown\"\n",
    "            self.age = 0\n",
    "\n",
    "\n",
    "person1 = Person(\"Alice\", 30)  \n",
    "person2 = Person(\"Bob\")     \n",
    "person3 = Person()"
   ]
  },
  {
   "cell_type": "code",
   "execution_count": null,
   "id": "5e805e4c-423e-4af4-b746-10e4028cdbbd",
   "metadata": {},
   "outputs": [],
   "source": [
    "#7 What is the significance of the `self` parameter in Python constructors? Explain with an example."
   ]
  },
  {
   "cell_type": "markdown",
   "id": "e7c80a99-48b6-472a-bf83-7a73f39510df",
   "metadata": {},
   "source": [
    " the self parameter in constructors (and all other instance methods) refers to the instance of the class itself. It allows you to access and manipulate the instance's attributes and methods within the class definition. When a method is called on an object, Python automatically passes the object itself as the first argument to the method.\n",
    "\n",
    "The significance of the self parameter in constructors can be understood through the following points:\n",
    "\n",
    "Accessing Instance Attributes: Inside the constructor, self is used to access and initialize instance attributes. It allows you to differentiate between local variables and instance variables within the class.\n",
    "\n",
    "Referencing Instance Methods: self allows you to call other instance methods within the constructor or any other instance method of the class.\n",
    "\n",
    "Maintaining State: By using self, you can maintain the state of individual instances of the class. Each instance can have its own set of attributes and values."
   ]
  },
  {
   "cell_type": "code",
   "execution_count": null,
   "id": "a20dc114-c323-44e0-8f06-9622ceb5ea2e",
   "metadata": {},
   "outputs": [],
   "source": [
    "class Person:\n",
    "    def __init__(self, name, age):\n",
    "        self.name = name   \n",
    "        self.age = age     \n",
    "    def introduce(self):\n",
    "        return f\"Hello, my name is {self.name} and I'm {self.age} years old.\"\n",
    "\n",
    "\n",
    "person1 = Person(\"Alice\", 30)\n",
    "person2 = Person(\"Bob\", 25)"
   ]
  },
  {
   "cell_type": "code",
   "execution_count": null,
   "id": "c57dc208-93fe-4ce1-981a-a6ac55f05aa8",
   "metadata": {},
   "outputs": [],
   "source": [
    "#8 Discuss the concept of default constructors in Python. When are they used?"
   ]
  },
  {
   "cell_type": "markdown",
   "id": "dc043010-b29d-4d23-a925-ca7eb3661695",
   "metadata": {},
   "source": [
    " in Python, if you don't explicitly define a constructor (__init__() method) in a class, Python provides a default constructor implicitly. This default constructor takes no arguments and doesn't do anything except initializing the object. This behavior is similar to explicitly defining an empty __init__() method.\n",
    "\n",
    "Default constructors are used in Python when:\n",
    "\n",
    "No explicit constructor is defined: If you don't define a constructor in your class, Python provides a default constructor implicitly.\n",
    "Simple initialization is sufficient: If your class doesn't require any special initialization logic and you're satisfied with initializing the object with default values, you can rely on the default constructor provided by Python."
   ]
  },
  {
   "cell_type": "code",
   "execution_count": null,
   "id": "377ee2bb-2977-4911-9b51-b8fec12de907",
   "metadata": {},
   "outputs": [],
   "source": [
    "class MyClass:\n",
    "    pass\n",
    "\n",
    "obj = MyClass()"
   ]
  },
  {
   "cell_type": "code",
   "execution_count": null,
   "id": "c7f3dea9-a3e4-419e-b1c4-547a0a84bc4b",
   "metadata": {},
   "outputs": [],
   "source": [
    "#9 Create a Python class called `Rectangle` with a constructor that initializes the `width` and `height` attributes. Provide a method to calculate the area of the rectangle."
   ]
  },
  {
   "cell_type": "code",
   "execution_count": null,
   "id": "dd2de4fc-2216-4e6c-8b5e-1ab964f7c9ee",
   "metadata": {},
   "outputs": [],
   "source": [
    "class Rectangle:\n",
    "    def __init__(self, width, height):\n",
    "        self.width = width\n",
    "        self.height = height\n",
    "\n",
    "    def calculate_area(self):\n",
    "        return self.width * self.height\n",
    "\n",
    "rectangle = Rectangle(5, 3)"
   ]
  },
  {
   "cell_type": "code",
   "execution_count": null,
   "id": "1989c09c-c345-48dd-af58-72beba30abea",
   "metadata": {},
   "outputs": [],
   "source": [
    "#10 How can you have multiple constructors in a Python class? Explain with an example."
   ]
  },
  {
   "cell_type": "code",
   "execution_count": null,
   "id": "549e1e03-8db6-495e-842a-225bffdb56e4",
   "metadata": {},
   "outputs": [],
   "source": [
    "class Rectangle:\n",
    "    def __init__(self, width=None, height=None):\n",
    "        if width is not None and height is not None:\n",
    "            self.width = width\n",
    "            self.height = height\n",
    "        elif width is not None:\n",
    "            self.width = width\n",
    "            self.height = width\n",
    "        else:\n",
    "            self.width = 1\n",
    "            self.height = 1\n",
    "\n",
    "    def calculate_area(self):\n",
    "        return self.width * self.height\n",
    "\n",
    "rectangle1 = Rectangle(5, 3)  \n",
    "rectangle2 = Rectangle(4)     \n",
    "rectangle3 = Rectangle() "
   ]
  },
  {
   "cell_type": "code",
   "execution_count": null,
   "id": "c9b425ef-b437-434c-88bd-78c48680fa83",
   "metadata": {},
   "outputs": [],
   "source": [
    "#11 What is method overloading, and how is it related to constructors in Python?"
   ]
  },
  {
   "cell_type": "markdown",
   "id": "0aaaf8dc-2489-4f4b-a5e9-6930ac00a58d",
   "metadata": {},
   "source": [
    "Method overloading is a concept in object-oriented programming where multiple methods can have the same name but different parameter lists. The choice of which method to execute is determined by the number and types of arguments passed to it during invocation.\n",
    "\n",
    "method overloading can be simulated in constructors by defining multiple __init__() methods with different parameter lists. This allows you to create objects using different sets of parameters, providing flexibility in object initialization."
   ]
  },
  {
   "cell_type": "code",
   "execution_count": null,
   "id": "cf63a7b7-6573-48b7-a05c-b46f0f19ba4c",
   "metadata": {},
   "outputs": [],
   "source": [
    "class Addition:\n",
    "    def __init__(self, *add):\n",
    "        self.add=add\n",
    "\n",
    "    def add(self):\n",
    "        return sum(add)\n",
    "        \n",
    "add1 = Addition(5, 3) \n",
    "add2 = Addition(4)"
   ]
  },
  {
   "cell_type": "code",
   "execution_count": null,
   "id": "5b6538b8-24ab-4b39-9441-7144825b99e0",
   "metadata": {},
   "outputs": [],
   "source": [
    "#12 Explain the use of the `super()` function in Python constructors. Provide an example."
   ]
  },
  {
   "cell_type": "markdown",
   "id": "1acd13bd-a8f4-47ba-a0d5-d1c495bc6df6",
   "metadata": {},
   "source": [
    "the super() function is used to call methods and constructors of the parent class (also known as the superclass) from the subclass. This allows you to invoke methods or constructors defined in the superclass within the context of the subclass."
   ]
  },
  {
   "cell_type": "code",
   "execution_count": null,
   "id": "a33f3a26-2d43-4483-ae2a-2116bf139602",
   "metadata": {},
   "outputs": [],
   "source": [
    "class Parent:\n",
    "    def __init__(self, name):\n",
    "        self.name = name\n",
    "        print(\"Parent class constructor\")\n",
    "\n",
    "class Child(Parent):\n",
    "    def __init__(self, name, age):\n",
    "        super().__init__(name)  \n",
    "        self.age = age\n",
    "        print(\"Child class constructor\")\n",
    "\n",
    "\n",
    "child = Child(\"Alice\", 30)"
   ]
  },
  {
   "cell_type": "code",
   "execution_count": null,
   "id": "aef5877b-facc-4c92-8e16-f138740c23a4",
   "metadata": {},
   "outputs": [],
   "source": [
    "#13 Create a class called `Book` with a constructor that initializes the `title`, `author`, and `published_year` attributes. Provide a method to display book details."
   ]
  },
  {
   "cell_type": "code",
   "execution_count": null,
   "id": "9d833d1c-b40a-4397-a7dd-21822d532f5c",
   "metadata": {},
   "outputs": [],
   "source": [
    "class Book:\n",
    "    def __init__(self, title, author, published_year):\n",
    "        self.title = title\n",
    "        self.author = author\n",
    "        self.published_year = published_year\n",
    "\n",
    "    def display_details(self):\n",
    "        return f\"Title: {self.title}, Author: {self.author}, Published Year: {self.published_year}\"\n",
    "\n",
    "\n",
    "    \n",
    "book1 = Book(\"The Great Gatsby\", \"F. Scott Fitzgerald\", 1925)\n",
    "print(book1.display_details())"
   ]
  },
  {
   "cell_type": "code",
   "execution_count": null,
   "id": "f792880c-d35c-456f-9491-b63525db13e0",
   "metadata": {},
   "outputs": [],
   "source": [
    "#14 Discuss the differences between constructors and regular methods in Python classes."
   ]
  },
  {
   "cell_type": "markdown",
   "id": "aa5cf145-334f-49d9-8d0f-9c03facfd9a9",
   "metadata": {},
   "source": [
    "Constructors and regular methods in Python classes serve different purposes and have distinct characteristics. Here are the key differences between them:\n",
    "\n",
    "Purpose:\n",
    "\n",
    "Constructors: Constructors are special methods used for initializing objects of a class. They are automatically called when an instance of the class is created.\n",
    "Regular Methods: Regular methods perform specific tasks or operations related to the class. They are called explicitly on instances of the class.\n",
    "Name:\n",
    "\n",
    "Constructors: Constructors in Python are named __init__() by convention. They are used to initialize the object's attributes.\n",
    "Regular Methods: Regular methods have arbitrary names and perform various tasks or operations related to the class.\n",
    "Invocation:\n",
    "\n",
    "Constructors: Constructors are automatically invoked when an instance of the class is created using the class name followed by parentheses.\n",
    "Regular Methods: Regular methods must be called explicitly using the instance of the class followed by dot notation (instance.method()).\n",
    "Return Value:\n",
    "\n",
    "Constructors: Constructors don't return any value explicitly. Their primary purpose is to initialize object attributes.\n",
    "Regular Methods: Regular methods can return values and perform a wide range of operations, depending on their implementation.\n",
    "Usage:\n",
    "\n",
    "Constructors: Constructors are used to initialize the state of newly created objects. They set initial values for object attributes.\n",
    "Regular Methods: Regular methods perform various tasks or operations on the object's data. They can manipulate attributes, perform calculations, or provide information about the object.\n",
    "Invocation Context:\n",
    "\n",
    "Constructors: Constructors operate in the context of creating new instances of the class. They are used to set up the initial state of the object.\n",
    "Regular Methods: Regular methods operate within the context of existing instances of the class. They interact with the object's attributes and behavior."
   ]
  },
  {
   "cell_type": "code",
   "execution_count": null,
   "id": "8ffa96a6-9a78-47a8-a5a1-6180f8c129d0",
   "metadata": {},
   "outputs": [],
   "source": [
    "#15 Explain the role of the `self` parameter in instance variable initialization within a constructor."
   ]
  },
  {
   "cell_type": "markdown",
   "id": "6dc15992-d95b-4a43-8e3c-d465a9b090a9",
   "metadata": {},
   "source": [
    "\n",
    "In Python, the self parameter in a constructor plays a crucial role in initializing instance variables. The self parameter refers to the instance of the class itself, allowing you to access and modify instance variables within the class's methods, including the constructor (__init__() method).\n",
    "\n",
    "Here's the role of the self parameter in instance variable initialization within a constructor:\n",
    "\n",
    "Accessing Instance Variables: Within the constructor, self is used to access instance variables. Instance variables are unique to each instance of the class, and self allows you to differentiate between instance variables and local variables within the class.\n",
    "\n",
    "Initializing Instance Variables: The primary purpose of the constructor is to initialize instance variables. By using self, you can assign values to instance variables during object creation, ensuring that each instance has its own set of attributes.\n",
    "\n",
    "Maintaining State: self helps in maintaining the state of individual instances of the class. Instance variables initialized within the constructor hold specific values for each instance, allowing objects to maintain their state independently.\n",
    "\n",
    "Instance Variable Visibility: Using self ensures that instance variables are scoped to the class instance, making them accessible throughout the class's methods. This allows you to access and manipulate instance variables across different methods of the class."
   ]
  },
  {
   "cell_type": "code",
   "execution_count": null,
   "id": "ff8e1672-199c-459d-b182-fd867f5701ce",
   "metadata": {},
   "outputs": [],
   "source": [
    "#16 How do you prevent a class from having multiple instances by using constructors in Python? Provide an example."
   ]
  },
  {
   "cell_type": "markdown",
   "id": "da2e53e7-a0cf-4853-a534-7d728b012ac7",
   "metadata": {},
   "source": [
    "In Python, preventing a class from having multiple instances can be achieved by implementing a singleton pattern. The singleton pattern ensures that a class has only one instance and provides a global point of access to that instance. Let’s explore how to create a singleton class using constructors."
   ]
  },
  {
   "cell_type": "code",
   "execution_count": null,
   "id": "dc843603-bcae-4115-af37-add74387698f",
   "metadata": {},
   "outputs": [],
   "source": [
    "class Singleton:\n",
    "    _instance = None\n",
    "\n",
    "    def __new__(cls):\n",
    "        if cls._instance is None:\n",
    "            cls._instance = super().__new__(cls)\n",
    "            cls._instance.value = 0\n",
    "        return cls._instance\n",
    "\n",
    "    def increment(self):\n",
    "        self.value += 1\n",
    "\n",
    "# Usage\n",
    "singleton1 = Singleton()\n",
    "singleton2 = Singleton()\n",
    "\n",
    "singleton1.increment()\n",
    "singleton2.increment()\n",
    "\n",
    "print(f\"Value in singleton1: {singleton1.value}\")  # Output: Value in singleton1: 2\n",
    "print(f\"Value in singleton2: {singleton2.value}\")  # Output: Value in singleton2: 2\n"
   ]
  },
  {
   "cell_type": "code",
   "execution_count": null,
   "id": "96b95460-d526-4536-a64c-cd71bb1fd4fb",
   "metadata": {},
   "outputs": [],
   "source": [
    "#17 Create a Python class called `Student` with a constructor that takes a list of subjects as a parameter and initializes the `subjects` attribute."
   ]
  },
  {
   "cell_type": "code",
   "execution_count": null,
   "id": "1662c531-191d-4b7f-a59b-9a56e7cd5003",
   "metadata": {},
   "outputs": [],
   "source": [
    "class Student:\n",
    "    def __init__(self, subjects):\n",
    "        self.subjects = subjects\n",
    "\n",
    "\n",
    "\n",
    "student1 = Student([\"Math\", \"Science\", \"History\"])\n",
    "print(\"Subjects of student1:\", student1.subjects)"
   ]
  },
  {
   "cell_type": "code",
   "execution_count": null,
   "id": "e1f7ea6b-0d72-4cf3-96e1-03e63bff7178",
   "metadata": {},
   "outputs": [],
   "source": [
    "#18 What is the purpose of the `__del__` method in Python classes, and how does it relate to constructors?"
   ]
  },
  {
   "cell_type": "markdown",
   "id": "6a4cb244-cdf2-40e0-8fe6-81a11a696317",
   "metadata": {},
   "source": [
    "\n",
    "The __del__ method in Python classes serves as a destructor, which is called when an object is about to be destroyed (i.e., its memory is about to be released). It is the opposite of the constructor (__init__), which is called when an object is initialized.\n",
    "\n",
    "The purpose of the __del__ method is to perform any cleanup or finalization tasks before the object is destroyed. This may include releasing resources, closing files, or any other cleanup operations necessary for the object.\n",
    "\n",
    "The __del__ method relates to constructors in that they both are special methods in Python classes that are automatically called under certain circumstances:\n",
    "\n",
    "Constructor (__init__):\n",
    "\n",
    "The constructor __init__ is called automatically when an instance of the class is created. It initializes the object's attributes and sets up its initial state.\n",
    "Destructor (__del__):\n",
    "\n",
    "The destructor __del__ is called automatically when the reference count of an object drops to zero, indicating that there are no more references to the object. At this point, the object is no longer needed and is scheduled for deletion by the garbage collector.\n",
    "The __del__ method is not guaranteed to be called immediately when the last reference to the object goes out of scope. Instead, it is called at some point in the future when the garbage collector runs and determines that the object is no longer needed."
   ]
  },
  {
   "cell_type": "code",
   "execution_count": null,
   "id": "51d76aab-8a9d-47df-932d-07c03b92205b",
   "metadata": {},
   "outputs": [],
   "source": [
    "#19 Explain the use of constructor chaining in Python. Provide a practical example."
   ]
  },
  {
   "cell_type": "markdown",
   "id": "fcdbf160-4715-486b-ad1c-d51012a20a14",
   "metadata": {},
   "source": [
    "\n",
    "Constructor chaining in Python refers to the process of one constructor calling another constructor within the same class or within its parent class. This allows you to avoid code duplication by reusing initialization logic defined in other constructors.\n",
    "\n",
    "In Python, constructor chaining is typically achieved using the super() function, which allows you to call methods (including constructors) of the superclass within a subclass."
   ]
  },
  {
   "cell_type": "code",
   "execution_count": null,
   "id": "b3f153fe-e2bf-4c43-9537-847c875e6250",
   "metadata": {},
   "outputs": [],
   "source": [
    "class Parent:\n",
    "    def __init__(self, name):\n",
    "        self.name = name\n",
    "        print(\"Parent constructor\")\n",
    "\n",
    "class Child(Parent):\n",
    "    def __init__(self, name, age):\n",
    "        super().__init__(name) \n",
    "        self.age = age\n",
    "        print(\"Child constructor\")\n",
    "\n",
    "\n",
    "child = Child(\"Alice\", 30)\n",
    "print(\"Name:\", child.name)\n",
    "print(\"Age:\", child.age)"
   ]
  },
  {
   "cell_type": "code",
   "execution_count": null,
   "id": "b8684de7-f60f-495d-a609-fb92f1d667f5",
   "metadata": {},
   "outputs": [],
   "source": [
    "#20 Create a Python class called `Car` with a default constructor that initializes the `make` and `model` attributes. Provide a method to display car information."
   ]
  },
  {
   "cell_type": "code",
   "execution_count": null,
   "id": "32e76d7f-4a6c-4a16-a52f-422651a0844a",
   "metadata": {},
   "outputs": [],
   "source": [
    "class Car:\n",
    "    def __init__(self, make, model):\n",
    "        self.make = make\n",
    "        self.model = model\n",
    "\n",
    "    def display_info(self):\n",
    "        return f\"Make: {self.make}, Model: {self.model}\"\n",
    "\n",
    "\n",
    "car1 = Car(\"Toyota\", \"Camry\")\n",
    "print(car1.display_info())"
   ]
  },
  {
   "cell_type": "markdown",
   "id": "625c5e01-9c17-40f8-89ee-6600bf261b99",
   "metadata": {},
   "source": [
    "Problems on Inheritance "
   ]
  },
  {
   "cell_type": "code",
   "execution_count": null,
   "id": "0bf97ecc-8c61-4574-b092-e77832a55a59",
   "metadata": {},
   "outputs": [],
   "source": [
    "#1 What is inheritance in Python? Explain its significance in object-oriented programming."
   ]
  },
  {
   "cell_type": "markdown",
   "id": "d0eef5b4-3ffe-4098-bb24-d58bd1dd92e2",
   "metadata": {},
   "source": [
    "Inheritance in Python is a mechanism where a new class (subclass) can acquire the properties and behaviors of an existing class (superclass or parent class). The subclass can extend or modify the functionality of the superclass, while still retaining its characteristics. This allows for code reuse and promotes modularity in object-oriented programming.\n",
    "\n",
    "Here's a breakdown of the key concepts related to inheritance in Python:\n",
    "\n",
    "Superclass (Parent Class):\n",
    "\n",
    "The superclass is the existing class from which properties and behaviors are inherited.\n",
    "It serves as a blueprint for creating subclasses.\n",
    "It may have its own attributes and methods that can be inherited by subclasses.\n",
    "Subclass (Derived Class):\n",
    "\n",
    "The subclass is the new class that inherits properties and behaviors from the superclass.\n",
    "It can add new attributes and methods, and override existing ones defined in the superclass.\n",
    "It can also inherit from multiple superclasses, known as multiple inheritance.\n",
    "Inheriting Attributes and Methods:\n",
    "\n",
    "Subclasses inherit attributes and methods of the superclass without having to redefine them.\n",
    "This promotes code reuse and helps in avoiding redundancy.\n",
    "Overriding Methods:\n",
    "\n",
    "Subclasses can override methods inherited from the superclass by providing their own implementation.\n",
    "This allows subclasses to customize the behavior of inherited methods according to their specific requirements.\n",
    "Access to Superclass Methods:\n",
    "\n",
    "Subclasses can access methods of the superclass using the super() function.\n",
    "This enables subclasses to invoke methods defined in the superclass, facilitating code organization and maintenance.\n",
    "Promotes Modularity and Code Reusability:\n",
    "\n",
    "Inheritance encourages the creation of modular and reusable code.\n",
    "Common functionality can be encapsulated in a superclass and shared by multiple subclasses, reducing code duplication and improving maintainability."
   ]
  },
  {
   "cell_type": "code",
   "execution_count": null,
   "id": "22bfc96e-1ec6-47ac-9829-fb7b422c4046",
   "metadata": {},
   "outputs": [],
   "source": [
    "#2 Differentiate between single inheritance and multiple inheritance in Python. Provide examples for each."
   ]
  },
  {
   "cell_type": "markdown",
   "id": "ac8b43e6-8b62-42bf-9bb7-b0f09243efe3",
   "metadata": {},
   "source": [
    "Single Inheritance:\n",
    "\n",
    "Single inheritance involves a subclass inheriting from only one superclass.\n",
    "It forms a linear hierarchy, where each subclass has only one direct superclass.\n",
    "Single inheritance is straightforward and easier to understand compared to multiple inheritance.\n",
    "\n",
    "Multiple Inheritance:\n",
    "\n",
    "Multiple inheritance involves a subclass inheriting from more than one superclass.\n",
    "It allows a subclass to inherit attributes and methods from multiple parent classes.\n",
    "The order of inheritance matters, as it determines the method resolution order (MRO) when resolving attributes and methods."
   ]
  },
  {
   "cell_type": "code",
   "execution_count": null,
   "id": "fa914337-599f-4dda-86b0-e841573406bc",
   "metadata": {},
   "outputs": [],
   "source": [
    "class Animal:\n",
    "    def sound(self):\n",
    "        print(\"Animal makes a sound\")\n",
    "\n",
    "class Dog(Animal): \n",
    "    def bark(self):\n",
    "        print(\"Dog barks\")\n",
    "\n",
    "dog = Dog()\n",
    "dog.sound()  \n",
    "dog.bark()   \n",
    "\n",
    "#-------------------------------------------------------#\n",
    "\n",
    "class A:\n",
    "    def method_a(self):\n",
    "        print(\"Method A\")\n",
    "\n",
    "class B:\n",
    "    def method_b(self):\n",
    "        print(\"Method B\")\n",
    "\n",
    "class C(A, B):  \n",
    "    def method_c(self):\n",
    "        print(\"Method C\")\n",
    "\n",
    "obj = C()\n",
    "obj.method_a() \n",
    "obj.method_b() \n",
    "obj.method_c()  "
   ]
  },
  {
   "cell_type": "code",
   "execution_count": null,
   "id": "b1720928-0752-4719-8507-33a2028ad0a0",
   "metadata": {},
   "outputs": [],
   "source": [
    "#3 Create a Python class called `Vehicle` with attributes `color` and `speed`. Then, create a child class called `Car` that inherits from `Vehicle` and adds a `brand` attribute. Provide an example of creating a `Car` object."
   ]
  },
  {
   "cell_type": "code",
   "execution_count": null,
   "id": "a04a750d-617e-468a-8e3d-46afd5b379dd",
   "metadata": {},
   "outputs": [],
   "source": [
    "class Vehicle:\n",
    "    def __init__(self, color, speed):\n",
    "        self.color = color\n",
    "        self.speed = speed\n",
    "\n",
    "class Car(Vehicle):\n",
    "    def __init__(self, color, speed, brand):\n",
    "        super().__init__(color, speed)  # Call the constructor of the superclass\n",
    "        self.brand = brand\n",
    "\n",
    "# Creating a Car object\n",
    "car = Car(\"Red\", 120, \"Toyota\")\n",
    "\n",
    "# Accessing attributes of the Car object\n",
    "print(\"Color:\", car.color)\n",
    "print(\"Speed:\", car.speed)\n",
    "print(\"Brand:\", car.brand)"
   ]
  },
  {
   "cell_type": "code",
   "execution_count": null,
   "id": "fd4d6506-0f34-41f2-84ac-c553f3acd167",
   "metadata": {},
   "outputs": [],
   "source": [
    "#4 Explain the concept of method overriding in inheritance. Provide a practical example."
   ]
  },
  {
   "cell_type": "markdown",
   "id": "3b6cce38-afb7-4100-a718-0ce9c534b33b",
   "metadata": {},
   "source": [
    "Method overriding in inheritance refers to the ability of a subclass to provide its own implementation of a method that is already defined in its superclass. When a method is overridden in a subclass, the subclass version of the method is executed instead of the superclass version when called on an object of the subclass."
   ]
  },
  {
   "cell_type": "code",
   "execution_count": null,
   "id": "e79c15dc-e7ed-49f1-985e-7dfc36b91703",
   "metadata": {},
   "outputs": [],
   "source": [
    "class Animal:\n",
    "    def sound(self):\n",
    "        return \"Animal makes a sound\"\n",
    "\n",
    "class Dog(Animal):\n",
    "    def sound(self):\n",
    "        return \"Dog barks\"\n",
    "\n",
    "class Cat(Animal):\n",
    "    def sound(self):\n",
    "        return \"Cat meows\"\n",
    "\n",
    "# Creating instances of Dog and Cat classes\n",
    "dog = Dog()\n",
    "cat = Cat()\n",
    "\n",
    "# Calling the sound() method on objects of Dog and Cat\n",
    "print(dog.sound())  # Output: Dog barks\n",
    "print(cat.sound())  # Output: Cat meows"
   ]
  },
  {
   "cell_type": "code",
   "execution_count": null,
   "id": "6527df6f-cb08-42bd-b607-6d028f0c7743",
   "metadata": {},
   "outputs": [],
   "source": [
    "#5 How can you access the methods and attributes of a parent class from a child class in Python? Give an example."
   ]
  },
  {
   "cell_type": "markdown",
   "id": "fdab36da-cd15-4c0f-93d8-7ebbb9246d6e",
   "metadata": {},
   "source": [
    "In Python, you can access the methods and attributes of a parent class from a child class using the super() function or by directly referencing the parent class name."
   ]
  },
  {
   "cell_type": "code",
   "execution_count": null,
   "id": "9136d6fe-5cfb-48f4-ab5e-d00e9cf859a1",
   "metadata": {},
   "outputs": [],
   "source": [
    "class Parent:\n",
    "    def __init__(self, value):\n",
    "        self.value = value\n",
    "\n",
    "    def parent_method(self):\n",
    "        print(\"Parent method called\")\n",
    "\n",
    "class Child(Parent):\n",
    "    def __init__(self, value, child_value):\n",
    "        super().__init__(value)  # Using super() to call parent class constructor\n",
    "        self.child_value = child_value\n",
    "\n",
    "    def child_method(self):\n",
    "        print(\"Child method called\")\n",
    "\n",
    "    def access_parent(self):\n",
    "        print(\"Accessing parent method and attribute:\")\n",
    "        super().parent_method()  # Using super() to call parent class method\n",
    "        print(\"Parent attribute value:\", super().value)  # Using super() to access parent class attribute\n",
    "        # Alternatively, you can use Parent.parent_method() and Parent.value directly\n",
    "\n",
    "# Creating an instance of the Child class\n",
    "child_obj = Child(10, 20)\n",
    "\n",
    "# Accessing methods and attributes of the Parent class from the Child class\n",
    "child_obj.access_parent()"
   ]
  },
  {
   "cell_type": "code",
   "execution_count": null,
   "id": "7a734f16-ce76-458b-80db-eb6cbfa80926",
   "metadata": {},
   "outputs": [],
   "source": [
    "#6 Discuss the use of the `super()` function in Python inheritance. When and why is it used? Provide an example."
   ]
  },
  {
   "cell_type": "markdown",
   "id": "8f893dcb-7091-4e49-a729-0a75c99ea459",
   "metadata": {},
   "source": [
    "The super() function in Python is used in inheritance to call methods and access attributes of the superclass (parent class) from within the subclass (child class). It provides a way to invoke methods defined in the superclass without explicitly naming the superclass. The primary purpose of super() is to facilitate cooperative method overriding and inheritance."
   ]
  },
  {
   "cell_type": "code",
   "execution_count": null,
   "id": "34323cd1-3fcc-498a-b77a-f4e11312cd49",
   "metadata": {},
   "outputs": [],
   "source": [
    "class Parent:\n",
    "    def __init__(self, name):\n",
    "        self.name = name\n",
    "\n",
    "    def greet(self):\n",
    "        return f\"Hello, I am {self.name}\"\n",
    "\n",
    "class Child(Parent):\n",
    "    def __init__(self, name, age):\n",
    "        super().__init__(name)  # Calling superclass constructor\n",
    "        self.age = age\n",
    "\n",
    "    def greet(self):\n",
    "        # Calling superclass method and extending behavior\n",
    "        return super().greet() + f\" and I am {self.age} years old\"\n",
    "\n",
    "# Creating an instance of the Child class\n",
    "child = Child(\"Alice\", 5)\n",
    "\n",
    "# Accessing methods of Parent and Child classes\n",
    "print(child.greet())  # Output: Hello, I am Alice and I am 5 years old"
   ]
  },
  {
   "cell_type": "code",
   "execution_count": null,
   "id": "01c7bc7d-36f4-436f-ae5f-63121431e72f",
   "metadata": {},
   "outputs": [],
   "source": [
    "#7 Create a Python class called `Animal` with a method `speak()`. Then, create child classes `Dog` and `Cat` that inherit from `Animal` and override the `speak()` method. Provide an example of using these classes."
   ]
  },
  {
   "cell_type": "code",
   "execution_count": null,
   "id": "36809075-5460-403a-bfd1-10e58fd9e014",
   "metadata": {},
   "outputs": [],
   "source": [
    "class Animal:\n",
    "    def speak(self):\n",
    "        pass  # Placeholder method to be overridden in subclasses\n",
    "\n",
    "class Dog(Animal):\n",
    "    def speak(self):\n",
    "        return \"Bow!\"  # Dog's speak method\n",
    "\n",
    "class Cat(Animal):\n",
    "    def speak(self):\n",
    "        return \"Meow!\"  # Cat's speak method\n",
    "\n",
    "# Example usage\n",
    "dog = Dog()\n",
    "print(\"Dog says:\", dog.speak())  \n",
    "\n",
    "cat = Cat()\n",
    "print(\"Cat says:\", cat.speak()) "
   ]
  },
  {
   "cell_type": "code",
   "execution_count": null,
   "id": "230566dd-3bc2-413b-a50c-3505e1c50300",
   "metadata": {},
   "outputs": [],
   "source": [
    "#8 Explain the role of the `isinstance()` function in Python and how it relates to inheritance."
   ]
  },
  {
   "cell_type": "markdown",
   "id": "255561c7-2ae1-4ad2-a96a-559968758648",
   "metadata": {},
   "source": [
    "In Python, the isinstance() function is used to check whether an object belongs to a particular class or any of its subclasses. It returns True if the object is an instance of the specified class or any of its subclasses, and False otherwise. The isinstance() function plays a crucial role in determining the type of objects and performing type-checking operations."
   ]
  },
  {
   "cell_type": "code",
   "execution_count": null,
   "id": "140a080b-29a2-4727-9d6a-ca51cf83f398",
   "metadata": {},
   "outputs": [],
   "source": [
    "class Animal:\n",
    "    pass\n",
    "\n",
    "class Dog(Animal):\n",
    "    pass\n",
    "\n",
    "class Cat(Animal):\n",
    "    pass\n",
    "\n",
    "# Create instances of Dog and Cat\n",
    "dog = Dog()\n",
    "cat = Cat()\n",
    "\n",
    "# Check if objects are instances of Animal or its subclasses\n",
    "print(isinstance(dog, Animal))  # Output: True\n",
    "print(isinstance(cat, Animal))  # Output: True\n",
    "\n",
    "# Check if objects are instances of specific classes\n",
    "print(isinstance(dog, Dog))     # Output: True\n",
    "print(isinstance(cat, Cat))     # Output: True\n",
    "\n",
    "# Check if objects are instances of classes unrelated to the inheritance hierarchy\n",
    "print(isinstance(dog, int))     # Output: False\n",
    "print(isinstance(cat, str))     # Output: False"
   ]
  },
  {
   "cell_type": "code",
   "execution_count": null,
   "id": "42f25592-33d6-4f3a-abbe-77e08978539e",
   "metadata": {},
   "outputs": [],
   "source": [
    "#9 What is the purpose of the `issubclass()` function in Python? Provide an example."
   ]
  },
  {
   "cell_type": "markdown",
   "id": "080856ee-866b-4a5b-9147-dc2b47556dcf",
   "metadata": {},
   "source": [
    "In Python, the issubclass() function is used to check whether a class is a subclass of another class. It returns True if the first argument is a subclass of the second argument, and False otherwise. The issubclass() function is particularly useful for verifying class relationships and determining inheritance hierarchies."
   ]
  },
  {
   "cell_type": "code",
   "execution_count": null,
   "id": "02973688-d54b-4759-bade-cc45ee8cedb4",
   "metadata": {},
   "outputs": [],
   "source": [
    "class Animal:\n",
    "    pass\n",
    "\n",
    "class Dog(Animal):\n",
    "    pass\n",
    "\n",
    "class Cat(Animal):\n",
    "    pass\n",
    "\n",
    "# Check if Dog and Cat are subclasses of Animal\n",
    "print(issubclass(Dog, Animal))  # Output: True\n",
    "print(issubclass(Cat, Animal))  # Output: True\n",
    "\n",
    "# Check if Animal is a subclass of Dog or Cat\n",
    "print(issubclass(Animal, Dog))  # Output: False\n",
    "print(issubclass(Animal, Cat))  # Output: False\n",
    "\n",
    "# Check if Dog and Cat are subclasses of object (base class of all classes)\n",
    "print(issubclass(Dog, object))  # Output: True\n",
    "print(issubclass(Cat, object))  # Output: True"
   ]
  },
  {
   "cell_type": "code",
   "execution_count": null,
   "id": "f3d81b16-fa7f-4706-897e-298141f6c7ba",
   "metadata": {},
   "outputs": [],
   "source": [
    "#10 Discuss the concept of constructor inheritance in Python. How are constructors inherited in child classes?"
   ]
  },
  {
   "cell_type": "markdown",
   "id": "018b22b0-7777-48ee-aed0-78045bdd403c",
   "metadata": {},
   "source": [
    "In Python, constructors are inherited in child classes through the process of constructor inheritance. When a subclass is created, it automatically inherits the constructor (init() method) of its superclass (parent class) unless the subclass defines its own constructor."
   ]
  },
  {
   "cell_type": "code",
   "execution_count": null,
   "id": "e0f78a8b-9e17-40f2-91c4-875110df350d",
   "metadata": {},
   "outputs": [],
   "source": [
    "class Parent:\n",
    "    def __init__(self, parent_attr):\n",
    "        self.parent_attr = parent_attr\n",
    "        print(\"Parent constructor\")\n",
    "\n",
    "class Child(Parent):\n",
    "    def __init__(self, parent_attr, child_attr):\n",
    "        super().__init__(parent_attr)  # Call the constructor of the Parent class\n",
    "        self.child_attr = child_attr\n",
    "        print(\"Child constructor\")\n",
    "\n",
    "# Creating an instance of the Child class\n",
    "child = Child(\"Parent Attribute\", \"Child Attribute\")\n"
   ]
  },
  {
   "cell_type": "code",
   "execution_count": null,
   "id": "79523bec-7958-4d8e-8a41-042b021daf4d",
   "metadata": {},
   "outputs": [],
   "source": [
    "#11 Create a Python class called `Shape` with a method `area()` that calculates the area of a shape. Then, create child classes `Circle` and `Rectangle` that inherit from `Shape` and implement the `area()` method accordingly. Provide an example."
   ]
  },
  {
   "cell_type": "code",
   "execution_count": null,
   "id": "4103f095-a01c-465b-8c27-9c9bbba6499d",
   "metadata": {},
   "outputs": [],
   "source": [
    "import math\n",
    "\n",
    "class Shape:\n",
    "    def area(self):\n",
    "        pass  # Placeholder method to be overridden in subclasses\n",
    "\n",
    "class Circle(Shape):\n",
    "    def __init__(self, radius):\n",
    "        self.radius = radius\n",
    "\n",
    "    def area(self):\n",
    "        return math.pi * self.radius ** 2\n",
    "\n",
    "class Rectangle(Shape):\n",
    "    def __init__(self, width, height):\n",
    "        self.width = width\n",
    "        self.height = height\n",
    "\n",
    "    def area(self):\n",
    "        return self.width * self.height\n",
    "\n",
    "# Example usage\n",
    "circle = Circle(5)\n",
    "print(\"Area of circle:\", circle.area())  # Output: Area of circle: 78.53981633974483\n",
    "\n",
    "rectangle = Rectangle(4, 6)\n",
    "print(\"Area of rectangle:\", rectangle.area())  # Output: Area of rectangle: 24"
   ]
  },
  {
   "cell_type": "code",
   "execution_count": null,
   "id": "0269791a-b3ae-495a-899a-4ea1bcd9876a",
   "metadata": {},
   "outputs": [],
   "source": [
    "#12 Explain the use of abstract base classes (ABCs) in Python and how they relate to inheritance. Provide an example using the `abc` module."
   ]
  },
  {
   "cell_type": "markdown",
   "id": "af970d54-fb0b-4cd3-9fcf-b85a966358b1",
   "metadata": {},
   "source": [
    "Abstract Base Classes (ABCs) in Python provide a way to define a common interface for a group of related classes, ensuring that subclasses implement certain methods or properties. ABCs help enforce a contract between classes, making it clear which methods must be implemented by subclasses. They are particularly useful for defining a common interface for a family of classes while allowing each subclass to provide its own implementation."
   ]
  },
  {
   "cell_type": "code",
   "execution_count": null,
   "id": "794d1d04-7e70-415e-af23-b021671f4e43",
   "metadata": {},
   "outputs": [],
   "source": [
    "from abc import ABC, abstractmethod\n",
    "\n",
    "class Shape(ABC):\n",
    "    @abstractmethod\n",
    "    def area(self):\n",
    "        pass\n",
    "\n",
    "class Circle(Shape):\n",
    "    def __init__(self, radius):\n",
    "        self.radius = radius\n",
    "\n",
    "    def area(self):\n",
    "        return 3.14 * self.radius ** 2\n",
    "\n",
    "class Rectangle(Shape):\n",
    "    def __init__(self, width, height):\n",
    "        self.width = width\n",
    "        self.height = height\n",
    "\n",
    "    def area(self):\n",
    "        return self.width * self.height\n",
    "\n",
    "# Example usage\n",
    "circle = Circle(5)\n",
    "print(\"Area of circle:\", circle.area())  # Output: Area of circle: 78.5\n",
    "\n",
    "rectangle = Rectangle(4, 6)\n",
    "print(\"Area of rectangle:\", rectangle.area())  # Output: Area of rectangle: 24"
   ]
  },
  {
   "cell_type": "code",
   "execution_count": null,
   "id": "e180c3b7-5eec-416c-b044-e1efdfcfc6ad",
   "metadata": {},
   "outputs": [],
   "source": [
    "#13 How can you prevent a child class from modifying certain attributes or methods inherited from a parent class in Python?"
   ]
  },
  {
   "cell_type": "markdown",
   "id": "ce89e88a-982a-44c6-ade3-44051b09e184",
   "metadata": {},
   "source": [
    "\n",
    "In Python, you can prevent a child class from modifying certain attributes or methods inherited from a parent class by using encapsulation and access control techniques. Here are some common approaches to achieve this:\n",
    "\n",
    "Private Attributes and Methods:\n",
    "\n",
    "Define attributes and methods in the parent class as private by prefixing their names with double underscores (__).\n",
    "Private attributes and methods are not directly accessible or modifiable from outside the class (including subclasses).\n",
    "Property Decorators:\n",
    "\n",
    "Use property decorators to create getter and setter methods for attributes, allowing controlled access to attribute values.\n",
    "Implement custom setter methods in the parent class to enforce restrictions on modifying attribute values.\n",
    "Access Control:\n",
    "\n",
    "Use access control techniques such as name mangling and property decorators to restrict access to specific attributes or methods.\n",
    "Avoid exposing sensitive attributes or methods in the public interface of the parent class.\n",
    "Documentation and Contracts:\n",
    "\n",
    "Clearly document the intended behavior and usage of attributes and methods in the parent class.\n",
    "Define contracts specifying how attributes and methods should be used and interacted with, especially in subclasses."
   ]
  },
  {
   "cell_type": "code",
   "execution_count": null,
   "id": "f4ee7e35-e6c4-47cd-b865-753ed3634597",
   "metadata": {},
   "outputs": [],
   "source": [
    "#14 Create a Python class called `Employee` with attributes `name` and `salary`. Then, create a child class `Manager` that inherits from `Employee` and adds an attribute `department`. Provide an example."
   ]
  },
  {
   "cell_type": "code",
   "execution_count": null,
   "id": "6a8e0d02-1478-4d55-9994-2e9814ca7f42",
   "metadata": {},
   "outputs": [],
   "source": [
    "class Employee:\n",
    "    def __init__(self, name, salary):\n",
    "        self.name = name\n",
    "        self.salary = salary\n",
    "\n",
    "class Manager(Employee):\n",
    "    def __init__(self, name, salary, department):\n",
    "        super().__init__(name, salary)\n",
    "        self.department = department\n",
    "\n",
    "# Example usage\n",
    "employee = Employee(\"John Doe\", 50000)\n",
    "print(\"Employee:\", employee.name, \"Salary:\", employee.salary)\n",
    "\n",
    "manager = Manager(\"Alice Smith\", 70000, \"Marketing\")\n",
    "print(\"Manager:\", manager.name, \"Salary:\", manager.salary, \"Department:\", manager.department)"
   ]
  },
  {
   "cell_type": "code",
   "execution_count": null,
   "id": "09f0ccef-d3a6-4a36-8b38-6940862c0f71",
   "metadata": {},
   "outputs": [],
   "source": [
    "#15 Discuss the concept of method overloading in Python inheritance. How does it differ from method overriding?"
   ]
  },
  {
   "cell_type": "markdown",
   "id": "bc8afc18-f79c-4da0-aaa7-ce80aab43026",
   "metadata": {},
   "source": [
    "Method Overloading:\n",
    "\n",
    "Method overloading refers to the ability to define multiple methods with the same name in a class, but with different parameter signatures.\n",
    "In Python, method overloading is not directly supported in the same way as in languages like Java or C++ where you can have multiple methods with the same name but different parameter types or counts.\n",
    "However, you can achieve a form of method overloading by using default parameter values or variable-length argument lists (*args and **kwargs) to create flexible method signatures that can handle different parameter types or counts.\n",
    "Python does not have explicit method overloading because it supports dynamic typing and polymorphism, allowing methods to accept arguments of different types without needing overloaded method signatures.\n",
    "\n",
    "Method Overriding:\n",
    "\n",
    "Method overriding, on the other hand, occurs when a subclass provides a specific implementation of a method that is already defined in its superclass.\n",
    "The subclass method must have the same name and parameter list as the superclass method to override it.\n",
    "Method overriding is a way to customize or extend the behavior of inherited methods in subclasses while maintaining the same method signature and interface.\n",
    "It allows subclasses to provide their own implementation of a method, effectively replacing the implementation inherited from the superclass.\n",
    "Here's a summary of the differences between method overloading and method overriding:"
   ]
  },
  {
   "cell_type": "code",
   "execution_count": null,
   "id": "1ee6f8bb-1bfd-4975-a127-1ec537e85515",
   "metadata": {},
   "outputs": [],
   "source": [
    "#16 Explain the purpose of the `__init__()` method in Python inheritance and how it is utilized in child classes."
   ]
  },
  {
   "cell_type": "markdown",
   "id": "0d47f107-a80d-44e3-a5cd-0ffe107d475b",
   "metadata": {},
   "source": [
    "In Python inheritance, the __init__() method serves the purpose of initializing objects of a class. It is called automatically when a new instance of the class is created. The primary role of the __init__() method is to initialize the attributes of the object to certain initial values.\n",
    "\n",
    "When a child class inherits from a parent class, it can have its own __init__() method in addition to the one inherited from the parent class. This allows the child class to customize the initialization process by adding new attributes or overriding the initialization behavior defined in the parent class."
   ]
  },
  {
   "cell_type": "code",
   "execution_count": null,
   "id": "07312fbf-ec44-49d7-8f9a-25c81e84d867",
   "metadata": {},
   "outputs": [],
   "source": [
    "class Parent:\n",
    "    def __init__(self, parent_attr):\n",
    "        self.parent_attr = parent_attr\n",
    "\n",
    "class Child(Parent):\n",
    "    def __init__(self, parent_attr, child_attr):\n",
    "        super().__init__(parent_attr)  # Call parent class initialization\n",
    "        self.child_attr = child_attr\n",
    "\n",
    "# Creating an instance of the Child class\n",
    "child = Child(\"Parent Attribute\", \"Child Attribute\")\n",
    "print(\"Parent Attribute:\", child.parent_attr)  # Output: Parent Attribute: Parent Attribute\n",
    "print(\"Child Attribute:\", child.child_attr)    # Output: Child Attribute: Child Attribute\n"
   ]
  },
  {
   "cell_type": "code",
   "execution_count": null,
   "id": "91f23758-6b34-49e8-a727-e7440083a967",
   "metadata": {},
   "outputs": [],
   "source": [
    "#17 Create a Python class called `Bird` with a method `fly()`. Then, create child classes `Eagle` and `Sparrow` that inherit from `Bird` and implement the `fly()` method differently. Provide an example of using these classes."
   ]
  },
  {
   "cell_type": "code",
   "execution_count": null,
   "id": "8a4be624-8a8a-4f3b-bab1-bbf130b10c1c",
   "metadata": {},
   "outputs": [],
   "source": [
    "class Bird:\n",
    "    def fly(self):\n",
    "        pass  # Placeholder method to be overridden in subclasses\n",
    "\n",
    "class Eagle(Bird):\n",
    "    def fly(self):\n",
    "        return \"Soaring high in the sky like an eagle\"\n",
    "\n",
    "class Sparrow(Bird):\n",
    "    def fly(self):\n",
    "        return \"Flitting swiftly through the air like a sparrow\"\n",
    "\n",
    "# Example usage\n",
    "eagle = Eagle()\n",
    "print(\"Eagle:\", eagle.fly())  # Output: Eagle: Soaring high in the sky like an eagle\n",
    "\n",
    "sparrow = Sparrow()\n",
    "print(\"Sparrow:\", sparrow.fly())  # Output: Sparrow: Flitting swiftly through the air like a sparrow"
   ]
  },
  {
   "cell_type": "code",
   "execution_count": null,
   "id": "45e0a096-e635-4eb5-88a9-dacd63e35ac3",
   "metadata": {},
   "outputs": [],
   "source": [
    "#18 What is the \"diamond problem\" in multiple inheritance, and how does Python address it?"
   ]
  },
  {
   "cell_type": "markdown",
   "id": "1e6fecd8-a84a-475d-a9e8-b2672468c25f",
   "metadata": {},
   "source": [
    "\n",
    "The \"diamond problem\" is a common issue that arises in programming languages that support multiple inheritance, such as C++ and Python. It occurs when a class inherits from two or more classes, and these parent classes themselves inherit from a common ancestor class. As a result, the derived class indirectly inherits the common ancestor class through multiple paths in the inheritance hierarchy, forming a diamond-shaped dependency structure."
   ]
  },
  {
   "cell_type": "code",
   "execution_count": null,
   "id": "f111f5b8-9209-48c5-9c98-be15ec50a5c3",
   "metadata": {},
   "outputs": [],
   "source": [
    "    A\n",
    "   / \\\n",
    "  B   C\n",
    "   \\ /\n",
    "    D\n",
    "    \n",
    "Classes B and C inherit from class A.\n",
    "Class D inherits from both B and C.\n"
   ]
  },
  {
   "cell_type": "markdown",
   "id": "d9e7a386-cd93-463f-907f-cf78fe911c45",
   "metadata": {},
   "source": [
    "Python addresses the diamond problem by using a technique called \"C3 Linearization\" (also known as \"C3 superclass linearization\") to determine the method resolution order (MRO) in multiple inheritance scenarios. This algorithm ensures a consistent and predictable order in which methods and attributes are resolved.\n",
    "\n",
    "The C3 Linearization algorithm follows these principles:\n",
    "\n",
    "Depth-First Search (DFS): The algorithm traverses the inheritance hierarchy in a depth-first manner.\n",
    "\n",
    "Left-to-Right Ordering: When there are multiple inheritance paths, the algorithm prefers the left-most path first.\n",
    "\n",
    "Preservation of Order: The order of appearance of classes in the inheritance list is preserved.\n",
    "\n",
    "By applying these principles, Python ensures that the MRO is consistent and that the diamond problem is effectively resolved. The __mro__ attribute can be used to view the method resolution order of a class."
   ]
  },
  {
   "cell_type": "code",
   "execution_count": null,
   "id": "ed80f38d-a0d0-4654-8f75-ba384477e0e5",
   "metadata": {},
   "outputs": [],
   "source": [
    "#19 Discuss the concept of \"is-a\" and \"has-a\" relationships in inheritance, and provide examples of each."
   ]
  },
  {
   "cell_type": "markdown",
   "id": "8e890839-79b6-4651-a020-df4e64928689",
   "metadata": {},
   "source": [
    "\"Is-a\" Relationship:\n",
    "\n",
    "In an \"is-a\" relationship, one class is a subclass (or derived class) of another class. This relationship implies that the subclass is a specialized version of the superclass and inherits its attributes and behaviors.\n",
    "It signifies inheritance, where the subclass inherits properties and behaviors from its superclass, and may also provide its own specialized implementations.\n",
    "\"Is-a\" relationships are typically modeled using class inheritance, where the subclass extends the functionality of the superclass.\n",
    "For example, consider a class hierarchy where Car is a subclass of Vehicle. We say that a Car \"is-a\" Vehicle, indicating that a car is a specific type of vehicle.\n",
    "\n",
    "\"Has-a\" Relationship:\n",
    "\n",
    "In a \"has-a\" relationship, one class contains an instance of another class as a member or attribute. This relationship signifies that an object of one class \"has\" another object as a part of its state.\n",
    "It denotes composition or aggregation, where one class encapsulates another class as part of its internal structure.\n",
    "\"Has-a\" relationships are typically modeled using instance variables, where one class has a reference to an object of another class.\n",
    "For example, consider a class Car that \"has-a\" Engine. Each Car object contains an instance of the Engine class."
   ]
  },
  {
   "cell_type": "code",
   "execution_count": null,
   "id": "cf7d31cd-eb2b-4fe3-b01b-83b675db0adb",
   "metadata": {},
   "outputs": [],
   "source": [
    "class Vehicle:\n",
    "    def drive(self):\n",
    "        print(\"Vehicle is being driven\")\n",
    "\n",
    "class Car(Vehicle):  # Car is a subclass of Vehicle\n",
    "    def park(self):\n",
    "        print(\"Car is parked\")\n",
    "\n",
    "car = Car()\n",
    "car.drive()  # Output: Vehicle is being driven\n",
    "car.park()   # Output: Car is parked\n",
    "\n",
    "#-----------------------------------------------------------------#\n",
    "\n",
    "class Engine:\n",
    "    def start(self):\n",
    "        print(\"Engine started\")\n",
    "\n",
    "class Car:\n",
    "    def __init__(self):\n",
    "        self.engine = Engine()  # Car has an Engine\n",
    "\n",
    "    def drive(self):\n",
    "        self.engine.start()\n",
    "        print(\"Car is being driven\")\n",
    "\n",
    "car = Car()\n",
    "car.drive()  # Output: Engine started, Car is being driven"
   ]
  },
  {
   "cell_type": "code",
   "execution_count": null,
   "id": "510e5a31-ad21-4238-86d0-afe972c00c4f",
   "metadata": {},
   "outputs": [],
   "source": [
    "#20 Create a Python class hierarchy for a university system. Start with a base class `Person` and create child classes `Student` and `Professor`, each with their own attributes and methods. Provide an example of using these classes in a university context."
   ]
  },
  {
   "cell_type": "code",
   "execution_count": null,
   "id": "758a24bf-f817-463b-9201-b30d55918f62",
   "metadata": {},
   "outputs": [],
   "source": [
    "class Person:\n",
    "    def __init__(self, name, age):\n",
    "        self.name = name\n",
    "        self.age = age\n",
    "\n",
    "    def __str__(self):\n",
    "        return f\"Name: {self.name}, Age: {self.age}\"\n",
    "\n",
    "class Student(Person):\n",
    "    def __init__(self, name, age, student_id):\n",
    "        super().__init__(name, age)\n",
    "        self.student_id = student_id\n",
    "\n",
    "    def __str__(self):\n",
    "        return super().__str__() + f\", Student ID: {self.student_id}\"\n",
    "\n",
    "class Professor(Person):\n",
    "    def __init__(self, name, age, faculty_id):\n",
    "        super().__init__(name, age)\n",
    "        self.faculty_id = faculty_id\n",
    "\n",
    "    def __str__(self):\n",
    "        return super().__str__() + f\", Faculty ID: {self.faculty_id}\"\n",
    "\n",
    "# Example usage\n",
    "student1 = Student(\"Alice\", 20, \"S12345\")\n",
    "professor1 = Professor(\"Dr. Smith\", 45, \"F7890\")\n",
    "\n",
    "print(\"Student Information:\")\n",
    "print(student1)\n",
    "\n",
    "print(\"\\nProfessor Information:\")\n",
    "print(professor1)"
   ]
  },
  {
   "cell_type": "markdown",
   "id": "4060674b-64c0-4ed7-99d1-16e65ae1a068",
   "metadata": {},
   "source": [
    "Problems on Encapsulation"
   ]
  },
  {
   "cell_type": "code",
   "execution_count": null,
   "id": "8a805e19-928f-4a29-9a05-14e330aba166",
   "metadata": {},
   "outputs": [],
   "source": [
    "#1 Explain the concept of encapsulation in Python. What is its role in object-oriented programming?"
   ]
  },
  {
   "cell_type": "markdown",
   "id": "cbae75b7-9780-470e-a7d0-5545d8881681",
   "metadata": {},
   "source": [
    "Encapsulation is one of the fundamental principles of object-oriented programming (OOP) and refers to the bundling of data (attributes) and methods (functions) that operate on the data into a single unit called a class. It allows for the organization and abstraction of complex systems, making them easier to understand and manage.\n",
    "\n",
    "Here are the key aspects of encapsulation in Python:\n",
    "\n",
    "Data Hiding: Encapsulation allows you to hide the internal state of an object from the outside world. By marking certain attributes or methods as private, you can restrict direct access to them from outside the class. This helps prevent accidental modification and ensures data integrity.\n",
    "\n",
    "Access Control: Encapsulation enables you to control access to the internal state of an object. You can define public methods to provide controlled access to the attributes of an object, enforcing constraints or performing validation checks as needed. This promotes a more secure and robust design.\n",
    "\n",
    "Abstraction: Encapsulation facilitates abstraction by hiding the implementation details of a class and exposing only the essential interface to interact with the object. This allows users of the class to focus on what the object does rather than how it accomplishes it, leading to a simpler and more intuitive interface.\n",
    "\n",
    "Modularity: Encapsulation promotes modularity by encapsulating related data and behaviors into cohesive units (classes). This modular design makes it easier to develop, test, and maintain code, as changes to one part of the system are less likely to affect other parts.\n",
    "\n",
    "Code Reusability: Encapsulation encourages code reusability by allowing classes to be reused in different contexts without modification. By defining reusable components with well-defined interfaces, you can build complex systems by composing simpler building blocks.\n",
    "\n",
    "In Python, encapsulation is implemented using access modifiers and property decorators to control the visibility and accessibility of attributes and methods within a class. Conventionally, attributes and methods prefixed with a single underscore (_) are considered as \"protected\" (intended for internal use) and those prefixed with double underscores (__) are considered as \"private\" (intended for internal use only).\n",
    "\n",
    "Encapsulation plays a crucial role in promoting code maintainability, flexibility, and reliability in object-oriented programming paradigms, helping developers to write clean, modular, and reusable code."
   ]
  },
  {
   "cell_type": "code",
   "execution_count": null,
   "id": "e89b400a-efbc-41e5-b341-154f7ee55940",
   "metadata": {},
   "outputs": [],
   "source": [
    "#2 Describe the key principles of encapsulation, including access control and data hiding."
   ]
  },
  {
   "cell_type": "markdown",
   "id": "7b10ee87-91ed-4d8f-95d9-bf38fd01a560",
   "metadata": {},
   "source": [
    "The key principles of encapsulation in object-oriented programming, including access control and data hiding, are fundamental concepts that help to create robust and maintainable code. Let's delve deeper into each of these principles:\n",
    "\n",
    "Data Hiding:\n",
    "\n",
    "Data hiding refers to the concept of restricting direct access to the internal state (attributes) of an object from outside the class.\n",
    "By hiding the internal details of an object, you prevent external code from directly modifying its state, ensuring data integrity and preventing accidental misuse.\n",
    "In Python, data hiding is typically achieved by marking attributes as private using a leading underscore (_) or double underscores (__) before their names. This convention indicates that the attributes are intended for internal use only and should not be accessed directly from outside the class.\n",
    "Encapsulation encapsulates the data within the class and provides controlled access to it through methods, allowing for better control over how data is accessed and modified.\n",
    "Access Control:\n",
    "\n",
    "Access control refers to the mechanism by which the visibility and accessibility of class members (attributes and methods) are managed within a class.\n",
    "It allows you to specify which parts of a class are visible to the outside world and which parts are private to the class itself.\n",
    "Access control helps to enforce encapsulation by preventing unauthorized access to internal class members and providing a clear interface for interacting with objects.\n",
    "In Python, access control is typically implemented using access modifiers and property decorators:\n",
    "Public members: Members with no leading underscores are considered public and can be accessed from outside the class.\n",
    "Protected members: Members with a single leading underscore (_) are considered protected and are intended for internal use or for use by subclasses.\n",
    "Private members: Members with double leading underscores (__) are considered private and are inaccessible from outside the class, except through special name mangling.\n",
    "Property decorators: Property decorators like @property, @property.setter, and @property.deleter allow for controlled access to attributes by defining custom getter, setter, and deleter methods.\n",
    "Encapsulation, along with data hiding and access control, promotes modularity, reusability, and maintainability in object-oriented programming by providing a clear separation of concerns and limiting the dependencies between different parts of a program. It enables developers to build robust and scalable software systems by encapsulating complex behavior and data within well-defined classes and interfaces."
   ]
  },
  {
   "cell_type": "code",
   "execution_count": null,
   "id": "21143433-9e34-4c09-aa6e-c778160194eb",
   "metadata": {},
   "outputs": [],
   "source": [
    "#3 How can you achieve encapsulation in Python classes? Provide an example."
   ]
  },
  {
   "cell_type": "markdown",
   "id": "58cd21ab-f89c-4208-8f66-823d42cb37eb",
   "metadata": {},
   "source": [
    "\n",
    "Encapsulation in Python classes can be achieved by using access modifiers, such as underscores (_) and double underscores (__), along with property decorators to control the visibility and accessibility of attributes and methods. "
   ]
  },
  {
   "cell_type": "code",
   "execution_count": null,
   "id": "47cef7f1-e9d6-4d32-be14-9b1aec37b1f8",
   "metadata": {},
   "outputs": [],
   "source": [
    "class Car:\n",
    "    def __init__(self, make, model, year):\n",
    "        self._make = make      # Protected attribute\n",
    "        self.__model = model   # Private attribute\n",
    "        self.__year = year     # Private attribute\n",
    "\n",
    "    # Getter method for model attribute\n",
    "    @property\n",
    "    def model(self):\n",
    "        return self.__model\n",
    "\n",
    "    # Setter method for year attribute\n",
    "    @property\n",
    "    def year(self):\n",
    "        return self.__year\n",
    "\n",
    "    @year.setter\n",
    "    def year(self, year):\n",
    "        if year >= 1900:  # Validate year\n",
    "            self.__year = year\n",
    "        else:\n",
    "            print(\"Invalid year\")\n",
    "\n",
    "    def display_info(self):\n",
    "        print(f\"Make: {self._make}, Model: {self.__model}, Year: {self.__year}\")\n",
    "\n",
    "# Create an instance of the Car class\n",
    "car = Car(\"Toyota\", \"Camry\", 2020)\n",
    "\n",
    "# Accessing attributes using getter method\n",
    "print(\"Model:\", car.model)  # Output: Model: Camry\n",
    "print(\"Year:\", car.year)    # Output: Year: 2020\n",
    "\n",
    "# Attempt to modify private attribute directly (should not work)\n",
    "# car.__model = \"Corolla\"  # Raises AttributeError\n",
    "\n",
    "# Modify private attribute using setter method\n",
    "car.year = 2022\n",
    "\n",
    "# Display car information\n",
    "car.display_info()  # Output: Make: Toyota, Model: Camry, Year: 2022"
   ]
  },
  {
   "cell_type": "code",
   "execution_count": null,
   "id": "b3c956d2-a5b2-423a-bfd5-8da5980ee9af",
   "metadata": {},
   "outputs": [],
   "source": [
    "#4 Discuss the difference between public, private, and protected access modifiers in Python."
   ]
  },
  {
   "cell_type": "markdown",
   "id": "1b40ec1d-0527-4faf-bdc4-a6cba167b839",
   "metadata": {},
   "source": [
    "In Python, access modifiers are used to control the visibility and accessibility of class members (attributes and methods) from outside the class. There are three main access modifiers: public, private, and protected. Let's discuss each of them:\n",
    "\n",
    "Public Access Modifier:\n",
    "\n",
    "Public members have no leading underscores (_) in their names.\n",
    "They are accessible from anywhere, both within the class and from outside the class.\n",
    "Public attributes and methods can be accessed and modified directly without any restrictions.\n",
    "Public members are intended to be part of the public interface of the class, providing a clear and unambiguous way to interact with objects of the class.\n",
    "Private Access Modifier:\n",
    "\n",
    "Private members have double leading underscores (__) in their names.\n",
    "They are accessible only from within the class in which they are defined.\n",
    "Private attributes and methods cannot be accessed or modified directly from outside the class, including its subclasses.\n",
    "Python implements name mangling for private attributes, which means that their names are modified to include the class name to prevent accidental access.\n",
    "Private members are intended for internal use within the class to encapsulate implementation details and prevent direct manipulation from outside the class.\n",
    "Protected Access Modifier:\n",
    "\n",
    "Protected members have a single leading underscore (_) in their names.\n",
    "They are accessible only from within the class in which they are defined and from its subclasses.\n",
    "Protected attributes and methods can be accessed and modified from within the class and its subclasses but not from outside.\n",
    "Python does not enforce protected access, so accessing protected members from outside the class or its subclasses is technically allowed but considered as a convention to indicate that they are intended for internal use.\n",
    "Protected members are often used to indicate that certain attributes or methods are intended for internal use within the class hierarchy.\n",
    "Here's a summary of the differences between public, private, and protected access modifiers in Python:\n",
    "\n",
    "Public: No leading underscores. Accessible from anywhere.\n",
    "Private: Double leading underscores. Accessible only from within the class.\n",
    "Protected: Single leading underscore. Accessible from within the class and its subclasses.\n",
    "It's important to note that Python uses convention rather than strict enforcement for access control, so developers should follow these conventions to ensure code readability and maintainability."
   ]
  },
  {
   "cell_type": "code",
   "execution_count": null,
   "id": "421f426a-3ccc-4a9d-9a50-3532c49ba96d",
   "metadata": {},
   "outputs": [],
   "source": [
    "#5 Create a Python class called `Person` with a private attribute `__name`. Provide methods to get and set the name attribute."
   ]
  },
  {
   "cell_type": "code",
   "execution_count": null,
   "id": "08322a35-9024-465d-bd93-8d2e11afd448",
   "metadata": {},
   "outputs": [],
   "source": [
    "class Person:\n",
    "    def __init__(self, name):\n",
    "        self.__name = name\n",
    "\n",
    "    def get_name(self):\n",
    "        return self.__name\n",
    "\n",
    "    def set_name(self, name):\n",
    "        self.__name = name\n",
    "\n",
    "# Example usage\n",
    "person = Person(\"John Doe\")\n",
    "\n",
    "# Get the name attribute\n",
    "print(\"Name:\", person.get_name())  # Output: Name: John Doe\n",
    "\n",
    "# Set the name attribute\n",
    "person.set_name(\"Alice Smith\")\n",
    "print(\"New Name:\", person.get_name())  # Output: New Name: Alice Smith"
   ]
  },
  {
   "cell_type": "code",
   "execution_count": null,
   "id": "5ba157fd-d2ee-49c5-837b-1f9602a04583",
   "metadata": {},
   "outputs": [],
   "source": [
    "#6 Explain the purpose of getter and setter methods in encapsulation. Provide examples."
   ]
  },
  {
   "cell_type": "markdown",
   "id": "46d986fb-708b-46be-8b12-014ec1039a7f",
   "metadata": {},
   "source": [
    "Getter and setter methods play a crucial role in encapsulation by providing controlled access to the attributes of a class. They allow you to encapsulate the internal state of an object and enforce validation, computation, or other logic when accessing or modifying its attributes. This helps maintain data integrity, hide implementation details, and provide a clear interface for interacting with objects.\n",
    "\n",
    "Here's an explanation of the purpose of getter and setter methods in encapsulation:\n",
    "\n",
    "Getter Methods:\n",
    "\n",
    "Getter methods, also known as accessor methods, are used to retrieve the values of private attributes of a class.\n",
    "They provide read-only access to the attributes, allowing external code to access the attribute's value without directly accessing the attribute itself.\n",
    "Getter methods can include additional logic, such as computation or validation, before returning the attribute's value.\n",
    "Getter methods encapsulate the access to the attribute, allowing you to change the internal representation of the attribute without affecting external code.\n",
    "Setter Methods:\n",
    "\n",
    "Setter methods, also known as mutator methods, are used to modify the values of private attributes of a class.\n",
    "They provide controlled write access to the attributes, allowing external code to modify the attribute's value while enforcing constraints or performing validation checks.\n",
    "Setter methods can include additional logic to validate the new value or perform computations before assigning it to the attribute.\n",
    "Setter methods encapsulate the modification of the attribute, allowing you to enforce rules and constraints on the attribute's values."
   ]
  },
  {
   "cell_type": "code",
   "execution_count": null,
   "id": "8a0828b8-c722-4ab4-9bf2-aea5699bb6be",
   "metadata": {},
   "outputs": [],
   "source": [
    "#7 What is name mangling in Python, and how does it affect encapsulation?"
   ]
  },
  {
   "cell_type": "markdown",
   "id": "2a9839fd-0b1a-4f05-8ce2-7ff63f0f7923",
   "metadata": {},
   "source": [
    "Name mangling in Python is a mechanism used to make the names of certain class members (attributes and methods) unique by prefixing them with double underscores (__). This is primarily done to avoid naming conflicts in subclasses and to implement private attributes.\n",
    "\n",
    "When a name is prefixed with double underscores (__) but not suffixed with double underscores, Python internally modifies the name by prefixing it with a single underscore (_) followed by the class name. This modified name is known as a mangled name.\n",
    "\n",
    "Name mangling affects encapsulation by making attributes and methods appear private, even though Python doesn't technically support true private members. It provides a level of privacy by making it harder for external code to access or modify these members directly."
   ]
  },
  {
   "cell_type": "code",
   "execution_count": null,
   "id": "a76c8f14-ea68-4ee3-8793-e8329c4314f8",
   "metadata": {},
   "outputs": [],
   "source": [
    "#8 Create a Python class called `BankAccount` with private attributes for the account balance (`__balance`) and account number (`__account_number`). Provide methods for depositing and withdrawing money."
   ]
  },
  {
   "cell_type": "code",
   "execution_count": null,
   "id": "0f35a92e-d41c-40bf-9a31-1eaf33d32bd1",
   "metadata": {},
   "outputs": [],
   "source": [
    "class BankAccount:\n",
    "    def __init__(self, account_number, initial_balance=0):\n",
    "        self.__account_number = account_number\n",
    "        self.__balance = initial_balance\n",
    "\n",
    "    def deposit(self, amount):\n",
    "        if amount > 0:\n",
    "            self.__balance += amount\n",
    "            print(f\"Deposited ${amount}. New balance: ${self.__balance}\")\n",
    "        else:\n",
    "            print(\"Invalid deposit amount\")\n",
    "\n",
    "    def withdraw(self, amount):\n",
    "        if 0 < amount <= self.__balance:\n",
    "            self.__balance -= amount\n",
    "            print(f\"Withdrew ${amount}. New balance: ${self.__balance}\")\n",
    "        else:\n",
    "            print(\"Insufficient funds or invalid withdrawal amount\")\n",
    "\n",
    "    def get_balance(self):\n",
    "        return self.__balance\n",
    "\n",
    "    def get_account_number(self):\n",
    "        return self.__account_number\n",
    "\n",
    "# Example usage\n",
    "account = BankAccount(\"123456789\", 1000)\n",
    "\n",
    "print(\"Account Number:\", account.get_account_number())  # Output: Account Number: 123456789\n",
    "print(\"Initial Balance:\", account.get_balance())        # Output: Initial Balance: 1000\n",
    "\n",
    "account.deposit(500)  # Output: Deposited $500. New balance: $1500\n",
    "account.withdraw(200) # Output: Withdrew $200. New balance: $1300\n",
    "\n",
    "print(\"Current Balance:\", account.get_balance())        # Output: Current Balance: 1300\n"
   ]
  },
  {
   "cell_type": "code",
   "execution_count": null,
   "id": "57fccbec-8e99-4f4c-b4d7-4f6d31933b64",
   "metadata": {},
   "outputs": [],
   "source": [
    "#9 Discuss the advantages of encapsulation in terms of code maintainability and security."
   ]
  },
  {
   "cell_type": "markdown",
   "id": "c11d7b07-81c6-4ced-9ebc-0acc9a1ade86",
   "metadata": {},
   "source": [
    "Encapsulation offers several advantages in terms of code maintainability and security in object-oriented programming:\n",
    "\n",
    "Modularity and Code Organization:\n",
    "\n",
    "Encapsulation promotes modularity by encapsulating related data and behavior within a single unit (class), making it easier to understand and manage.\n",
    "It allows you to break down complex systems into smaller, more manageable components, reducing the complexity of individual components and improving code organization.\n",
    "Abstraction and Implementation Hiding:\n",
    "\n",
    "Encapsulation allows you to hide the implementation details of a class, exposing only the essential interface to interact with objects.\n",
    "By abstracting away the implementation details, encapsulation enables you to focus on what an object does rather than how it accomplishes it, leading to a simpler and more intuitive interface.\n",
    "This abstraction helps to decouple different parts of the system, reducing dependencies and making the code more flexible and adaptable to changes.\n",
    "Data Integrity and Security:\n",
    "\n",
    "Encapsulation helps maintain data integrity by encapsulating data within objects and providing controlled access to it through methods.\n",
    "It prevents unauthorized access to internal data and ensures that data is accessed and modified in a controlled and consistent manner.\n",
    "By encapsulating sensitive data and providing controlled access to it, encapsulation enhances security and reduces the risk of data corruption or unauthorized access.\n",
    "Code Reusability and Maintainability:\n",
    "\n",
    "Encapsulation promotes code reusability by encapsulating reusable components with well-defined interfaces, allowing them to be easily reused in different parts of the system.\n",
    "It reduces code duplication by encapsulating common behavior and data within classes, making it easier to maintain and update the codebase.\n",
    "Encapsulation isolates changes within classes, minimizing the impact of changes on other parts of the system and making the codebase more maintainable and adaptable to evolving requirements.\n",
    "Encapsulation as a Barrier:\n",
    "\n",
    "Encapsulation acts as a barrier between the internal implementation of a class and the external code that interacts with it.\n",
    "It allows you to change the internal implementation of a class without affecting external code that depends on it, as long as the public interface remains unchanged.\n",
    "This encapsulation barrier protects the integrity of the class's implementation and prevents unintended side effects from changes to internal details."
   ]
  },
  {
   "cell_type": "code",
   "execution_count": null,
   "id": "f73f3266-b26f-4b52-8c53-714a10031bfc",
   "metadata": {},
   "outputs": [],
   "source": [
    "#10 How can you access private attributes in Python? Provide an example demonstrating the use of name mangling."
   ]
  },
  {
   "cell_type": "markdown",
   "id": "4c1e922b-c0f2-4136-9daa-196377ad11e6",
   "metadata": {},
   "source": [
    "\n",
    "In Python, private attributes can be accessed indirectly using a process called name mangling. Name mangling modifies the name of the private attribute by prefixing it with a single underscore (_) followed by the class name, making it technically accessible from outside the class."
   ]
  },
  {
   "cell_type": "code",
   "execution_count": null,
   "id": "d97fb02e-78dd-45af-9693-04cacc3f618d",
   "metadata": {},
   "outputs": [],
   "source": [
    "class MyClass:\n",
    "    def __init__(self):\n",
    "        self.__private_attr = 42\n",
    "\n",
    "# Create an instance of the class\n",
    "obj = MyClass()\n",
    "\n",
    "# Accessing private attribute using name mangling\n",
    "print(obj._MyClass__private_attr)  # Output: 42"
   ]
  },
  {
   "cell_type": "code",
   "execution_count": null,
   "id": "a04c23a3-e472-47af-a95e-a6037af0409d",
   "metadata": {},
   "outputs": [],
   "source": [
    "#11 Create a Python class hierarchy for a school system, including classes for students, teachers, and courses, and implement encapsulation principles to protect sensitive information."
   ]
  },
  {
   "cell_type": "code",
   "execution_count": null,
   "id": "04baf80a-8460-4be3-9fda-eb03fe432694",
   "metadata": {},
   "outputs": [],
   "source": [
    "class Person:\n",
    "    def __init__(self, name, age):\n",
    "        self._name = name      # Protected attribute\n",
    "        self._age = age        # Protected attribute\n",
    "\n",
    "    def get_name(self):\n",
    "        return self._name\n",
    "\n",
    "    def get_age(self):\n",
    "        return self._age\n",
    "\n",
    "class Student(Person):\n",
    "    def __init__(self, name, age, student_id):\n",
    "        super().__init__(name, age)\n",
    "        self.__student_id = student_id  # Private attribute\n",
    "\n",
    "    def get_student_id(self):\n",
    "        return self.__student_id\n",
    "\n",
    "class Teacher(Person):\n",
    "    def __init__(self, name, age, teacher_id):\n",
    "        super().__init__(name, age)\n",
    "        self.__teacher_id = teacher_id  # Private attribute\n",
    "\n",
    "    def get_teacher_id(self):\n",
    "        return self.__teacher_id\n",
    "\n",
    "class Course:\n",
    "    def __init__(self, course_name, teacher, students):\n",
    "        self.__course_name = course_name  # Private attribute\n",
    "        self.__teacher = teacher          # Private attribute\n",
    "        self.__students = students        # Private attribute\n",
    "\n",
    "    def get_course_name(self):\n",
    "        return self.__course_name\n",
    "\n",
    "    def get_teacher(self):\n",
    "        return self.__teacher\n",
    "\n",
    "    def get_students(self):\n",
    "        return self.__students\n",
    "\n",
    "# Example usage\n",
    "teacher = Teacher(\"John Doe\", 40, \"T123\")\n",
    "student1 = Student(\"Alice Smith\", 20, \"S123\")\n",
    "student2 = Student(\"Bob Johnson\", 22, \"S124\")\n",
    "\n",
    "students_list = [student1, student2]\n",
    "course = Course(\"Mathematics\", teacher, students_list)\n",
    "\n",
    "print(\"Course Name:\", course.get_course_name())         # Output: Course Name: Mathematics\n",
    "print(\"Teacher:\", course.get_teacher().get_name())      # Output: Teacher: John Doe\n",
    "print(\"Students:\")\n",
    "for student in course.get_students():\n",
    "    print(\"- \", student.get_name())                     # Output: -  Alice Smith\n",
    "                                                        # OUtput: -  Bob Johnson\n"
   ]
  },
  {
   "cell_type": "code",
   "execution_count": null,
   "id": "44cb033e-6a18-4a6e-b159-df20b7a5d00e",
   "metadata": {},
   "outputs": [],
   "source": [
    "#12 Explain the concept of property decorators in Python and how they relate to encapsulation."
   ]
  },
  {
   "cell_type": "markdown",
   "id": "0f344b86-0e0e-4555-ba05-69054199d273",
   "metadata": {},
   "source": [
    "Property decorators in Python are a feature that allows you to define special methods called getter, setter, and deleter methods, which are associated with properties of a class. These methods provide a way to encapsulate the access to attributes of an object, allowing you to control how these attributes are accessed, modified, and deleted.\n",
    "\n",
    "Here's how property decorators relate to encapsulation:\n",
    "\n",
    "Getter Method:\n",
    "\n",
    "A getter method, decorated with @property, allows you to define a read-only property for an attribute.\n",
    "By using a getter method, you encapsulate the access to the attribute, providing controlled read access to the attribute's value.\n",
    "Getter methods help enforce encapsulation by abstracting away the internal representation of the attribute and providing a clear interface for accessing it.\n",
    "Setter Method:\n",
    "\n",
    "A setter method, decorated with @<property_name>.setter, allows you to define a property setter for an attribute.\n",
    "Setter methods provide controlled write access to the attribute, allowing you to enforce constraints or perform validation checks before setting the attribute's value.\n",
    "Setter methods encapsulate the modification of the attribute, ensuring that any changes made to the attribute adhere to the specified rules or constraints.\n",
    "Deleter Method:\n",
    "\n",
    "A deleter method, decorated with @<property_name>.deleter, allows you to define a property deleter for an attribute.\n",
    "Deleter methods provide controlled deletion of the attribute, allowing you to perform cleanup or additional actions before deleting the attribute.\n",
    "Deleter methods encapsulate the deletion of the attribute, ensuring that any necessary cleanup or side effects are properly handled."
   ]
  },
  {
   "cell_type": "code",
   "execution_count": null,
   "id": "3c1762ca-52b7-41c9-8aca-5be3402a8119",
   "metadata": {},
   "outputs": [],
   "source": [
    "#13 What is data hiding, and why is it important in encapsulation? Provide examples."
   ]
  },
  {
   "cell_type": "markdown",
   "id": "f4806b2f-a8fd-43c6-a57a-c6d0ddf2ebed",
   "metadata": {},
   "source": [
    "Data hiding, also known as information hiding, is the practice of restricting access to certain parts of a class or object's internal state, such as attributes or methods, from outside code. It is an essential aspect of encapsulation and object-oriented programming, as it helps maintain the integrity of the object's data and protects it from unintended modification or access.\n",
    "\n",
    "Data hiding is important in encapsulation for several reasons:\n",
    "\n",
    "Preventing Unauthorized Access: By hiding internal data, you prevent external code from accessing or modifying it directly, ensuring that data is accessed and modified only through well-defined interfaces provided by the class.\n",
    "\n",
    "Encapsulating Implementation Details: Hiding internal data allows you to encapsulate implementation details within the class, separating the interface from the implementation. This promotes modularity and abstraction, making it easier to maintain and evolve the codebase.\n",
    "\n",
    "Enhancing Security: Hiding sensitive data from external code helps enhance security by preventing unauthorized access to confidential information. It reduces the risk of data tampering or exploitation by malicious code.\n",
    "\n",
    "Promoting Code Reusability: Encapsulating data within a class allows you to reuse the class in different contexts without exposing its internal details. This promotes code reusability and makes the class more versatile and adaptable to different use cases.\n",
    "\n",
    "Maintaining Consistency and Invariants: By encapsulating data and providing controlled access through methods, you can enforce constraints, validations, and invariants on the data. This helps maintain data consistency and ensures that the object remains in a valid state at all times."
   ]
  },
  {
   "cell_type": "code",
   "execution_count": null,
   "id": "ee075af6-4519-48ab-8754-d2f5f8f60433",
   "metadata": {},
   "outputs": [],
   "source": [
    "class BankAccount:\n",
    "    def __init__(self, initial_balance):\n",
    "        self._balance = initial_balance  # Protected attribute\n",
    "\n",
    "    def deposit(self, amount):\n",
    "        if amount > 0:\n",
    "            self._balance += amount\n",
    "            print(f\"Deposited ${amount}. New balance: ${self._balance}\")\n",
    "        else:\n",
    "            print(\"Invalid deposit amount\")\n",
    "\n",
    "    def withdraw(self, amount):\n",
    "        if 0 < amount <= self._balance:\n",
    "            self._balance -= amount\n",
    "            print(f\"Withdrew ${amount}. New balance: ${self._balance}\")\n",
    "        else:\n",
    "            print(\"Insufficient funds or invalid withdrawal amount\")\n",
    "\n",
    "# Example usage\n",
    "account = BankAccount(1000)\n",
    "\n",
    "# Accessing protected attribute directly (not recommended)\n",
    "print(\"Balance:\", account._balance)  # Output: Balance: 1000\n",
    "\n",
    "# Modifying protected attribute directly (not recommended)\n",
    "account._balance = 2000\n",
    "print(\"New Balance:\", account._balance)  # Output: New Balance: 2000\n",
    "\n",
    "# Making a deposit\n",
    "account.deposit(500)  # Output: Deposited $500. New balance: $2500\n",
    "\n",
    "# Making a withdrawal\n",
    "account.withdraw(1000)  # Output: Withdrew $1000. New balance: $1500"
   ]
  },
  {
   "cell_type": "code",
   "execution_count": null,
   "id": "09806cbe-8a7c-4015-86cc-5eea204577d7",
   "metadata": {},
   "outputs": [],
   "source": [
    "#14 Create a Python class called `Employee` with private attributes for salary (`__salary`) and employee ID (`__employee_id`). Provide a method to calculate yearly bonuses."
   ]
  },
  {
   "cell_type": "code",
   "execution_count": null,
   "id": "27b876ec-41cd-4ccc-a7e8-07b404cbcee8",
   "metadata": {},
   "outputs": [],
   "source": [
    "class Employee:\n",
    "    def __init__(self, employee_id, salary):\n",
    "        self.__employee_id = employee_id  # Private attribute\n",
    "        self.__salary = salary            # Private attribute\n",
    "\n",
    "    def calculate_yearly_bonus(self):\n",
    "        # Assume the yearly bonus is 10% of the salary\n",
    "        return 0.1 * self.__salary\n",
    "\n",
    "    def get_employee_id(self):\n",
    "        return self.__employee_id\n",
    "\n",
    "    def get_salary(self):\n",
    "        return self.__salary\n",
    "\n",
    "# Example usage\n",
    "employee = Employee(\"E123\", 50000)\n",
    "\n",
    "print(\"Employee ID:\", employee.get_employee_id())       # Output: Employee ID: E123\n",
    "print(\"Salary:\", employee.get_salary())                 # Output: Salary: 50000\n",
    "print(\"Yearly Bonus:\", employee.calculate_yearly_bonus())  # Output: Yearly Bonus: 5000"
   ]
  },
  {
   "cell_type": "code",
   "execution_count": null,
   "id": "13576a6a-0d13-4213-bcd7-3506d7de16fd",
   "metadata": {},
   "outputs": [],
   "source": [
    "#15 Discuss the use of accessors and mutators in encapsulation. How do they help maintain control over attribute access?"
   ]
  },
  {
   "cell_type": "markdown",
   "id": "a8ddf1ec-5368-4ac6-b744-e2ee91d0b2cf",
   "metadata": {},
   "source": [
    "ChatGPT\n",
    "Accessors and mutators, also known as getter and setter methods, play a crucial role in encapsulation by providing controlled access to the attributes of a class. Here's how they help maintain control over attribute access:\n",
    "\n",
    "Accessors (Getters):\n",
    "\n",
    "Accessor methods allow you to retrieve the value of an attribute without directly accessing it.\n",
    "They provide read-only access to the attribute's value, allowing external code to view but not modify the attribute.\n",
    "Accessors help enforce encapsulation by abstracting away the internal representation of the attribute and providing a controlled interface for accessing it.\n",
    "By using accessors, you can enforce validation or computation before returning the attribute's value, ensuring data integrity and consistency.\n",
    "Mutators (Setters):\n",
    "\n",
    "Mutator methods allow you to modify the value of an attribute in a controlled manner.\n",
    "They provide write access to the attribute, allowing external code to modify the attribute's value while enforcing constraints or performing validation checks.\n",
    "Mutators help encapsulate the modification of the attribute, ensuring that any changes made to the attribute adhere to the specified rules or constraints.\n",
    "By using mutators, you can enforce business rules, validation logic, or data consistency checks before allowing changes to the attribute, thereby maintaining data integrity."
   ]
  },
  {
   "cell_type": "code",
   "execution_count": null,
   "id": "ad994af7-bde0-4d13-b4c6-8a18fa42755f",
   "metadata": {},
   "outputs": [],
   "source": [
    "#16 What are the potential drawbacks or disadvantages of using encapsulation in Python?"
   ]
  },
  {
   "cell_type": "markdown",
   "id": "ba075440-27a6-4095-8de7-94d9baa0aafe",
   "metadata": {},
   "source": [
    "Increased Complexity: Encapsulation often involves creating additional methods (getters, setters, etc.) to control access to attributes. This can lead to increased code complexity and verbosity, especially in classes with many attributes.\n",
    "\n",
    "Performance Overhead: Accessing attributes through getter and setter methods may introduce a performance overhead compared to direct attribute access. While this overhead is generally negligible in most cases, it can become significant in performance-critical applications.\n",
    "\n",
    "Difficulty in Debugging: Encapsulation may obscure the internal state of objects, making it harder to debug issues related to attribute access or modification. Developers may need to trace through multiple layers of abstraction to understand the flow of data.\n",
    "\n",
    "Boilerplate Code: Implementing getter and setter methods for every attribute can result in a lot of boilerplate code, especially in classes with numerous attributes. This can make the codebase harder to maintain and more prone to errors.\n",
    "\n",
    "Flexibility Trade-off: Encapsulation restricts direct access to attributes, which can limit the flexibility of class usage. In some cases, developers may need to bypass encapsulation for performance reasons or to implement specific functionality, which can compromise the integrity of the class.\n",
    "\n",
    "Over-Engineering: In some cases, developers may overuse encapsulation, creating excessively complex class hierarchies or adding unnecessary abstraction layers. This can lead to a bloated codebase and decreased maintainability.\n",
    "\n",
    "Difficulty in Testing: Encapsulation can make it challenging to test classes in isolation, especially if attributes are tightly coupled to the class's behavior. Mocking or stubbing external dependencies may be necessary to isolate the unit under test.\n",
    "\n",
    "Encapsulation Violation: Python's dynamic nature allows developers to bypass encapsulation by accessing private attributes directly. While this can be useful in certain scenarios, it can also lead to unintentional encapsulation violations and potential bugs."
   ]
  },
  {
   "cell_type": "code",
   "execution_count": null,
   "id": "b040f02a-9d1b-4cac-b123-29956434148e",
   "metadata": {},
   "outputs": [],
   "source": [
    "#17 Create a Python class for a library system that encapsulates book information, including titles, authors, and availability status."
   ]
  },
  {
   "cell_type": "code",
   "execution_count": null,
   "id": "8809c9ff-9bb0-4382-b187-33473cb8112f",
   "metadata": {},
   "outputs": [],
   "source": [
    "class Book:\n",
    "    def __init__(self, title, author):\n",
    "        self.title = title          # Public attribute\n",
    "        self.author = author        # Public attribute\n",
    "        self.available = True       # Public attribute\n",
    "\n",
    "    def borrow_book(self):\n",
    "        if self.available:\n",
    "            self.available = False\n",
    "            print(f\"The book '{self.title}' by {self.author} has been borrowed.\")\n",
    "        else:\n",
    "            print(f\"The book '{self.title}' by {self.author} is currently unavailable.\")\n",
    "\n",
    "    def return_book(self):\n",
    "        if not self.available:\n",
    "            self.available = True\n",
    "            print(f\"The book '{self.title}' by {self.author} has been returned.\")\n",
    "        else:\n",
    "            print(f\"The book '{self.title}' by {self.author} is already available.\")\n",
    "\n",
    "# Example usage\n",
    "book1 = Book(\"The Great Gatsby\", \"F. Scott Fitzgerald\")\n",
    "book2 = Book(\"To Kill a Mockingbird\", \"Harper Lee\")\n",
    "\n",
    "book1.borrow_book()     # Output: The book 'The Great Gatsby' by F. Scott Fitzgerald has been borrowed.\n",
    "book1.borrow_book()     # Output: The book 'The Great Gatsby' by F. Scott Fitzgerald is currently unavailable.\n",
    "\n",
    "book2.borrow_book()     # Output: The book 'To Kill a Mockingbird' by Harper Lee has been borrowed.\n",
    "book2.return_book()     # Output: The book 'To Kill a Mockingbird' by Harper Lee\n"
   ]
  },
  {
   "cell_type": "code",
   "execution_count": null,
   "id": "e7249f0b-c634-450d-9e39-c5dc0206f928",
   "metadata": {},
   "outputs": [],
   "source": [
    "#18 class Book:\n",
    "    def __init__(self, title, author):\n",
    "        self.title = title          # Public attribute\n",
    "        self.author = author        # Public attribute\n",
    "        self.available = True       # Public attribute\n",
    "\n",
    "    def borrow_book(self):\n",
    "        if self.available:\n",
    "            self.available = False\n",
    "            print(f\"The book '{self.title}' by {self.author} has been borrowed.\")\n",
    "        else:\n",
    "            print(f\"The book '{self.title}' by {self.author} is currently unavailable.\")\n",
    "\n",
    "    def return_book(self):\n",
    "        if not self.available:\n",
    "            self.available = True\n",
    "            print(f\"The book '{self.title}' by {self.author} has been returned.\")\n",
    "        else:\n",
    "            print(f\"The book '{self.title}' by {self.author} is already available.\")\n",
    "\n",
    "# Example usage\n",
    "book1 = Book(\"The Great Gatsby\", \"F. Scott Fitzgerald\")\n",
    "book2 = Book(\"To Kill a Mockingbird\", \"Harper Lee\")\n",
    "\n",
    "book1.borrow_book()     # Output: The book 'The Great Gatsby' by F. Scott Fitzgerald has been borrowed.\n",
    "book1.borrow_book()     # Output: The book 'The Great Gatsby' by F. Scott Fitzgerald is currently unavailable.\n",
    "\n",
    "book2.borrow_book()     # Output: The book 'To Kill a Mockingbird' by Harper Lee has been borrowed.\n",
    "book2.return_book()     # Output: The book 'To Kill a Mockingbird' by Harper Lee\n"
   ]
  },
  {
   "cell_type": "code",
   "execution_count": null,
   "id": "d83c4ed3-064d-415d-9cfb-fd7fb12fa144",
   "metadata": {},
   "outputs": [],
   "source": [
    "class Book:\n",
    "    def __init__(self, title, author):\n",
    "        self.title = title          # Public attribute\n",
    "        self.author = author        # Public attribute\n",
    "        self.available = True       # Public attribute\n",
    "\n",
    "    def borrow_book(self):\n",
    "        if self.available:\n",
    "            self.available = False\n",
    "            print(f\"The book '{self.title}' by {self.author} has been borrowed.\")\n",
    "        else:\n",
    "            print(f\"The book '{self.title}' by {self.author} is currently unavailable.\")\n",
    "\n",
    "    def return_book(self):\n",
    "        if not self.available:\n",
    "            self.available = True\n",
    "            print(f\"The book '{self.title}' by {self.author} has been returned.\")\n",
    "        else:\n",
    "            print(f\"The book '{self.title}' by {self.author} is already available.\")\n",
    "\n",
    "# Example usage\n",
    "book1 = Book(\"The Great Gatsby\", \"F. Scott Fitzgerald\")\n",
    "book2 = Book(\"To Kill a Mockingbird\", \"Harper Lee\")\n",
    "\n",
    "book1.borrow_book()     # Output: The book 'The Great Gatsby' by F. Scott Fitzgerald has been borrowed.\n",
    "book1.borrow_book()     # Output: The book 'The Great Gatsby' by F. Scott Fitzgerald is currently unavailable.\n",
    "\n",
    "book2.borrow_book()     # Output: The book 'To Kill a Mockingbird' by Harper Lee has been borrowed.\n",
    "book2.return_book()     # Output: The book 'To Kill a Mockingbird' by Harper Lee\n"
   ]
  },
  {
   "cell_type": "code",
   "execution_count": null,
   "id": "dacd4d7f-1b32-41c3-94a0-cb741cfdb779",
   "metadata": {},
   "outputs": [],
   "source": [
    "class Book:\n",
    "    def __init__(self, title, author):\n",
    "        self.title = title          # Public attribute\n",
    "        self.author = author        # Public attribute\n",
    "        self.available = True       # Public attribute\n",
    "\n",
    "    def borrow_book(self):\n",
    "        if self.available:\n",
    "            self.available = False\n",
    "            print(f\"The book '{self.title}' by {self.author} has been borrowed.\")\n",
    "        else:\n",
    "            print(f\"The book '{self.title}' by {self.author} is currently unavailable.\")\n",
    "\n",
    "    def return_book(self):\n",
    "        if not self.available:\n",
    "            self.available = True\n",
    "            print(f\"The book '{self.title}' by {self.author} has been returned.\")\n",
    "        else:\n",
    "            print(f\"The book '{self.title}' by {self.author} is already available.\")\n",
    "\n",
    "# Example usage\n",
    "book1 = Book(\"The Great Gatsby\", \"F. Scott Fitzgerald\")\n",
    "book2 = Book(\"To Kill a Mockingbird\", \"Harper Lee\")\n",
    "\n",
    "book1.borrow_book()     # Output: The book 'The Great Gatsby' by F. Scott Fitzgerald has been borrowed.\n",
    "book1.borrow_book()     # Output: The book 'The Great Gatsby' by F. Scott Fitzgerald is currently unavailable.\n",
    "\n",
    "book2.borrow_book()     # Output: The book 'To Kill a Mockingbird' by Harper Lee has been borrowed.\n",
    "book2.return_book()     # Output: The book 'To Kill a Mockingbird' by Harper Lee\n"
   ]
  },
  {
   "cell_type": "code",
   "execution_count": null,
   "id": "351dc49a-3bc5-4107-866e-025934d168e1",
   "metadata": {},
   "outputs": [],
   "source": [
    "class Book:\n",
    "    def __init__(self, title, author):\n",
    "        self.title = title          # Public attribute\n",
    "        self.author = author        # Public attribute\n",
    "        self.available = True       # Public attribute\n",
    "\n",
    "    def borrow_book(self):\n",
    "        if self.available:\n",
    "            self.available = False\n",
    "            print(f\"The book '{self.title}' by {self.author} has been borrowed.\")\n",
    "        else:\n",
    "            print(f\"The book '{self.title}' by {self.author} is currently unavailable.\")\n",
    "\n",
    "    def return_book(self):\n",
    "        if not self.available:\n",
    "            self.available = True\n",
    "            print(f\"The book '{self.title}' by {self.author} has been returned.\")\n",
    "        else:\n",
    "            print(f\"The book '{self.title}' by {self.author} is already available.\")\n",
    "\n",
    "# Example usage\n",
    "book1 = Book(\"The Great Gatsby\", \"F. Scott Fitzgerald\")\n",
    "book2 = Book(\"To Kill a Mockingbird\", \"Harper Lee\")\n",
    "\n",
    "book1.borrow_book()     # Output: The book 'The Great Gatsby' by F. Scott Fitzgerald has been borrowed.\n",
    "book1.borrow_book()     # Output: The book 'The Great Gatsby' by F. Scott Fitzgerald is currently unavailable.\n",
    "\n",
    "book2.borrow_book()     # Output: The book 'To Kill a Mockingbird' by Harper Lee has been borrowed.\n",
    "book2.return_book()     # Output: The book 'To Kill a Mockingbird' by Harper Lee"
   ]
  },
  {
   "cell_type": "code",
   "execution_count": null,
   "id": "baf5af0b-8cb6-4c64-a766-488317dd298c",
   "metadata": {},
   "outputs": [],
   "source": [
    "class Book:\n",
    "    def __init__(self, title, author):\n",
    "        self.title = title          # Public attribute\n",
    "        self.author = author        # Public attribute\n",
    "        self.available = True       # Public attribute\n",
    "\n",
    "    def borrow_book(self):\n",
    "        if self.available:\n",
    "            self.available = False\n",
    "            print(f\"The book '{self.title}' by {self.author} has been borrowed.\")\n",
    "        else:\n",
    "            print(f\"The book '{self.title}' by {self.author} is currently unavailable.\")\n",
    "\n",
    "    def return_book(self):\n",
    "        if not self.available:\n",
    "            self.available = True\n",
    "            print(f\"The book '{self.title}' by {self.author} has been returned.\")\n",
    "        else:\n",
    "            print(f\"The book '{self.title}' by {self.author} is already available.\")\n",
    "\n",
    "# Example usage\n",
    "book1 = Book(\"The Great Gatsby\", \"F. Scott Fitzgerald\")\n",
    "book2 = Book(\"To Kill a Mockingbird\", \"Harper Lee\")\n",
    "\n",
    "book1.borrow_book()     # Output: The book 'The Great Gatsby' by F. Scott Fitzgerald has been borrowed.\n",
    "book1.borrow_book()     # Output: The book 'The Great Gatsby' by F. Scott Fitzgerald is currently unavailable.\n",
    "\n",
    "book2.borrow_book()     # Output: The book 'To Kill a Mockingbird' by Harper Lee has been borrowed.\n",
    "book2.return_book()     # Output: The book 'To Kill a Mockingbird' by Harper Lee\n"
   ]
  },
  {
   "cell_type": "code",
   "execution_count": null,
   "id": "ea7d6281-8ac5-46e2-b780-7b822a2d24c3",
   "metadata": {},
   "outputs": [],
   "source": [
    "class Book:\n",
    "    def __init__(self, title, author):\n",
    "        self.title = title          # Public attribute\n",
    "        self.author = author        # Public attribute\n",
    "        self.available = True       # Public attribute\n",
    "\n",
    "    def borrow_book(self):\n",
    "        if self.available:\n",
    "            self.available = False\n",
    "            print(f\"The book '{self.title}' by {self.author} has been borrowed.\")\n",
    "        else:\n",
    "            print(f\"The book '{self.title}' by {self.author} is currently unavailable.\")\n",
    "\n",
    "    def return_book(self):\n",
    "        if not self.available:\n",
    "            self.available = True\n",
    "            print(f\"The book '{self.title}' by {self.author} has been returned.\")\n",
    "        else:\n",
    "            print(f\"The book '{self.title}' by {self.author} is already available.\")\n",
    "\n",
    "# Example usage\n",
    "book1 = Book(\"The Great Gatsby\", \"F. Scott Fitzgerald\")\n",
    "book2 = Book(\"To Kill a Mockingbird\", \"Harper Lee\")\n",
    "\n",
    "book1.borrow_book()     # Output: The book 'The Great Gatsby' by F. Scott Fitzgerald has been borrowed.\n",
    "book1.borrow_book()     # Output: The book 'The Great Gatsby' by F. Scott Fitzgerald is currently unavailable.\n",
    "\n",
    "book2.borrow_book()     # Output: The book 'To Kill a Mockingbird' by Harper Lee has been borrowed.\n",
    "book2.return_book()     # Output: The book 'To Kill a Mockingbird' by Harper Lee\n"
   ]
  },
  {
   "cell_type": "code",
   "execution_count": null,
   "id": "0928f1dc-609a-49d2-a115-581863b90edd",
   "metadata": {},
   "outputs": [],
   "source": [
    "#18 Explain how encapsulation enhances code reusability and modularity in Python programs."
   ]
  },
  {
   "cell_type": "markdown",
   "id": "f54dc968-3fd5-4265-8ba6-8a0262343abd",
   "metadata": {},
   "source": [
    "Improved Code Reusability:\n",
    "\n",
    "Encapsulation promotes code reusability by encapsulating reusable components with well-defined interfaces.\n",
    "By encapsulating common behavior and data within classes, you can reuse these classes in different parts of the system without exposing their internal details.\n",
    "Encapsulation allows you to create libraries of reusable classes and components, making it easier to build new applications or extend existing ones by leveraging existing code.\n",
    "Enhanced Modularity:\n",
    "\n",
    "Encapsulation promotes modularity by encapsulating related data and behavior within objects or classes.\n",
    "Modular design allows you to break down complex systems into smaller, more manageable components, each responsible for a specific task or functionality.\n",
    "Encapsulation provides clear boundaries between modules, allowing you to develop, test, and maintain them independently, which improves scalability and maintainability."
   ]
  },
  {
   "cell_type": "code",
   "execution_count": null,
   "id": "56688725-baf3-4886-8a4b-56fbba94915d",
   "metadata": {},
   "outputs": [],
   "source": [
    "#19 Describe the concept of information hiding in encapsulation. Why is it essential in software development?"
   ]
  },
  {
   "cell_type": "markdown",
   "id": "bfbfdedc-1134-4e65-bbf0-3d4ad5da089b",
   "metadata": {},
   "source": [
    "Information hiding is a fundamental principle in encapsulation that involves concealing the internal details of an object's implementation, such as its data and behavior, and exposing only the essential interface for interacting with the object. This concept ensures that the internal workings of an object are hidden from external code, allowing for greater abstraction and modularity in software development.\n",
    "\n",
    "Here's why information hiding is essential in software development:\n",
    "\n",
    "Abstraction and Modularity:\n",
    "\n",
    "Information hiding allows developers to abstract away the complexities of an object's implementation, providing a simplified interface for interacting with the object.\n",
    "By hiding unnecessary details, such as the internal data representation and implementation logic, information hiding promotes modularity by allowing developers to focus on the essential aspects of the object's behavior.\n",
    "\n",
    "Reduced Complexity and Dependency:\n",
    "\n",
    "Information hiding reduces the complexity of software systems by limiting the exposure of internal details, which helps prevent unnecessary dependencies between different parts of the codebase.\n",
    "By hiding internal implementation details, changes to one part of the system are less likely to have ripple effects on other parts, making the codebase more robust and maintainable.\n",
    "\n",
    "Encapsulation of Implementation:\n",
    "\n",
    "Information hiding is closely related to encapsulation, which encapsulates data and behavior within objects and provides controlled access to them.\n",
    "Encapsulation ensures that the internal state of an object is protected from unauthorized access and modification, promoting data integrity and security in software systems.\n",
    "\n",
    "Flexibility and Evolution:\n",
    "\n",
    "Information hiding promotes flexibility and adaptability in software development by allowing developers to change the internal implementation of an object without affecting external code that depends on it.\n",
    "By providing a well-defined interface for interacting with objects, information hiding decouples the implementation details from the interface, making it easier to evolve and extend the software system over time.\n",
    "\n",
    "Security and Confidentiality:\n",
    "\n",
    "Information hiding enhances security by hiding sensitive information and preventing unauthorized access to it.\n",
    "By encapsulating sensitive data within objects and providing controlled access to them, information hiding helps protect the confidentiality and integrity of data in software systems."
   ]
  },
  {
   "cell_type": "code",
   "execution_count": null,
   "id": "0de56d27-4190-4ebd-bb16-0c9fe97d7fe9",
   "metadata": {},
   "outputs": [],
   "source": [
    "#20 Create a Python class called `Customer` with private attributes for customer details like name, address, and contact information. Implement encapsulation to ensure data integrity and security."
   ]
  },
  {
   "cell_type": "code",
   "execution_count": null,
   "id": "91b653a9-f087-4112-b18c-e1f6c2c10af3",
   "metadata": {},
   "outputs": [],
   "source": [
    "class Customer:\n",
    "    def __init__(self, name, address, contact_info):\n",
    "        self.__name = name               # Private attribute for customer's name\n",
    "        self.__address = address         # Private attribute for customer's address\n",
    "        self.__contact_info = contact_info   # Private attribute for customer's contact information\n",
    "\n",
    "    def get_name(self):\n",
    "        return self.__name\n",
    "\n",
    "    def get_address(self):\n",
    "        return self.__address\n",
    "\n",
    "    def get_contact_info(self):\n",
    "        return self.__contact_info\n",
    "\n",
    "    def update_address(self, new_address):\n",
    "        self.__address = new_address\n",
    "\n",
    "    def update_contact_info(self, new_contact_info):\n",
    "        self.__contact_info = new_contact_info\n",
    "\n",
    "# Example usage\n",
    "customer1 = Customer(\"Alice\", \"123 Main St\", \"alice@example.com\")\n",
    "print(\"Name:\", customer1.get_name())                   # Output: Name: Alice\n",
    "print(\"Address:\", customer1.get_address())             # Output: Address: 123 Main St\n",
    "print(\"Contact Info:\", customer1.get_contact_info())   # Output: Contact Info: alice@example.com\n",
    "\n",
    "# Updating customer's address and contact information\n",
    "customer1.update_address(\"456 Elm St\")\n",
    "customer1.update_contact_info(\"alice@newemail.com\")\n",
    "\n",
    "print(\"Updated Address:\", customer1.get_address())             # Output: Updated Address: 456 Elm St\n",
    "print(\"Updated Contact Info:\", customer1.get_contact_info())   # Output: Updated Contact Info: alice@newemail.com"
   ]
  },
  {
   "cell_type": "markdown",
   "id": "a7cf4ef3-71b4-4f40-a458-1652a3d10a81",
   "metadata": {},
   "source": [
    "Problems on Polymorphism"
   ]
  },
  {
   "cell_type": "code",
   "execution_count": null,
   "id": "5bb8ce03-54a7-4f34-825a-124845b347d0",
   "metadata": {},
   "outputs": [],
   "source": [
    "#1 What is polymorphism in Python? Explain how it is related to object-oriented programming."
   ]
  },
  {
   "cell_type": "markdown",
   "id": "23de9af4-f0ca-4e5e-abaa-14dc1ddc101c",
   "metadata": {},
   "source": [
    "Polymorphism in Python refers to the ability of different objects to respond to the same message or method invocation in different ways. It allows objects of different classes to be treated as objects of a common superclass, providing a unified interface for interacting with objects of various types.\n",
    "\n",
    "Polymorphism is closely related to the concept of inheritance and object-oriented programming (OOP) principles:\n",
    "\n",
    "Inheritance:\n",
    "\n",
    "Inheritance allows a subclass to inherit attributes and methods from its superclass.\n",
    "Polymorphism enables objects of different subclasses to be treated interchangeably as objects of their common superclass.\n",
    "This means that objects of different subclasses can respond to the same method invocation in different ways, based on their specific implementations of the method.\n",
    "\n",
    "Method Overriding:\n",
    "\n",
    "Method overriding is a form of polymorphism where a subclass provides a specific implementation of a method that is already defined in its superclass.\n",
    "When a method is invoked on an object of the superclass, the runtime environment dispatches the call to the appropriate method implementation based on the actual type of the object at runtime.\n",
    "This allows for dynamic dispatch and enables polymorphic behavior, where the appropriate method implementation is selected based on the actual type of the object at runtime.\n",
    "\n",
    "Duck Typing:\n",
    "\n",
    "Duck typing is another form of polymorphism in Python that focuses on behavior rather than type.\n",
    "It allows objects of different classes to be treated as equivalent if they implement the same set of methods, regardless of their inheritance hierarchy or class structure.\n",
    "Duck typing enables greater flexibility and code reuse by allowing objects to be used based on their behavior rather than their explicit type."
   ]
  },
  {
   "cell_type": "code",
   "execution_count": null,
   "id": "34df9dec-3887-43d4-ae59-980a028968ef",
   "metadata": {},
   "outputs": [],
   "source": [
    "#2 Describe the difference between compile-time polymorphism and runtime polymorphism in Python."
   ]
  },
  {
   "cell_type": "markdown",
   "id": "9a329fc6-8cf8-40fe-8a4b-024b3376011b",
   "metadata": {},
   "source": [
    "\n",
    "In Python, the difference between compile-time polymorphism (also known as static polymorphism) and runtime polymorphism (also known as dynamic polymorphism) lies in how method calls are resolved and executed:\n",
    "\n",
    "Compile-Time Polymorphism:\n",
    "\n",
    "Compile-time polymorphism refers to the ability to select and execute the appropriate method implementation at compile time, based on the types of the arguments passed to the method.\n",
    "In languages like C++ or Java, compile-time polymorphism is achieved through method overloading and function templates (in C++) or through method signatures (in Java).\n",
    "Method overloading allows multiple methods with the same name but different parameter types to coexist in the same class, and the compiler selects the appropriate method based on the static types of the arguments at compile time.\n",
    "In Python, true compile-time polymorphism is not present because Python is dynamically typed, and method resolution happens at runtime based on the actual types of the objects involved.\n",
    "Runtime Polymorphism:\n",
    "\n",
    "Runtime polymorphism refers to the ability to select and execute the appropriate method implementation at runtime, based on the actual type of the object involved in the method invocation.\n",
    "In languages like Python, runtime polymorphism is achieved through method overriding, where a subclass provides a specific implementation of a method that is already defined in its superclass.\n",
    "When a method is invoked on an object, the Python interpreter dynamically dispatches the call to the appropriate method implementation based on the actual type of the object at runtime.\n",
    "This allows for dynamic method resolution and polymorphic behavior, where objects of different types can respond to the same method invocation in different ways based on their specific implementations."
   ]
  },
  {
   "cell_type": "code",
   "execution_count": null,
   "id": "48f2bc73-8144-4753-abd3-6e984fb98ae5",
   "metadata": {},
   "outputs": [],
   "source": [
    "#3 Create a Python class hierarchy for shapes (e.g., circle, square, triangle) and demonstrate polymorphism through a common method, such as `calculate_area()`."
   ]
  },
  {
   "cell_type": "code",
   "execution_count": null,
   "id": "48e09571-711d-48b4-b106-c421b11794ab",
   "metadata": {},
   "outputs": [],
   "source": [
    "import math\n",
    "\n",
    "class Shape:\n",
    "    def calculate_area(self):\n",
    "        pass\n",
    "\n",
    "class Circle(Shape):\n",
    "    def __init__(self, radius):\n",
    "        self.radius = radius\n",
    "\n",
    "    def calculate_area(self):\n",
    "        return math.pi * self.radius ** 2\n",
    "\n",
    "class Square(Shape):\n",
    "    def __init__(self, side_length):\n",
    "        self.side_length = side_length\n",
    "\n",
    "    def calculate_area(self):\n",
    "        return self.side_length ** 2\n",
    "\n",
    "class Triangle(Shape):\n",
    "    def __init__(self, base, height):\n",
    "        self.base = base\n",
    "        self.height = height\n",
    "\n",
    "    def calculate_area(self):\n",
    "        return 0.5 * self.base * self.height\n",
    "\n",
    "# Example usage\n",
    "circle = Circle(5)\n",
    "square = Square(4)\n",
    "triangle = Triangle(3, 6)\n",
    "\n",
    "shapes = [circle, square, triangle]\n",
    "\n",
    "for shape in shapes:\n",
    "    print(\"Area:\", shape.calculate_area())"
   ]
  },
  {
   "cell_type": "code",
   "execution_count": null,
   "id": "ca952aee-dfed-42f1-ab99-ce7f50e65b51",
   "metadata": {},
   "outputs": [],
   "source": [
    "#4 Explain the concept of method overriding in polymorphism. Provide an example."
   ]
  },
  {
   "cell_type": "markdown",
   "id": "5ca135a0-c486-4da2-8156-64113fd2ad6c",
   "metadata": {},
   "source": [
    "Method overriding is a concept in object-oriented programming (OOP) where a subclass provides a specific implementation of a method that is already defined in its superclass. This allows the subclass to modify or extend the behavior of the inherited method to suit its own requirements. Method overriding is a form of polymorphism, where objects of different subclasses can respond to the same method invocation in different ways."
   ]
  },
  {
   "cell_type": "code",
   "execution_count": null,
   "id": "7058256a-023d-460f-b6a1-5c3a398c9ba2",
   "metadata": {},
   "outputs": [],
   "source": [
    "class Animal:\n",
    "    def make_sound(self):\n",
    "        print(\"Some generic sound\")\n",
    "\n",
    "class Dog(Animal):\n",
    "    def make_sound(self):\n",
    "        print(\"Woof!\")\n",
    "\n",
    "class Cat(Animal):\n",
    "    def make_sound(self):\n",
    "        print(\"Meow!\")\n",
    "\n",
    "# Example usage\n",
    "dog = Dog()\n",
    "cat = Cat()\n",
    "\n",
    "dog.make_sound()  # Output: Woof!\n",
    "cat.make_sound()  # Output: Meow!"
   ]
  },
  {
   "cell_type": "code",
   "execution_count": null,
   "id": "880c3e4f-c7bf-447e-b0c3-abb864196209",
   "metadata": {},
   "outputs": [],
   "source": [
    "#5 How is polymorphism different from method overloading in Python? Provide examples for both."
   ]
  },
  {
   "cell_type": "markdown",
   "id": "751d7946-2de2-4e5d-869d-b435a2b71c43",
   "metadata": {},
   "source": [
    "In Python, polymorphism and method overloading are two different concepts, although they both contribute to achieving flexible and dynamic behavior in object-oriented programming. Let's differentiate between them with examples for each:\n",
    "\n",
    "Polymorphism:\n",
    "\n",
    "Polymorphism refers to the ability of different objects to respond to the same message or method invocation in different ways. It allows objects of different classes to be treated as objects of a common superclass, providing a unified interface for interacting with objects of various types.\n",
    "Polymorphism in Python is achieved through method overriding, where a subclass provides a specific implementation of a method that is already defined in its superclass.\n",
    "Polymorphism enables dynamic method dispatch, where the appropriate method implementation is selected based on the actual type of the object at runtime.\n",
    "\n",
    "Method Overloading:\n",
    "\n",
    "Method overloading refers to defining multiple methods with the same name but different parameters or argument lists within a class. It allows a single method name to be used for different behaviors based on the number or types of arguments passed to it.\n",
    "Unlike some other languages like Java or C++, Python does not support method overloading in the traditional sense where multiple methods with the same name can coexist in the same class. Instead, Python achieves method overloading through default arguments, variable-length arguments (*args), or keyword arguments (**kwargs).\n",
    "Method overloading is a form of compile-time polymorphism, where the appropriate method implementation is selected based on the static types of the arguments at compile time."
   ]
  },
  {
   "cell_type": "code",
   "execution_count": null,
   "id": "2c88e9f9-dbfb-4c21-aa71-4394ef7d62c7",
   "metadata": {},
   "outputs": [],
   "source": [
    "class Animal:\n",
    "    def make_sound(self):\n",
    "        print(\"Some generic sound\")\n",
    "\n",
    "class Dog(Animal):\n",
    "    def make_sound(self):\n",
    "        print(\"Woof!\")\n",
    "\n",
    "class Cat(Animal):\n",
    "    def make_sound(self):\n",
    "        print(\"Meow!\")\n",
    "\n",
    "def make_animal_sound(animal):\n",
    "    animal.make_sound()\n",
    "\n",
    "dog = Dog()\n",
    "cat = Cat()\n",
    "\n",
    "make_animal_sound(dog)  # Output: Woof!\n",
    "make_animal_sound(cat)  # Output: Meow!\n",
    "\n",
    "#----------------------------------------------------------------#\n",
    "\n",
    "class Calculator:\n",
    "    def add(self, a, b):\n",
    "        return a + b\n",
    "\n",
    "    def add(self, a, b, c):\n",
    "        return a + b + c\n",
    "\n",
    "calc = Calculator()\n",
    "print(calc.add(2, 3))         # This will raise an error because only the second add method is defined\n",
    "print(calc.add(2, 3, 4))      # Output: 9"
   ]
  },
  {
   "cell_type": "code",
   "execution_count": null,
   "id": "d1e4eb9c-1dee-4015-865f-b9d6dad82f6a",
   "metadata": {},
   "outputs": [],
   "source": [
    "#6 Create a Python class called `Animal` with a method `speak()`. Then, create child classes like `Dog`, `Cat`, and `Bird`, each with their own `speak()` method. Demonstrate polymorphism by calling the `speak()` method on objects of different subclasses."
   ]
  },
  {
   "cell_type": "code",
   "execution_count": null,
   "id": "5d642ae3-487c-41cf-8889-6e59d1940973",
   "metadata": {},
   "outputs": [],
   "source": [
    "class Animal:\n",
    "    def speak(self):\n",
    "        raise NotImplementedError(\"Subclass must implement abstract method\")\n",
    "\n",
    "class Dog(Animal):\n",
    "    def speak(self):\n",
    "        return \"Woof!\"\n",
    "\n",
    "class Cat(Animal):\n",
    "    def speak(self):\n",
    "        return \"Meow!\"\n",
    "\n",
    "class Bird(Animal):\n",
    "    def speak(self):\n",
    "        return \"Chirp!\"\n",
    "\n",
    "# Demonstrate polymorphism\n",
    "def make_animal_speak(animal):\n",
    "    print(animal.speak())\n",
    "\n",
    "dog = Dog()\n",
    "cat = Cat()\n",
    "bird = Bird()\n",
    "\n",
    "make_animal_speak(dog)   # Output: Woof!\n",
    "make_animal_speak(cat)   # Output: Meow!\n",
    "make_animal_speak(bird)  # Output: Chirp!"
   ]
  },
  {
   "cell_type": "code",
   "execution_count": null,
   "id": "6a309591-b0f5-408c-bd04-b5edb7fdec8c",
   "metadata": {},
   "outputs": [],
   "source": [
    "#7 Discuss the use of abstract methods and classes in achieving polymorphism in Python. Provide an example using the `abc` module."
   ]
  },
  {
   "cell_type": "markdown",
   "id": "d1c60609-c50a-4f0e-9496-5bd753ce8772",
   "metadata": {},
   "source": [
    "Abstract methods and classes play a crucial role in achieving polymorphism in Python by providing a mechanism for defining interfaces that subclasses must implement. Python's abc module (Abstract Base Classes) allows developers to define abstract methods and classes, ensuring that subclasses provide specific implementations for these methods. This promotes code clarity, consistency, and enforceability of contracts between classes."
   ]
  },
  {
   "cell_type": "code",
   "execution_count": null,
   "id": "fa58de88-effe-41da-b2db-9a00d2ff0a2e",
   "metadata": {},
   "outputs": [],
   "source": [
    "from abc import ABC, abstractmethod\n",
    "\n",
    "class Animal(ABC):  # Abstract base class\n",
    "    @abstractmethod\n",
    "    def speak(self):\n",
    "        pass\n",
    "\n",
    "class Dog(Animal):\n",
    "    def speak(self):\n",
    "        return \"Bow!\"\n",
    "\n",
    "class Cat(Animal):\n",
    "    def speak(self):\n",
    "        return \"Meow!\"\n",
    "\n",
    "class Bird(Animal):\n",
    "    def speak(self):\n",
    "        return \"Chirp!\"\n",
    "\n",
    "# Demonstrate polymorphism\n",
    "def make_animal_speak(animal):\n",
    "    print(animal.speak())\n",
    "\n",
    "dog = Dog()\n",
    "cat = Cat()\n",
    "bird = Bird()\n",
    "\n",
    "make_animal_speak(dog)   # Output: Bow!\n",
    "make_animal_speak(cat)   # Output: Meow!\n",
    "make_animal_speak(bird)  # Output: Chirp!"
   ]
  },
  {
   "cell_type": "code",
   "execution_count": null,
   "id": "e96fda53-3ffd-4047-a340-2c034110add7",
   "metadata": {},
   "outputs": [],
   "source": [
    "#8 Create a Python class hierarchy for a vehicle system (e.g., car, bicycle, boat) and implement a polymorphic `start()` method that prints a message specific to each vehicle type."
   ]
  },
  {
   "cell_type": "code",
   "execution_count": null,
   "id": "cefa42c1-446a-438f-9b0d-ae6d8eb6822b",
   "metadata": {},
   "outputs": [],
   "source": [
    "class Vehicle:\n",
    "    def start(self):\n",
    "        raise NotImplementedError(\"Subclass must implement abstract method\")\n",
    "\n",
    "class Car(Vehicle):\n",
    "    def start(self):\n",
    "        return \"Starting the car engine...\"\n",
    "\n",
    "class Bicycle(Vehicle):\n",
    "    def start(self):\n",
    "        return \"Pedaling the bicycle...\"\n",
    "\n",
    "class Boat(Vehicle):\n",
    "    def start(self):\n",
    "        return \"Starting the boat engine...\"\n",
    "\n",
    "# Demonstrate polymorphism\n",
    "def start_vehicle(vehicle):\n",
    "    print(vehicle.start())\n",
    "\n",
    "car = Car()\n",
    "bicycle = Bicycle()\n",
    "boat = Boat()\n",
    "\n",
    "start_vehicle(car)      # Output: Starting the car engine...\n",
    "start_vehicle(bicycle)  # Output: Pedaling the bicycle...\n",
    "start_vehicle(boat)     # Output: Starting the boat engine..."
   ]
  },
  {
   "cell_type": "code",
   "execution_count": null,
   "id": "713029c0-5246-4b23-ba91-a8eba3cae1c0",
   "metadata": {},
   "outputs": [],
   "source": [
    "#9 Explain the significance of the `isinstance()` and `issubclass()` functions in Python polymorphism."
   ]
  },
  {
   "cell_type": "markdown",
   "id": "af948cca-ff89-466b-b083-3c61e39e3fb5",
   "metadata": {},
   "source": [
    "The isinstance() and issubclass() functions in Python are significant in the context of polymorphism as they provide tools for type checking and hierarchy exploration, respectively. They are commonly used to determine the type or class relationships of objects, which is essential for achieving polymorphic behavior.\n",
    "\n",
    "isinstance() function:\n",
    "\n",
    "The isinstance() function checks if an object is an instance of a particular class or any subclass thereof.\n",
    "It takes two arguments: the object to be checked and the class or tuple of classes to check against.\n",
    "Returns True if the object is an instance of the specified class or any of its subclasses, and False otherwise.\n",
    "This function is useful for checking the type of objects at runtime and enables conditional behavior based on object types.\n",
    "\n",
    "issubclass() function:\n",
    "\n",
    "The issubclass() function checks if a class is a subclass of another class.\n",
    "It takes two arguments: the subclass to be checked and the superclass to check against.\n",
    "Returns True if the subclass is a subclass of the specified superclass, and False otherwise.\n",
    "This function is useful for exploring class hierarchies and determining class relationships, which is important for designing and understanding polymorphic behavior."
   ]
  },
  {
   "cell_type": "code",
   "execution_count": null,
   "id": "378c80af-7e45-486d-9827-ae10513a6a33",
   "metadata": {},
   "outputs": [],
   "source": [
    "#10 What is the role of the `@abstractmethod` decorator in achieving polymorphism in Python? Provide an example."
   ]
  },
  {
   "cell_type": "markdown",
   "id": "81586d1c-8508-47ae-97f9-a972bac8caa3",
   "metadata": {},
   "source": [
    "The @abstractmethod decorator, part of the abc module (Abstract Base Classes) in Python, is used to define abstract methods within abstract base classes.Abstract methods are methods that must be implemented by subclasses, ensuring that subclasses provide specific functionality, which is essential for achieving polymorphism."
   ]
  },
  {
   "cell_type": "code",
   "execution_count": null,
   "id": "ab84c806-f9ff-4866-a160-6756fba8355d",
   "metadata": {},
   "outputs": [],
   "source": [
    "from abc import ABC, abstractmethod\n",
    "\n",
    "class Shape(ABC):\n",
    "    @abstractmethod\n",
    "    def area(self):\n",
    "        pass\n",
    "\n",
    "class Circle(Shape):\n",
    "    def __init__(self, radius):\n",
    "        self.radius = radius\n",
    "\n",
    "    def area(self):\n",
    "        return 3.14 * self.radius ** 2\n",
    "\n",
    "class Rectangle(Shape):\n",
    "    def __init__(self, length, width):\n",
    "        self.length = length\n",
    "        self.width = width\n",
    "\n",
    "    def area(self):\n",
    "        return self.length * self.width\n",
    "\n",
    "# Demonstrate polymorphism\n",
    "shapes = [Circle(5), Rectangle(4, 6)]\n",
    "for shape in shapes:\n",
    "    print(\"Area:\", shape.area())"
   ]
  },
  {
   "cell_type": "code",
   "execution_count": null,
   "id": "c937881c-61cb-4b15-a34b-ae33203207f0",
   "metadata": {},
   "outputs": [],
   "source": [
    "#11 Create a Python class called `Shape` with a polymorphic method `area()` that calculates the area of different shapes (e.g., circle, rectangle, triangle)."
   ]
  },
  {
   "cell_type": "code",
   "execution_count": null,
   "id": "5b188429-985d-4fee-8301-a8a152666f23",
   "metadata": {},
   "outputs": [],
   "source": [
    "import math\n",
    "\n",
    "class Shape:\n",
    "    def area(self):\n",
    "        raise NotImplementedError(\"Subclass must implement abstract method\")\n",
    "\n",
    "class Circle(Shape):\n",
    "    def __init__(self, radius):\n",
    "        self.radius = radius\n",
    "\n",
    "    def area(self):\n",
    "        return math.pi * self.radius ** 2\n",
    "\n",
    "class Rectangle(Shape):\n",
    "    def __init__(self, length, width):\n",
    "        self.length = length\n",
    "        self.width = width\n",
    "\n",
    "    def area(self):\n",
    "        return self.length * self.width\n",
    "\n",
    "class Triangle(Shape):\n",
    "    def __init__(self, base, height):\n",
    "        self.base = base\n",
    "        self.height = height\n",
    "\n",
    "    def area(self):\n",
    "        return 0.5 * self.base * self.height\n",
    "\n",
    "# Demonstrate polymorphism\n",
    "shapes = [Circle(5), Rectangle(4, 6), Triangle(3, 4)]\n",
    "for shape in shapes:\n",
    "    print(\"Area:\", shape.area())"
   ]
  },
  {
   "cell_type": "code",
   "execution_count": null,
   "id": "ed1cc246-a9e1-4f1c-9242-def51c2a6b2c",
   "metadata": {},
   "outputs": [],
   "source": [
    "#12 Discuss the benefits of polymorphism in terms of code reusability and flexibility in Python programs."
   ]
  },
  {
   "cell_type": "markdown",
   "id": "aadc4cee-e810-4afe-ad0a-ed78d42a9a19",
   "metadata": {},
   "source": [
    "Code Reusability:\n",
    "\n",
    "Polymorphism promotes code reuse by allowing different objects to respond to the same method invocation in different ways.\n",
    "By designing classes to be polymorphic, common behaviors can be implemented once in a superclass and reused across multiple subclasses.\n",
    "This reduces code duplication and simplifies maintenance since changes made to the common behavior in the superclass automatically apply to all subclasses.\n",
    "\n",
    "Flexibility:\n",
    "\n",
    "Polymorphism allows for flexible and dynamic behavior at runtime, enabling objects of different types to be treated uniformly based on their common interface or superclass.\n",
    "It enables developers to write generic code that operates on objects of a superclass type without needing to know the specific subclass types involved.\n",
    "This flexibility facilitates the design of extensible and scalable systems, where new subclasses can be added without modifying existing code, enhancing the system's adaptability to changing requirements."
   ]
  },
  {
   "cell_type": "code",
   "execution_count": null,
   "id": "92a39325-415e-4617-b38b-0059a3463b33",
   "metadata": {},
   "outputs": [],
   "source": [
    "#13 Explain the use of the `super()` function in Python polymorphism. How does it help call methods of parent classes?"
   ]
  },
  {
   "cell_type": "markdown",
   "id": "12ea2f52-9692-4d5d-8410-80343cfb541b",
   "metadata": {},
   "source": [
    "In Python, the super() function is used to call methods and access attributes of a superclass (parent class) within a subclass (child class). It provides a way to invoke the methods or constructors of the superclass from within the subclass, facilitating method delegation and cooperative method invocation."
   ]
  },
  {
   "cell_type": "code",
   "execution_count": null,
   "id": "e75b4a32-a4ed-4467-8bfd-70fb60edfd8e",
   "metadata": {},
   "outputs": [],
   "source": [
    "class Parent:\n",
    "    def greet(self):\n",
    "        return \"Hello from Parent\"\n",
    "\n",
    "class Child(Parent):\n",
    "    def greet(self):\n",
    "        # Calling superclass method using super()\n",
    "        return super().greet() + \" and Child\"\n",
    "\n",
    "# Creating instances and invoking methods\n",
    "child = Child()\n",
    "print(child.greet())  # Output: Hello from Parent and Child"
   ]
  },
  {
   "cell_type": "code",
   "execution_count": null,
   "id": "a8fafabb-b116-4675-9c25-695266ebf0db",
   "metadata": {},
   "outputs": [],
   "source": [
    "#14 Create a Python class hierarchy for a banking system with various account types (e.g., savings, checking, credit card) and demonstrate polymorphism by implementing a common `withdraw()` method."
   ]
  },
  {
   "cell_type": "code",
   "execution_count": null,
   "id": "bc81c224-4870-45c5-9435-a78cd65e748b",
   "metadata": {},
   "outputs": [],
   "source": [
    "class Account:\n",
    "    def __init__(self, account_number, balance):\n",
    "        self.account_number = account_number\n",
    "        self.balance = balance\n",
    "\n",
    "    def withdraw(self, amount):\n",
    "        if amount <= self.balance:\n",
    "            self.balance -= amount\n",
    "            return f\"Withdrawal of {amount} successful. New balance: {self.balance}\"\n",
    "        else:\n",
    "            return \"Insufficient funds\"\n",
    "\n",
    "class SavingsAccount(Account):\n",
    "    def __init__(self, account_number, balance, interest_rate):\n",
    "        super().__init__(account_number, balance)\n",
    "        self.interest_rate = interest_rate\n",
    "\n",
    "    def withdraw(self, amount):\n",
    "        # Add functionality specific to savings account, e.g., check minimum balance\n",
    "        if amount <= self.balance:\n",
    "            self.balance -= amount\n",
    "            return f\"Withdrawal of {amount} successful. New balance: {self.balance}\"\n",
    "        else:\n",
    "            return \"Insufficient funds\"\n",
    "\n",
    "class CheckingAccount(Account):\n",
    "    def __init__(self, account_number, balance, overdraft_limit):\n",
    "        super().__init__(account_number, balance)\n",
    "        self.overdraft_limit = overdraft_limit\n",
    "\n",
    "    def withdraw(self, amount):\n",
    "        # Add functionality specific to checking account, e.g., check overdraft limit\n",
    "        if amount <= self.balance + self.overdraft_limit:\n",
    "            self.balance -= amount\n",
    "            return f\"Withdrawal of {amount} successful. New balance: {self.balance}\"\n",
    "        else:\n",
    "            return \"Exceeds overdraft limit\"\n",
    "\n",
    "class CreditCardAccount(Account):\n",
    "    def __init__(self, account_number, balance, credit_limit):\n",
    "        super().__init__(account_number, balance)\n",
    "        self.credit_limit = credit_limit\n",
    "\n",
    "    def withdraw(self, amount):\n",
    "        # Add functionality specific to credit card account, e.g., check credit limit\n",
    "        if amount <= self.balance + self.credit_limit:\n",
    "            self.balance -= amount\n",
    "            return f\"Withdrawal of {amount} successful. New balance: {self.balance}\"\n",
    "        else:\n",
    "            return \"Exceeds credit limit\"\n",
    "\n",
    "# Demonstrate polymorphism\n",
    "savings_account = SavingsAccount(\"SA001\", 1000, 0.05)\n",
    "checking_account = CheckingAccount(\"CA001\", 2000, 500)\n",
    "credit_card_account = CreditCardAccount(\"CC001\", 500, 1000)\n",
    "\n",
    "print(savings_account.withdraw(500))        # Output: Withdrawal of 500 successful. New balance: 500\n",
    "print(checking_account.withdraw(2500))      # Output: Exceeds overdraft limit\n",
    "print(credit_card_account.withdraw(1500))   # Output: Withdrawal of 1500 successful. New balance: -1000"
   ]
  },
  {
   "cell_type": "code",
   "execution_count": null,
   "id": "41eccfbd-412f-4663-b02c-e090def2ff46",
   "metadata": {},
   "outputs": [],
   "source": [
    "#15 Describe the concept of operator overloading in Python and how it relates to polymorphism. Provide examples using operators like `+` and `*`."
   ]
  },
  {
   "cell_type": "markdown",
   "id": "f9fc1006-4966-4a4c-9e66-411b3ddff6fb",
   "metadata": {},
   "source": [
    "\n",
    "Operator overloading in Python refers to the ability to define custom behavior for operators such as +, -, *, /, and more. It allows objects of a class to respond to operator symbols in a way that is meaningful for that class. Operator overloading is closely related to polymorphism as it enables different objects to behave differently with the same operator, depending on their types."
   ]
  },
  {
   "cell_type": "code",
   "execution_count": null,
   "id": "02bd9a79-4184-4c72-aa24-68fa76f2534b",
   "metadata": {},
   "outputs": [],
   "source": [
    "class Point:\n",
    "    def __init__(self, x, y):\n",
    "        self.x = x\n",
    "        self.y = y\n",
    "\n",
    "    # Overloading the + operator\n",
    "    def __add__(self, other):\n",
    "        return Point(self.x + other.x, self.y + other.y)\n",
    "\n",
    "    # Overloading the * operator (scalar multiplication)\n",
    "    def __mul__(self, scalar):\n",
    "        return Point(self.x * scalar, self.y * scalar)\n",
    "\n",
    "    def __str__(self):\n",
    "        return f\"({self.x}, {self.y})\"\n",
    "\n",
    "# Create Point objects\n",
    "p1 = Point(1, 2)\n",
    "p2 = Point(3, 4)\n",
    "\n",
    "# Adding two points\n",
    "result_addition = p1 + p2\n",
    "print(\"Addition:\", result_addition)  # Output: (4, 6)\n",
    "\n",
    "# Multiplying a point by a scalar\n",
    "result_multiplication = p1 * 2\n",
    "print(\"Multiplication:\", result_multiplication)  # Output: (2, 4)"
   ]
  },
  {
   "cell_type": "code",
   "execution_count": null,
   "id": "d9412f0c-2a3a-4660-b4d1-da8b91f73528",
   "metadata": {},
   "outputs": [],
   "source": [
    "#16 What is dynamic polymorphism, and how is it achieved in Python?"
   ]
  },
  {
   "cell_type": "markdown",
   "id": "61e4a5cb-83ef-4019-a3f9-a42a60937094",
   "metadata": {},
   "source": [
    "Dynamic polymorphism, also known as runtime polymorphism or late binding, refers to the ability of objects to exhibit different behaviors at runtime depending on their actual types. It allows a single interface to represent multiple underlying implementations, with the specific implementation being determined dynamically at runtime. Dynamic polymorphism is achieved through method overriding and method binding.\n",
    "\n",
    "In Python, dynamic polymorphism is primarily achieved through method overriding. Method overriding occurs when a subclass provides a specific implementation of a method that is already defined in its superclass. When a method is invoked on an object, Python dynamically determines which implementation of the method to execute based on the type of the object at runtime.\n",
    "\n",
    "Here's how dynamic polymorphism is achieved in Python:\n",
    "\n",
    "Method Overriding:\n",
    "\n",
    "Subclasses can override methods defined in their superclasses by providing their own implementations.\n",
    "When a method is called on an object, Python searches the method resolution order (MRO) to find the appropriate implementation of the method, starting from the class of the object and traversing up the class hierarchy.\n",
    "If a method is found in the subclass, it is invoked; otherwise, Python looks for the method in the superclass and its ancestors.\n",
    "Dynamic Binding:\n",
    "\n",
    "Python uses dynamic binding to determine which method implementation to execute at runtime.\n",
    "The specific implementation of a method to be invoked is determined based on the type of the object at runtime, not at compile time.\n",
    "This allows Python to achieve dynamic polymorphism, where objects of different types can respond to the same method invocation in different ways."
   ]
  },
  {
   "cell_type": "code",
   "execution_count": null,
   "id": "b1e97189-d7db-4398-8114-469418f47273",
   "metadata": {},
   "outputs": [],
   "source": [
    "#17 Create a Python class hierarchy for employees in a company (e.g., manager, developer, designer) and implement polymorphism through a common `calculate_salary()` method."
   ]
  },
  {
   "cell_type": "code",
   "execution_count": null,
   "id": "c512591f-ff12-4284-ad14-f0b5181664f9",
   "metadata": {},
   "outputs": [],
   "source": [
    "class Employee:\n",
    "    def __init__(self, name, salary):\n",
    "        self.name = name\n",
    "        self.salary = salary\n",
    "\n",
    "    def calculate_salary(self):\n",
    "        return self.salary\n",
    "\n",
    "class Manager(Employee):\n",
    "    def __init__(self, name, salary, bonus):\n",
    "        super().__init__(name, salary)\n",
    "        self.bonus = bonus\n",
    "\n",
    "    def calculate_salary(self):\n",
    "        return self.salary + self.bonus\n",
    "\n",
    "class Developer(Employee):\n",
    "    def __init__(self, name, salary, language):\n",
    "        super().__init__(name, salary)\n",
    "        self.language = language\n",
    "\n",
    "    def calculate_salary(self):\n",
    "        return self.salary\n",
    "\n",
    "class Designer(Employee):\n",
    "    def __init__(self, name, salary, experience):\n",
    "        super().__init__(name, salary)\n",
    "        self.experience = experience\n",
    "\n",
    "    def calculate_salary(self):\n",
    "        return self.salary + (self.experience * 1000)\n",
    "\n",
    "# Demonstrate polymorphism\n",
    "employees = [\n",
    "    Manager(\"John Doe\", 50000, 10000),\n",
    "    Developer(\"Alice Smith\", 60000, \"Python\"),\n",
    "    Designer(\"Bob Johnson\", 55000, 5)\n",
    "]\n",
    "\n",
    "for employee in employees:\n",
    "    print(f\"{employee.name}'s salary: ${employee.calculate_salary()}\")"
   ]
  },
  {
   "cell_type": "code",
   "execution_count": null,
   "id": "449be7dc-e2d5-426f-8f84-d6f9073371b0",
   "metadata": {},
   "outputs": [],
   "source": [
    "#18 Discuss the concept of function pointers and how they can be used to achieve polymorphism in Python."
   ]
  },
  {
   "cell_type": "markdown",
   "id": "dcad9ca5-e96f-4535-aa67-2f9ebecb13f0",
   "metadata": {},
   "source": [
    "\n",
    "In Python, there are no function pointers in the traditional sense as found in languages like C or C++. However, Python's dynamic nature and first-class functions enable a similar level of functionality. In Python, functions are first-class citizens, meaning they can be passed around as arguments, returned from other functions, and assigned to variables. This concept can be leveraged to achieve polymorphism through function references.\n",
    "\n",
    "Here's how function pointers, or rather function references, can be used to achieve polymorphism in Python:\n",
    "\n",
    "Function References:\n",
    "\n",
    "Functions in Python can be assigned to variables just like any other data type.\n",
    "These function references can be passed as arguments to other functions, stored in data structures, and returned from other functions.\n",
    "Polymorphism with Function References:\n",
    "\n",
    "Polymorphism in Python can be achieved by defining a common interface (e.g., a function signature) that multiple objects can implement.\n",
    "Each object provides its own implementation of the interface through a function, and these functions are referenced dynamically at runtime based on the object's type.\n",
    "Example:\n",
    "\n",
    "We can define a common function signature and have different objects implement that function with their specific behavior.\n",
    "By dynamically selecting and invoking the appropriate function based on the object's type, we achieve polymorphic behavior."
   ]
  },
  {
   "cell_type": "code",
   "execution_count": null,
   "id": "ec916b98-b981-4255-b5d1-69743de142de",
   "metadata": {},
   "outputs": [],
   "source": [
    "#19 Explain the role of interfaces and abstract classes in polymorphism, drawing comparisons between them."
   ]
  },
  {
   "cell_type": "markdown",
   "id": "bfef2d77-5737-4166-9742-4c7a75abf58a",
   "metadata": {},
   "source": [
    "In object-oriented programming, interfaces and abstract classes play key roles in achieving polymorphism by defining common behaviors that can be implemented by multiple classes. While they serve similar purposes, there are differences between them in terms of implementation and usage.\n",
    "\n",
    "Interfaces:\n",
    "\n",
    "An interface in Python is a collection of method signatures without any implementation details.\n",
    "It defines a contract that classes must adhere to by implementing all the methods specified in the interface.\n",
    "Interfaces provide a way to achieve polymorphism by allowing objects of different classes to be treated uniformly based on the common interface they implement.\n",
    "In Python, interfaces are typically represented using abstract base classes (ABCs) with no implementation code.\n",
    "Classes can implement multiple interfaces, enabling them to provide different behaviors based on the interfaces they support.\n",
    "\n",
    "Abstract Classes:\n",
    "\n",
    "An abstract class is a class that cannot be instantiated on its own and contains one or more abstract methods, which are methods without any implementation.\n",
    "Abstract classes may also contain concrete methods with implementation details.\n",
    "Abstract classes serve as a blueprint for concrete subclasses, defining common behavior that must be implemented by subclasses.\n",
    "Subclasses of an abstract class must implement all the abstract methods defined in the abstract class.\n",
    "Abstract classes provide a way to achieve polymorphism by defining a common interface through abstract methods that subclasses must override.\n",
    "Abstract classes can provide default implementations for some methods, which subclasses can optionally override.\n",
    "\n",
    "Comparisons:\n",
    "\n",
    "Definition:\n",
    "\n",
    "Interfaces define only method signatures, while abstract classes may contain method signatures as well as concrete methods with implementations.\n",
    "\n",
    "Instantiation:\n",
    "\n",
    "Interfaces cannot be instantiated, while abstract classes cannot be instantiated directly but can serve as blueprints for concrete subclasses.\n",
    "\n",
    "Usage:\n",
    "\n",
    "Interfaces are used to define a contract that classes must adhere to by implementing all the methods specified in the interface.\n",
    "Abstract classes are used to define common behavior and enforce method implementations by subclasses.\n",
    "\n",
    "Flexibility:\n",
    "\n",
    "Interfaces offer more flexibility as classes can implement multiple interfaces.\n",
    "Abstract classes provide more structure and allow for the definition of default behavior that subclasses can inherit or override.\n",
    "\n",
    "Implementation:\n",
    "\n",
    "Interfaces are typically implemented using abstract base classes (ABCs) with no implementation code.\n",
    "Abstract classes are implemented using the abc module in Python and may contain both abstract and concrete methods."
   ]
  },
  {
   "cell_type": "code",
   "execution_count": null,
   "id": "bd79a710-8371-4179-9484-6dfeb2733b98",
   "metadata": {},
   "outputs": [],
   "source": [
    "#20 Create a Python class for a zoo simulation, demonstrating polymorphism with different animal types (e.g., mammals, birds, reptiles) and their behavior (e.g., eating, sleeping, making sounds)."
   ]
  },
  {
   "cell_type": "code",
   "execution_count": null,
   "id": "561137cf-c902-4636-a20d-f8c1fef1be04",
   "metadata": {},
   "outputs": [],
   "source": [
    "class Animal:\n",
    "    def __init__(self, name):\n",
    "        self.name = name\n",
    "\n",
    "    def make_sound(self):\n",
    "        raise NotImplementedError(\"Subclass must implement make_sound method\")\n",
    "\n",
    "    def eat(self):\n",
    "        return f\"{self.name} is eating\"\n",
    "\n",
    "    def sleep(self):\n",
    "        return f\"{self.name} is sleeping\"\n",
    "\n",
    "class Mammal(Animal):\n",
    "    def __init__(self, name):\n",
    "        super().__init__(name)\n",
    "\n",
    "    def give_birth(self):\n",
    "        return f\"{self.name} is giving birth\"\n",
    "\n",
    "class Bird(Animal):\n",
    "    def __init__(self, name):\n",
    "        super().__init__(name)\n",
    "\n",
    "    def fly(self):\n",
    "        return f\"{self.name} is flying\"\n",
    "\n",
    "class Reptile(Animal):\n",
    "    def __init__(self, name):\n",
    "        super().__init__(name)\n",
    "\n",
    "    def crawl(self):\n",
    "        return f\"{self.name} is crawling\"\n",
    "\n",
    "class Dog(Mammal):\n",
    "    def __init__(self, name):\n",
    "        super().__init__(name)\n",
    "\n",
    "    def make_sound(self):\n",
    "        return \"Bow!\"\n",
    "\n",
    "class Cat(Mammal):\n",
    "    def __init__(self, name):\n",
    "        super().__init__(name)\n",
    "\n",
    "    def make_sound(self):\n",
    "        return \"Meow!\"\n",
    "\n",
    "class Parrot(Bird):\n",
    "    def __init__(self, name):\n",
    "        super().__init__(name)\n",
    "\n",
    "    def make_sound(self):\n",
    "        return \"Squawk!\"\n",
    "\n",
    "class Snake(Reptile):\n",
    "    def __init__(self, name):\n",
    "        super().__init__(name)\n",
    "\n",
    "    def make_sound(self):\n",
    "        return \"Hiss!\"\n",
    "\n",
    "# Zoo simulation\n",
    "animals = [\n",
    "    Dog(\"DOG\"),\n",
    "    Cat(\"CAT\"),\n",
    "    Parrot(\"PARROT\"),\n",
    "    Snake(\"SNAKE\")\n",
    "]\n",
    "\n",
    "for animal in animals:\n",
    "    print(animal.name)\n",
    "    print(animal.make_sound())\n",
    "    print(animal.eat())\n",
    "    print(animal.sleep())\n",
    "    if isinstance(animal, Bird):\n",
    "        print(animal.fly())\n",
    "    elif isinstance(animal, Reptile):\n",
    "        print(animal.crawl())\n",
    "    elif isinstance(animal, Mammal):\n",
    "        print(animal.give_birth())\n",
    "    print()"
   ]
  },
  {
   "cell_type": "markdown",
   "id": "e45d55f3-bf2c-488d-9658-4ace6317d427",
   "metadata": {},
   "source": [
    "Problems on Abstraction"
   ]
  },
  {
   "cell_type": "code",
   "execution_count": null,
   "id": "2b0d3f5c-1ca7-436a-8b02-1d5772c6ae75",
   "metadata": {},
   "outputs": [],
   "source": [
    "#1 What is abstraction in Python, and how does it relate to object-oriented programming?"
   ]
  },
  {
   "cell_type": "markdown",
   "id": "49528343-e5e0-4167-94eb-809336100216",
   "metadata": {},
   "source": [
    "Abstraction in Python is a fundamental concept in object-oriented programming (OOP) that involves simplifying complex systems by modeling only the relevant aspects and hiding unnecessary details from the user. It allows developers to focus on the essential characteristics of an object or system while ignoring the implementation details.\n",
    "\n",
    "In Python, abstraction is achieved through several mechanisms:\n",
    "\n",
    "Classes and Objects:\n",
    "\n",
    "Classes in Python encapsulate data (attributes) and behavior (methods) into a single unit.\n",
    "Objects are instances of classes and represent real-world entities.\n",
    "By defining classes and objects, developers can abstract away the complexities of real-world entities and work with them at a higher level of abstraction.\n",
    "Encapsulation:\n",
    "\n",
    "Encapsulation refers to bundling the data and methods that operate on the data into a single unit (class).\n",
    "It allows for the hiding of the internal state of an object from the outside world and only exposing the necessary interfaces for interacting with the object.\n",
    "Encapsulation helps achieve abstraction by providing a clear separation between the interface and the implementation details of an object.\n",
    "Abstract Classes and Interfaces:\n",
    "\n",
    "Abstract classes define methods without implementation details, acting as templates for concrete subclasses to implement.\n",
    "Interfaces define method signatures without any implementation details, specifying a contract that classes must adhere to.\n",
    "Abstract classes and interfaces provide a high level of abstraction by defining common behaviors that can be implemented by multiple classes, enabling polymorphism.\n",
    "Data Abstraction:\n",
    "\n",
    "Data abstraction involves representing the essential characteristics of data while hiding implementation details.\n",
    "In Python, data abstraction can be achieved through encapsulation, where the internal representation of data is hidden from the outside world, and only the necessary operations on the data are exposed through methods.\n",
    "Function and Method Abstraction:\n",
    "\n",
    "Functions and methods in Python allow developers to abstract away repetitive tasks or algorithms into reusable units of code.\n",
    "By encapsulating logic within functions or methods, developers can achieve abstraction by hiding the implementation details and providing a clear interface for invoking the functionality."
   ]
  },
  {
   "cell_type": "code",
   "execution_count": null,
   "id": "352196f1-b306-46af-9463-5f067da3210b",
   "metadata": {},
   "outputs": [],
   "source": [
    "#2 Describe the benefits of abstraction in terms of code organization and complexity reduction."
   ]
  },
  {
   "cell_type": "markdown",
   "id": "fa69a17c-6ad3-468f-8751-a3b96a450ad4",
   "metadata": {},
   "source": [
    "Abstraction offers several benefits in terms of code organization and reduction of complexity in software development:\n",
    "\n",
    "Modularity: Abstraction promotes modularity by breaking down complex systems into smaller, manageable units. Classes, functions, and modules encapsulate specific functionalities, making it easier to understand and maintain the codebase.\n",
    "\n",
    "Code Reusability: Abstraction allows developers to create reusable components such as classes, functions, and modules. These components can be utilized across different parts of the application or in multiple projects, reducing duplication of code and promoting code reusability.\n",
    "\n",
    "Simplified Interfaces: Abstraction hides implementation details and exposes only essential interfaces or APIs for interacting with objects or systems. This simplifies usage and reduces the cognitive burden on developers, as they only need to understand the interface rather than the underlying complexity.\n",
    "\n",
    "Encapsulation of Complexity: Abstraction encapsulates complex logic and implementation details within modules or classes, shielding users from unnecessary complexity. This separation of concerns allows developers to focus on high-level design and functionality without being bogged down by low-level details.\n",
    "\n",
    "Ease of Maintenance: By organizing code into modular and abstract components, maintenance becomes more straightforward. Changes or updates can be localized to specific modules or classes, reducing the risk of unintended side effects and making it easier to debug and troubleshoot issues.\n",
    "\n",
    "Scalability: Abstraction facilitates scalability by providing a structured approach to building software systems. As the complexity of the system grows, abstraction allows for the addition of new components or features without significantly impacting existing code, thus enabling the system to scale gracefully.\n",
    "\n",
    "Improved Collaboration: Abstraction promotes a clear separation of concerns and well-defined interfaces, making it easier for multiple developers to collaborate on a project. Each developer can work on different modules or components independently, reducing conflicts and facilitating parallel development.\n",
    "\n",
    "Enhanced Testing: Abstract components are typically easier to test in isolation, as they have well-defined interfaces and encapsulate specific functionalities. This makes unit testing and integration testing more manageable and increases the overall reliability of the software."
   ]
  },
  {
   "cell_type": "code",
   "execution_count": null,
   "id": "6866f219-1cac-458e-b0b8-9e7ec84f2b65",
   "metadata": {},
   "outputs": [],
   "source": [
    "#3 Create a Python class called `Shape` with an abstract method `calculate_area()`. Then, create child classes (e.g., `Circle`, `Rectangle`) that implement the `calculate_area()` method. Provide an example of using these classes."
   ]
  },
  {
   "cell_type": "code",
   "execution_count": null,
   "id": "4480e3ee-b784-4cc8-8bb8-11a2f356a2ac",
   "metadata": {},
   "outputs": [],
   "source": [
    "from abc import ABC, abstractmethod\n",
    "import math\n",
    "\n",
    "class Shape(ABC):\n",
    "    @abstractmethod\n",
    "    def calculate_area(self):\n",
    "        pass\n",
    "\n",
    "class Circle(Shape):\n",
    "    def __init__(self, radius):\n",
    "        self.radius = radius\n",
    "\n",
    "    def calculate_area(self):\n",
    "        return math.pi * self.radius ** 2\n",
    "\n",
    "class Rectangle(Shape):\n",
    "    def __init__(self, width, height):\n",
    "        self.width = width\n",
    "        self.height = height\n",
    "\n",
    "    def calculate_area(self):\n",
    "        return self.width * self.height\n",
    "\n",
    "# Example usage\n",
    "circle = Circle(5)\n",
    "rectangle = Rectangle(4, 6)\n",
    "\n",
    "print(\"Area of the circle:\", circle.calculate_area())\n",
    "print(\"Area of the rectangle:\", rectangle.calculate_area())"
   ]
  },
  {
   "cell_type": "code",
   "execution_count": null,
   "id": "f3a4773b-60ee-48e3-8a0b-42252efb9bda",
   "metadata": {},
   "outputs": [],
   "source": [
    "#4 Explain the concept of abstract classes in Python and how they are defined using the `abc` module. Provide an example."
   ]
  },
  {
   "cell_type": "markdown",
   "id": "3704dbfd-eebc-4397-a5e0-4338ec595017",
   "metadata": {},
   "source": [
    "\n",
    "Abstract classes in Python are classes that cannot be instantiated directly and typically contain one or more abstract methods, which are methods without any implementation. Abstract classes serve as templates or blueprints for concrete subclasses to implement specific behaviors or functionalities. They define a common interface that subclasses must adhere to by implementing the abstract methods.\n",
    "\n",
    "In Python, abstract classes are defined using the abc module, which stands for Abstract Base Classes. This module provides the ABC class and the abstractmethod decorator to create abstract classes and methods, respectively."
   ]
  },
  {
   "cell_type": "code",
   "execution_count": null,
   "id": "b3fcbdda-fe0b-4845-89f8-1b3407c3fb7b",
   "metadata": {},
   "outputs": [],
   "source": [
    "from abc import ABC, abstractmethod\n",
    "\n",
    "class AbstractClass(ABC):\n",
    "    @abstractmethod\n",
    "    def abstract_method(self):\n",
    "        pass\n",
    "\n",
    "    def concrete_method(self):\n",
    "        print(\"This is a concrete method in the abstract class.\")\n",
    "\n",
    "class ConcreteClass(AbstractClass):\n",
    "    def abstract_method(self):\n",
    "        print(\"This is the implementation of the abstract method.\")\n",
    "\n",
    "# Attempting to instantiate the abstract class will raise an error\n",
    "# abstract_instance = AbstractClass()  # This will raise an error\n",
    "\n",
    "# Creating an instance of the concrete subclass is allowed\n",
    "concrete_instance = ConcreteClass()\n",
    "concrete_instance.abstract_method()  # Output: This is the implementation of the abstract method.\n",
    "concrete_instance.concrete_method()  # Output: This is a concrete method in the abstract class."
   ]
  },
  {
   "cell_type": "code",
   "execution_count": null,
   "id": "55a7e159-df46-4bce-9e44-99bf3bef6859",
   "metadata": {},
   "outputs": [],
   "source": [
    "#5 How do abstract classes differ from regular classes in Python? Discuss their use cases."
   ]
  },
  {
   "cell_type": "markdown",
   "id": "7d6cdf58-2e8f-4c3a-abe1-5245ac74a64a",
   "metadata": {},
   "source": [
    "Abstract classes and regular classes in Python differ in their behavior, purpose, and usage:\n",
    "\n",
    "Instantiation:\n",
    "\n",
    "Abstract classes cannot be instantiated directly. They serve as blueprints for other classes and typically contain one or more abstract methods that must be implemented by concrete subclasses.\n",
    "Regular classes, on the other hand, can be instantiated directly. They define concrete behaviors and may or may not contain abstract methods.\n",
    "Implementation:\n",
    "\n",
    "Abstract classes may contain both abstract methods (methods without implementation) and concrete methods (methods with implementation).\n",
    "Regular classes primarily contain concrete methods, although they can also include abstract methods if they are intended to be subclassed.\n",
    "Purpose:\n",
    "\n",
    "Abstract classes are used to define common interfaces or behaviors that must be implemented by subclasses. They provide a template for subclasses to follow and ensure consistency in behavior across multiple classes.\n",
    "Regular classes are used to define concrete objects with specific attributes and behaviors. They encapsulate data and provide methods to manipulate that data.\n",
    "Use Cases:\n",
    "\n",
    "Abstract classes are useful when you want to define a common interface or behavior that multiple subclasses must adhere to. For example, in a geometric shapes hierarchy, an abstract class Shape can define an abstract method calculate_area(), which concrete shape classes like Circle and Rectangle must implement.\n",
    "Regular classes are used when you want to create concrete objects with specific attributes and behaviors. For example, a class Person may have attributes like name, age, and gender, along with methods like eat() and sleep().\n",
    "Inheritance:\n",
    "\n",
    "Abstract classes often serve as base classes for inheritance. Concrete subclasses inherit from abstract classes and provide implementations for the abstract methods.\n",
    "Regular classes can also be used as base classes for inheritance, but they typically do not contain abstract methods. Subclasses inherit both the attributes and behaviors defined in the base class."
   ]
  },
  {
   "cell_type": "code",
   "execution_count": null,
   "id": "9907b0f0-b9d9-41c0-b93c-101d5cc40a6b",
   "metadata": {},
   "outputs": [],
   "source": [
    "#6 Create a Python class for a bank account and demonstrate abstraction by hiding the account balance and providing methods to deposit and withdraw funds."
   ]
  },
  {
   "cell_type": "code",
   "execution_count": null,
   "id": "8a0f2085-0026-4736-b51c-844390b256ea",
   "metadata": {},
   "outputs": [],
   "source": [
    "class BankAccount:\n",
    "    def __init__(self, initial_balance=0):\n",
    "        self._balance = initial_balance  # Private attribute\n",
    "\n",
    "    def deposit(self, amount):\n",
    "        if amount > 0:\n",
    "            self._balance += amount\n",
    "            print(f\"Deposited ${amount}. New balance: ${self._balance}\")\n",
    "        else:\n",
    "            print(\"Invalid deposit amount.\")\n",
    "\n",
    "    def withdraw(self, amount):\n",
    "        if 0 < amount <= self._balance:\n",
    "            self._balance -= amount\n",
    "            print(f\"Withdrew ${amount}. New balance: ${self._balance}\")\n",
    "        else:\n",
    "            print(\"Insufficient funds or invalid withdrawal amount.\")\n",
    "\n",
    "# Example usage\n",
    "account = BankAccount(1000)  # Initialize with $1000 balance\n",
    "print(\"Initial balance:\", account._balance)  # Accessing balance directly (not recommended)\n",
    "\n",
    "account.deposit(500)  # Deposit $500\n",
    "account.withdraw(200)  # Withdraw $200\n",
    "account.withdraw(1500)  # Attempt to withdraw $1500 (insufficient funds)"
   ]
  },
  {
   "cell_type": "code",
   "execution_count": null,
   "id": "7f71caa0-d5e1-4f3c-833a-f2e83f60a967",
   "metadata": {},
   "outputs": [],
   "source": [
    "#7 Discuss the concept of interface classes in Python and their role in achieving abstraction."
   ]
  },
  {
   "cell_type": "markdown",
   "id": "b0847db2-ac59-4483-9a2e-650b0a139d65",
   "metadata": {},
   "source": [
    "\n",
    "In Python, interface classes are classes that define a set of method signatures without providing any implementation details. They serve as blueprints or contracts that specify what methods a concrete class must implement. Interface classes play a crucial role in achieving abstraction by providing a common interface that multiple classes can adhere to, promoting code reusability, maintainability, and interoperability.\n",
    "\n",
    "While Python does not have built-in support for interface classes like some other programming languages (e.g., Java), interface-like behavior can be achieved using abstract base classes (ABCs) from the abc module or through informal conventions."
   ]
  },
  {
   "cell_type": "code",
   "execution_count": null,
   "id": "f2aa79a9-f6b8-4193-8db7-31326967703c",
   "metadata": {},
   "outputs": [],
   "source": [
    "#8 Create a Python class hierarchy for animals and implement abstraction by defining common methods (e.g., `eat()`, `sleep()`) in an abstract base class."
   ]
  },
  {
   "cell_type": "code",
   "execution_count": null,
   "id": "b3792c7d-3eeb-4f54-af2c-33f6822a6b44",
   "metadata": {},
   "outputs": [],
   "source": [
    "from abc import ABC, abstractmethod\n",
    "\n",
    "class Animal(ABC):\n",
    "    def __init__(self, name):\n",
    "        self.name = name\n",
    "\n",
    "    @abstractmethod\n",
    "    def eat(self):\n",
    "        pass\n",
    "\n",
    "    @abstractmethod\n",
    "    def sleep(self):\n",
    "        pass\n",
    "\n",
    "class Dog(Animal):\n",
    "    def __init__(self, name):\n",
    "        super().__init__(name)\n",
    "\n",
    "    def eat(self):\n",
    "        return f\"{self.name} is eating dog food.\"\n",
    "\n",
    "    def sleep(self):\n",
    "        return f\"{self.name} is sleeping in a dog bed.\"\n",
    "\n",
    "class Cat(Animal):\n",
    "    def __init__(self, name):\n",
    "        super().__init__(name)\n",
    "\n",
    "    def eat(self):\n",
    "        return f\"{self.name} is eating cat food.\"\n",
    "\n",
    "    def sleep(self):\n",
    "        return f\"{self.name} is sleeping in a cat bed.\"\n",
    "\n",
    "class Bird(Animal):\n",
    "    def __init__(self, name):\n",
    "        super().__init__(name)\n",
    "\n",
    "    def eat(self):\n",
    "        return f\"{self.name} is eating bird seed.\"\n",
    "\n",
    "    def sleep(self):\n",
    "        return f\"{self.name} is roosting on a perch.\"\n",
    "\n",
    "# Example usage\n",
    "dog = Dog(\"Buddy\")\n",
    "cat = Cat(\"Whiskers\")\n",
    "bird = Bird(\"Polly\")\n",
    "\n",
    "print(dog.eat())\n",
    "print(dog.sleep())\n",
    "print(cat.eat())\n",
    "print(cat.sleep())\n",
    "print(bird.eat())\n",
    "print(bird.sleep())"
   ]
  },
  {
   "cell_type": "code",
   "execution_count": null,
   "id": "9fccc775-16d9-4834-9530-bb7f57e7e264",
   "metadata": {},
   "outputs": [],
   "source": [
    "#9 Explain the significance of encapsulation in achieving abstraction. Provide examples."
   ]
  },
  {
   "cell_type": "markdown",
   "id": "08953820-2727-4ed1-9793-2c8a12fedf70",
   "metadata": {},
   "source": [
    "Encapsulation is a fundamental concept in object-oriented programming (OOP) that involves bundling data (attributes) and methods (functions) that operate on the data into a single unit (a class). Encapsulation hides the internal state of an object from the outside world and provides controlled access to the object's attributes and methods. This helps in achieving abstraction by allowing objects to expose only essential interfaces while hiding implementation details.\n",
    "\n",
    "Here's how encapsulation contributes to achieving abstraction:\n",
    "\n",
    "Information Hiding:\n",
    "\n",
    "Encapsulation allows the internal state of an object (its attributes) to be hidden from the outside world. By defining attributes as private or protected, we prevent direct access to these attributes from outside the class. This ensures that the object's internal representation is protected and only accessible through well-defined interfaces (methods).\n",
    "\n",
    "Controlled Access:\n",
    "\n",
    "Encapsulation allows controlled access to an object's attributes and methods through well-defined interfaces. By providing getter and setter methods, we can enforce constraints and validation logic, ensuring that the object's state remains consistent and valid.\n",
    "\n",
    "Modularity:\n",
    "\n",
    "Encapsulation promotes modularity by bundling related data and methods into a single unit (a class). This makes it easier to organize and manage code, as each class represents a cohesive unit of functionality with well-defined responsibilities."
   ]
  },
  {
   "cell_type": "code",
   "execution_count": null,
   "id": "89b4a969-68c8-4208-891c-f3f24328e6c8",
   "metadata": {},
   "outputs": [],
   "source": [
    "class Person:\n",
    "    def __init__(self, name, age):\n",
    "        self._name = name  # Encapsulated attribute (protected)\n",
    "        self._age = age    # Encapsulated attribute (protected)\n",
    "\n",
    "    def get_name(self):\n",
    "        return self._name  # Getter method for accessing the name attribute\n",
    "\n",
    "    def set_age(self, age):\n",
    "        if age > 0:\n",
    "            self._age = age  # Setter method for modifying the age attribute\n",
    "\n",
    "person = Person(\"Alice\", 30)\n",
    "print(person.get_name())  # Accessing the name attribute through a getter method\n",
    "person.set_age(35)        # Modifying the age attribute through a setter method\n",
    "\n",
    "#--------------------------------------------------------------------------#\n",
    "\n",
    "class BankAccount:\n",
    "    def __init__(self, initial_balance=0):\n",
    "        self._balance = initial_balance  # Encapsulated attribute (protected)\n",
    "\n",
    "    def deposit(self, amount):\n",
    "        if amount > 0:\n",
    "            self._balance += amount  # Modifying the balance attribute directly\n",
    "\n",
    "    def get_balance(self):\n",
    "        return self._balance  # Getter method for accessing the balance attribute\n",
    "\n",
    "account = BankAccount(1000)\n",
    "account.deposit(500)  # Modifying the balance attribute through a method\n",
    "print(account.get_balance())  # Accessing the balance attribute through a method\n",
    "\n",
    "#---------------------------------------------------------------------------#\n",
    "\n",
    "class Car:\n",
    "    def __init__(self, make, model):\n",
    "        self._make = make    # Encapsulated attribute (protected)\n",
    "        self._model = model  # Encapsulated attribute (protected)\n",
    "\n",
    "    def drive(self):\n",
    "        print(f\"Driving {self._make} {self._model}\")  # Method for performing an action"
   ]
  },
  {
   "cell_type": "code",
   "execution_count": null,
   "id": "8c70b965-253c-480a-9e5a-2b6c3e75d2b9",
   "metadata": {},
   "outputs": [],
   "source": [
    "#10 What is the purpose of abstract methods, and how do they enforce abstraction in Python classes?"
   ]
  },
  {
   "cell_type": "markdown",
   "id": "6301fb05-c354-46c4-a69b-80eb0483209b",
   "metadata": {},
   "source": [
    "The purpose of abstract methods in Python is to define a method signature without providing any implementation details. Abstract methods serve as placeholders within abstract base classes (ABCs) to define a common interface that concrete subclasses must adhere to. They enforce abstraction by ensuring that subclasses provide their own implementation for these methods, promoting consistency and interoperability among related classes.\n",
    "\n",
    "Here's how abstract methods enforce abstraction in Python classes:\n",
    "\n",
    "Common Interface: Abstract methods define a common interface that concrete subclasses must implement. This allows multiple subclasses to share a common set of methods, ensuring consistency in behavior across different classes.\n",
    "\n",
    "Enforce Implementation: Abstract methods do not provide any implementation details. Instead, they act as a contract or a blueprint that specifies what methods must be implemented by concrete subclasses. If a subclass fails to implement an abstract method, Python raises an error at runtime, indicating that the class is incomplete.\n",
    "\n",
    "Polymorphism: Abstract methods enable polymorphism by allowing different subclasses to provide their own implementations of the same method. This allows objects of different classes to be treated interchangeably based on their common interface, promoting code reuse and flexibility."
   ]
  },
  {
   "cell_type": "code",
   "execution_count": null,
   "id": "ef1b5735-87dd-45d2-a037-81739d355f01",
   "metadata": {},
   "outputs": [],
   "source": [
    "#11 Create a Python class for a vehicle system and demonstrate abstraction by defining common methods (e.g., `start()`, `stop()`) in an abstract base class."
   ]
  },
  {
   "cell_type": "code",
   "execution_count": null,
   "id": "961ff630-f7d2-4af9-abb8-4164f1a72ac1",
   "metadata": {},
   "outputs": [],
   "source": [
    "from abc import ABC, abstractmethod\n",
    "\n",
    "class Vehicle(ABC):\n",
    "    def __init__(self, brand, model):\n",
    "        self.brand = brand\n",
    "        self.model = model\n",
    "\n",
    "    @abstractmethod\n",
    "    def start(self):\n",
    "        pass\n",
    "\n",
    "    @abstractmethod\n",
    "    def stop(self):\n",
    "        pass\n",
    "\n",
    "class Car(Vehicle):\n",
    "    def start(self):\n",
    "        return f\"Starting the {self.brand} {self.model}.\"\n",
    "\n",
    "    def stop(self):\n",
    "        return f\"Stopping the {self.brand} {self.model}.\"\n",
    "\n",
    "class Bicycle(Vehicle):\n",
    "    def start(self):\n",
    "        return f\"Mounting the {self.brand} {self.model}.\"\n",
    "\n",
    "    def stop(self):\n",
    "        return f\"Dismounting the {self.brand} {self.model}.\"\n",
    "\n",
    "# Example usage\n",
    "car = Car(\"Toyota\", \"Camry\")\n",
    "bicycle = Bicycle(\"Giant\", \"Defy\")\n",
    "\n",
    "print(car.start())\n",
    "print(car.stop())\n",
    "print(bicycle.start())\n",
    "print(bicycle.stop())"
   ]
  },
  {
   "cell_type": "code",
   "execution_count": null,
   "id": "53d3945f-eb6b-4146-a7f0-cc0756b3bad3",
   "metadata": {},
   "outputs": [],
   "source": [
    "#12 Describe the use of abstract properties in Python and how they can be employed in abstract classes."
   ]
  },
  {
   "cell_type": "markdown",
   "id": "ff232ed7-8873-4aa5-8e65-2a8b4b04203d",
   "metadata": {},
   "source": [
    "Abstract properties in Python are properties that are defined in abstract base classes (ABCs) using the @property decorator without providing any implementation details. They serve as placeholders for attributes that must be implemented by concrete subclasses. Abstract properties enforce abstraction by specifying the existence of certain attributes without specifying their implementation, ensuring that subclasses provide their own implementations.\n",
    "\n",
    "Here's how abstract properties can be employed in abstract classes:\n",
    "\n",
    "Define Abstract Properties: Abstract properties are defined in abstract base classes using the @property decorator without providing any implementation details. These properties act as placeholders for attributes that must be implemented by concrete subclasses.\n",
    "\n",
    "Enforce Implementation: Subclasses that inherit from the abstract base class must provide their own implementations for the abstract properties. If a subclass fails to implement an abstract property, Python raises an error at runtime, indicating that the class is incomplete.\n",
    "\n",
    "Getter and Setter Methods: Abstract properties can also define getter and setter methods that specify how the attribute should be accessed and modified. Subclasses can provide custom implementations for these getter and setter methods as needed."
   ]
  },
  {
   "cell_type": "code",
   "execution_count": null,
   "id": "2c4e3de2-df67-4486-b9fd-a5f7789a4549",
   "metadata": {},
   "outputs": [],
   "source": [
    "#13 Create a Python class hierarchy for employees in a company (e.g., manager, developer, designer) and implement abstraction by defining a common `get_salary()` method."
   ]
  },
  {
   "cell_type": "code",
   "execution_count": null,
   "id": "46fb4374-2bcb-4116-b669-fba1fd908c62",
   "metadata": {},
   "outputs": [],
   "source": [
    "from abc import ABC, abstractmethod\n",
    "\n",
    "class Employee(ABC):\n",
    "    def __init__(self, name, role):\n",
    "        self.name = name\n",
    "        self.role = role\n",
    "\n",
    "    @abstractmethod\n",
    "    def get_salary(self):\n",
    "        pass\n",
    "\n",
    "class Manager(Employee):\n",
    "    def get_salary(self):\n",
    "        return 60000  # Salary calculation logic for a manager\n",
    "\n",
    "class Developer(Employee):\n",
    "    def get_salary(self):\n",
    "        return 80000  # Salary calculation logic for a developer\n",
    "\n",
    "class Designer(Employee):\n",
    "    def get_salary(self):\n",
    "        return 70000  # Salary calculation logic for a designer\n",
    "\n",
    "# Example usage\n",
    "manager = Manager(\"Alice\", \"Manager\")\n",
    "developer = Developer(\"Bob\", \"Developer\")\n",
    "designer = Designer(\"Charlie\", \"Designer\")\n",
    "\n",
    "print(f\"{manager.name} ({manager.role}) Salary: ${manager.get_salary()}\")\n",
    "print(f\"{developer.name} ({developer.role}) Salary: ${developer.get_salary()}\")\n",
    "print(f\"{designer.name} ({designer.role}) Salary: ${designer.get_salary()}\")"
   ]
  },
  {
   "cell_type": "code",
   "execution_count": null,
   "id": "28406b16-9b32-4ec0-b855-8f295a803355",
   "metadata": {},
   "outputs": [],
   "source": [
    "#14 Discuss the differences between abstract classes and concrete classes in Python, including their instantiation."
   ]
  },
  {
   "cell_type": "markdown",
   "id": "d0430bf7-bfe4-4687-822c-efa72d90d918",
   "metadata": {},
   "source": [
    "Abstract Classes:\n",
    "\n",
    "Abstract classes are classes that cannot be instantiated directly. They are meant to be used as base classes from which other classes can inherit.\n",
    "Abstract classes may contain abstract methods, which are methods without implementation. These methods serve as placeholders and must be implemented by subclasses.\n",
    "Abstract classes are typically used to define a common interface or behavior that concrete subclasses must adhere to.\n",
    "Instances of abstract classes cannot be created. They exist solely for defining a blueprint for subclasses.\n",
    "Concrete Classes:\n",
    "\n",
    "Concrete classes are classes that can be instantiated directly. They provide complete implementations for all methods, including any abstract methods inherited from base classes.\n",
    "Concrete classes can be instantiated to create objects, which are instances of the class with specific attributes and behaviors.\n",
    "Concrete classes may inherit from abstract classes and provide implementations for all abstract methods, thus making them suitable for instantiation.\n",
    "Instances of concrete classes can be created using the class constructor.\n",
    "Here's a summary of the differences between abstract classes and concrete classes in Python:\n",
    "\n",
    "Instantiation: Abstract classes cannot be instantiated directly, while concrete classes can be instantiated to create objects.\n",
    "Abstract Methods: Abstract classes may contain abstract methods, which must be implemented by subclasses. Concrete classes provide implementations for all methods, including abstract methods inherited from base classes.\n",
    "Purpose: Abstract classes define a common interface or behavior for subclasses, while concrete classes provide complete implementations for specific functionality."
   ]
  },
  {
   "cell_type": "code",
   "execution_count": null,
   "id": "c8f3ced5-b599-408c-8d3f-4c8f53d1156d",
   "metadata": {},
   "outputs": [],
   "source": [
    "#15 Explain the concept of abstract data types (ADTs) and their role in achieving abstraction in Python."
   ]
  },
  {
   "cell_type": "markdown",
   "id": "c02fedb4-b774-4df2-b818-64472ce7ac36",
   "metadata": {},
   "source": [
    "Abstract Data Types (ADTs) are a concept in computer science that define a logical model for data storage and manipulation, independent of any specific implementation. ADTs specify a set of operations (methods) that can be performed on the data, without revealing the internal details of how these operations are implemented. ADTs provide a high-level abstraction that allows programmers to work with data structures in a consistent and predictable manner, without needing to understand the underlying implementation.\n",
    "\n",
    "The role of ADTs in achieving abstraction in Python is significant. Here's how ADTs contribute to abstraction:\n",
    "\n",
    "Encapsulation: ADTs encapsulate data and operations into a single unit, providing a clear separation between interface and implementation. This allows users to interact with the data structure through well-defined methods, without needing to know how these methods are implemented internally.\n",
    "\n",
    "Modularity: ADTs promote modularity by encapsulating related data and operations into a single unit. This makes it easier to organize and manage code, as each ADT represents a self-contained module with a well-defined interface.\n",
    "\n",
    "Reusability: ADTs encourage code reuse by providing a standardized interface for interacting with data structures. Once an ADT is defined, it can be reused in multiple contexts without modification, leading to cleaner and more maintainable code.\n",
    "\n",
    "Abstraction: ADTs abstract away the implementation details of data structures, allowing users to focus on the high-level functionality provided by the ADT rather than the internal workings of the data structure. This promotes abstraction by providing a simplified view of complex data structures.\n",
    "\n",
    "Flexibility: ADTs provide a flexible framework for working with data structures, allowing users to choose the most appropriate implementation for their specific needs. By decoupling the interface from the implementation, ADTs allow for interchangeable implementations that can be easily swapped out without affecting the rest of the code."
   ]
  },
  {
   "cell_type": "code",
   "execution_count": null,
   "id": "22ad7b44-3540-42f9-babc-1f49d87ea391",
   "metadata": {},
   "outputs": [],
   "source": [
    "#16 Create a Python class for a computer system, demonstrating abstraction by defining common methods (e.g., `power_on()`, `shutdown()`) in an abstract base class."
   ]
  },
  {
   "cell_type": "code",
   "execution_count": null,
   "id": "1f8858a4-6911-4173-9640-f92dd31d032f",
   "metadata": {},
   "outputs": [],
   "source": [
    "from abc import ABC, abstractmethod\n",
    "\n",
    "class Computer(ABC):\n",
    "    def __init__(self, brand, model):\n",
    "        self.brand = brand\n",
    "        self.model = model\n",
    "\n",
    "    @abstractmethod\n",
    "    def power_on(self):\n",
    "        pass\n",
    "\n",
    "    @abstractmethod\n",
    "    def shutdown(self):\n",
    "        pass\n",
    "\n",
    "class Desktop(Computer):\n",
    "    def power_on(self):\n",
    "        return f\"Booting up the {self.brand} {self.model} desktop.\"\n",
    "\n",
    "    def shutdown(self):\n",
    "        return f\"Shutting down the {self.brand} {self.model} desktop.\"\n",
    "\n",
    "class Laptop(Computer):\n",
    "    def power_on(self):\n",
    "        return f\"Booting up the {self.brand} {self.model} laptop.\"\n",
    "\n",
    "    def shutdown(self):\n",
    "        return f\"Shutting down the {self.brand} {self.model} laptop.\"\n",
    "\n",
    "# Example usage\n",
    "desktop = Desktop(\"Dell\", \"OptiPlex\")\n",
    "laptop = Laptop(\"HP\", \"Pavilion\")\n",
    "\n",
    "print(desktop.power_on())\n",
    "print(desktop.shutdown())\n",
    "print(laptop.power_on())\n",
    "print(laptop.shutdown())"
   ]
  },
  {
   "cell_type": "code",
   "execution_count": null,
   "id": "f36114f9-1c4b-4e9f-a186-c4db4524a0c5",
   "metadata": {},
   "outputs": [],
   "source": [
    "#17 Discuss the benefits of using abstraction in large-scale software development projects."
   ]
  },
  {
   "cell_type": "markdown",
   "id": "cb481a24-e64d-48ab-9124-fde727b4fd46",
   "metadata": {},
   "source": [
    "Using abstraction in large-scale software development projects offers several benefits that contribute to the overall efficiency, maintainability, and scalability of the project:\n",
    "\n",
    "Modularity and Encapsulation: Abstraction promotes modularity by encapsulating complex functionality into manageable units. Each module exposes a well-defined interface, hiding internal implementation details. This allows developers to work on different modules independently, reducing complexity and improving code organization.\n",
    "\n",
    "Code Reusability: Abstraction encourages the creation of reusable components with well-defined interfaces. By abstracting common functionality into reusable modules or classes, developers can avoid duplicating code and promote code reuse across different parts of the project. This leads to faster development cycles and reduces the risk of errors.\n",
    "\n",
    "Scalability and Maintainability: Abstraction helps in building scalable and maintainable software systems. By breaking down complex systems into smaller, more manageable components, abstraction makes it easier to understand, extend, and maintain the codebase over time. This allows the software to evolve and adapt to changing requirements without sacrificing stability.\n",
    "\n",
    "Flexibility and Adaptability: Abstraction enables flexibility and adaptability by decoupling high-level functionality from low-level implementation details. This allows developers to swap out underlying components or technologies without affecting the overall architecture or functionality of the system. Abstraction also makes it easier to implement changes or updates in response to evolving business needs or technological advancements.\n",
    "\n",
    "Reduced Complexity and Cognitive Load: Abstraction reduces cognitive load by providing a higher-level view of the system's functionality. Developers can focus on understanding the essential concepts and interactions between components without getting bogged down by implementation details. This simplifies the development process and makes it easier to onboard new team members.\n",
    "\n",
    "Improved Testing and Debugging: Abstraction facilitates testing and debugging by isolating components and providing clear interfaces for interaction. Unit testing becomes more straightforward as individual components can be tested in isolation, leading to better overall test coverage and more robust software.\n",
    "\n",
    "Collaboration and Communication: Abstraction fosters collaboration and communication among team members by providing clear interfaces and well-defined boundaries between components. Developers can work together more effectively, understand each other's contributions, and integrate their work seamlessly into the larger project."
   ]
  },
  {
   "cell_type": "code",
   "execution_count": null,
   "id": "a89e3d84-fcfd-40bb-bba6-7141de8802b1",
   "metadata": {},
   "outputs": [],
   "source": [
    "#18 Explain how abstraction enhances code reusability and modularity in Python programs."
   ]
  },
  {
   "cell_type": "markdown",
   "id": "7c4edfd7-6df2-4963-a9de-6bb0ba4128ab",
   "metadata": {},
   "source": [
    "Abstraction enhances code reusability and modularity in Python programs by promoting the creation of reusable components with well-defined interfaces. Here's how abstraction contributes to these aspects:\n",
    "\n",
    "Encapsulation of Complexity: Abstraction encapsulates complex functionality into manageable units, hiding implementation details behind a well-defined interface. This encapsulation allows developers to interact with components at a higher level of abstraction, without needing to understand the internal complexities. As a result, these components can be reused across different parts of the codebase without concern for their internal workings.\n",
    "\n",
    "Defined Interfaces: Abstraction defines clear interfaces for interacting with components, specifying the methods and properties that are accessible to the outside world. By adhering to these interfaces, developers can ensure consistency and predictability in how components are used, regardless of their internal implementations. This promotes code reuse by allowing components to be swapped out or replaced without affecting the overall behavior of the system.\n",
    "\n",
    "Modular Design: Abstraction promotes modular design by breaking down complex systems into smaller, more manageable components. Each component focuses on a specific aspect of functionality and exposes a well-defined interface for interaction. These modular components can then be combined and composed to build larger systems, making it easier to understand, maintain, and extend the codebase over time.\n",
    "\n",
    "Separation of Concerns: Abstraction helps in separating concerns by dividing the system into distinct layers or modules, each responsible for a specific aspect of functionality. This separation allows developers to focus on one aspect of the system at a time, reducing cognitive load and improving code organization. It also facilitates code reuse by isolating reusable components from domain-specific logic, making them more adaptable to different contexts.\n",
    "\n",
    "Promotion of Code Reuse: Abstraction encourages the creation of reusable components that can be leveraged across different parts of the codebase. By abstracting common functionality into standalone modules or classes, developers can avoid duplicating code and promote code reuse. This not only reduces development time and effort but also improves code quality by eliminating redundancy and promoting consistency.\n",
    "\n",
    "Ease of Maintenance and Evolution: Abstraction makes it easier to maintain and evolve the codebase over time. By encapsulating functionality behind well-defined interfaces, changes to internal implementations can be made without affecting the external interfaces or behavior of components. This allows developers to refactor or optimize code more easily, adapt to changing requirements, and incorporate new features or technologies without disrupting existing functionality."
   ]
  },
  {
   "cell_type": "code",
   "execution_count": null,
   "id": "24e13178-8779-46ad-85f7-13a312c61603",
   "metadata": {},
   "outputs": [],
   "source": [
    "#19 Create a Python class for a library system, implementing abstraction by defining common methods (e.g., `add_book()`, `borrow_book()`) in an abstract base class."
   ]
  },
  {
   "cell_type": "code",
   "execution_count": null,
   "id": "9d709933-e3da-489b-89be-2b0a910275b4",
   "metadata": {},
   "outputs": [],
   "source": [
    "from abc import ABC, abstractmethod\n",
    "\n",
    "class Library(ABC):\n",
    "    def __init__(self, name):\n",
    "        self.name = name\n",
    "        self.catalog = {}\n",
    "\n",
    "    @abstractmethod\n",
    "    def add_book(self, book):\n",
    "        pass\n",
    "\n",
    "    @abstractmethod\n",
    "    def borrow_book(self, book_title, user_id):\n",
    "        pass\n",
    "\n",
    "class PublicLibrary(Library):\n",
    "    def add_book(self, book):\n",
    "        if book.title not in self.catalog:\n",
    "            self.catalog[book.title] = book\n",
    "            print(f\"Book '{book.title}' added to {self.name} catalog.\")\n",
    "        else:\n",
    "            print(f\"Book '{book.title}' already exists in {self.name} catalog.\")\n",
    "\n",
    "    def borrow_book(self, book_title, user_id):\n",
    "        if book_title in self.catalog:\n",
    "            book = self.catalog[book_title]\n",
    "            if not book.borrowed:\n",
    "                book.borrowed = True\n",
    "                book.borrower_id = user_id\n",
    "                print(f\"Book '{book.title}' borrowed by user {user_id}.\")\n",
    "            else:\n",
    "                print(f\"Book '{book.title}' is already borrowed.\")\n",
    "        else:\n",
    "            print(f\"Book '{book_title}' not found in {self.name} catalog.\")\n",
    "\n",
    "class UniversityLibrary(Library):\n",
    "    def add_book(self, book):\n",
    "        if book.title not in self.catalog:\n",
    "            self.catalog[book.title] = book\n",
    "            print(f\"Book '{book.title}' added to {self.name} catalog.\")\n",
    "        else:\n",
    "            print(f\"Book '{book.title}' already exists in {self.name} catalog.\")\n",
    "\n",
    "    def borrow_book(self, book_title, user_id):\n",
    "        if book_title in self.catalog:\n",
    "            book = self.catalog[book_title]\n",
    "            if not book.borrowed:\n",
    "                book.borrowed = True\n",
    "                book.borrower_id = user_id\n",
    "                print(f\"Book '{book.title}' borrowed by student {user_id}.\")\n",
    "            else:\n",
    "                print(f\"Book '{book.title}' is already borrowed.\")\n",
    "        else:\n",
    "            print(f\"Book '{book_title}' not found in {self.name} catalog.\")\n",
    "\n",
    "class Book:\n",
    "    def __init__(self, title, author):\n",
    "        self.title = title\n",
    "        self.author = author\n",
    "        self.borrowed = False\n",
    "        self.borrower_id = None\n",
    "\n",
    "# Example usage\n",
    "public_library = PublicLibrary(\"City Public Library\")\n",
    "university_library = UniversityLibrary(\"University Library\")\n",
    "\n",
    "book1 = Book(\"Python Programming\", \"John Smith\")\n",
    "book2 = Book(\"Data Structures\", \"Alice Johnson\")\n",
    "\n",
    "public_library.add_book(book1)\n",
    "public_library.add_book(book2)\n",
    "\n",
    "book3 = Book(\"Machine Learning\", \"David Brown\")\n",
    "university_library.add_book(book3)\n",
    "\n",
    "public_library.borrow_book(\"Python Programming\", \"User1\")\n",
    "public_library.borrow_book(\"Data Structures\", \"User2\")\n",
    "\n",
    "university_library.borrow_book(\"Machine Learning\", \"Student1\")\n",
    "university_library.borrow_book(\"Python Programming\", \"Student2\")"
   ]
  },
  {
   "cell_type": "code",
   "execution_count": null,
   "id": "4ec55dcd-e30d-45d3-816a-15e3859af14d",
   "metadata": {},
   "outputs": [],
   "source": [
    "#20 Describe the concept of method abstraction in Python and how it relates to polymorphism."
   ]
  },
  {
   "cell_type": "markdown",
   "id": "5189b284-4a89-47fb-baa2-3fc5679941d2",
   "metadata": {},
   "source": [
    "ChatGPT\n",
    "Method abstraction in Python refers to the practice of defining methods without specifying their implementation details, typically within abstract base classes or interfaces. These abstract methods serve as placeholders, providing a common interface for subclasses to follow while allowing each subclass to provide its own implementation. Method abstraction is closely related to polymorphism, as it enables the use of polymorphic behavior through method overriding.\n",
    "\n",
    "Here's how method abstraction relates to polymorphism:\n",
    "\n",
    "Common Interface: Method abstraction allows multiple classes to implement a common interface by defining abstract methods that must be overridden in concrete subclasses. This promotes code reuse and ensures consistency in how different objects interact with each other.\n",
    "\n",
    "Polymorphic Behavior: By defining abstract methods in a base class or interface, method abstraction enables polymorphic behavior. Subclasses can provide their own implementations of these abstract methods, allowing objects of different types to be treated interchangeably based on their common interface.\n",
    "\n",
    "Dynamic Binding: Polymorphism in Python relies on dynamic binding, where method calls are resolved at runtime based on the actual type of the object. When a method is called on an object, Python looks up the method in the object's class hierarchy, starting from the most specific subclass. This allows objects of different types to respond to method calls in a polymorphic manner.\n",
    "\n",
    "Flexibility and Extensibility: Method abstraction allows for flexible and extensible code design by decoupling the interface from the implementation details. Subclasses can provide alternative implementations of abstract methods to customize behavior or extend functionality without modifying the base class or interface."
   ]
  },
  {
   "cell_type": "markdown",
   "id": "8afc67ea-9de1-4bc3-8883-881d79783d3d",
   "metadata": {},
   "source": [
    "Problems on Composition"
   ]
  },
  {
   "cell_type": "code",
   "execution_count": null,
   "id": "e849efa0-b046-448b-aa95-86785ebfac0a",
   "metadata": {},
   "outputs": [],
   "source": [
    "#1 Explain the concept of composition in Python and how it is used to build complex objects from simpler ones."
   ]
  },
  {
   "cell_type": "markdown",
   "id": "112f8941-4a87-4dc8-87da-27d643b8c21a",
   "metadata": {},
   "source": [
    "Composition in Python is a design principle where complex objects are created by combining simpler objects as components. It involves creating a class that contains one or more instances of other classes, known as its components, and delegates some of its responsibilities to these components. Composition allows for building complex structures from simpler ones while promoting code reuse, modularity, and flexibility.\n",
    "\n",
    "Here's how composition is used to build complex objects from simpler ones:\n",
    "\n",
    "Creating Components: First, you define classes for the simpler objects that will serve as components. These classes encapsulate specific functionalities or represent distinct concepts within the system.\n",
    "\n",
    "Defining the Composite Class: Next, you create a composite class that will contain instances of the component classes. This composite class acts as a wrapper around its component instances, providing a higher-level interface and coordinating their interactions.\n",
    "\n",
    "Initializing Components: In the constructor of the composite class, you initialize instances of the component classes and store them as attributes. These component instances represent the building blocks of the composite object.\n",
    "\n",
    "Delegating Responsibilities: The composite class delegates some of its responsibilities to its component instances. It may forward method calls to the component objects, aggregate their results, or coordinate their actions to perform higher-level tasks.\n",
    "\n",
    "Encapsulating Complexity: By using composition, you encapsulate the complexity of the composite object within its components. Each component is responsible for a specific aspect of functionality, making the composite class easier to understand, maintain, and extend.\n",
    "\n",
    "Promoting Reusability and Flexibility: Composition promotes code reuse by allowing you to reuse existing component classes in different composite objects. It also provides flexibility, as you can easily replace or modify individual components without affecting the overall structure of the composite object."
   ]
  },
  {
   "cell_type": "code",
   "execution_count": null,
   "id": "ee361557-ac7a-4d02-a4ef-14a14c4bf208",
   "metadata": {},
   "outputs": [],
   "source": [
    "#2 Describe the difference between composition and inheritance in object-oriented programming."
   ]
  },
  {
   "cell_type": "markdown",
   "id": "a350bca2-cf09-492b-bb8d-90fbe7dbf5fa",
   "metadata": {},
   "source": [
    "Composition:\n",
    "\n",
    "Composition involves creating complex objects by combining simpler objects as components.\n",
    "In composition, the relationship between the composite object and its components is typically described as a \"has-a\" relationship, where the composite object contains instances of other classes as its attributes.\n",
    "Composition promotes code reuse, modularity, and flexibility by allowing objects to be composed of multiple components, each responsible for a specific aspect of functionality.\n",
    "It encapsulates the complexity of the composite object within its components and promotes a design where each component class focuses on a single responsibility.\n",
    "Composition is often used when the relationship between objects is dynamic or when objects need to be composed of multiple components with different functionalities.\n",
    "Inheritance:\n",
    "\n",
    "Inheritance involves creating new classes (derived classes) based on existing classes (base or parent classes), where the derived classes inherit attributes and methods from their parent classes.\n",
    "Inheritance establishes an \"is-a\" relationship between the derived class and its parent class, implying that the derived class is a specialized version of the parent class.\n",
    "Inheritance promotes code reuse by allowing derived classes to inherit and extend the functionality of their parent classes. Derived classes can override inherited methods to provide specialized behavior or add new methods and attributes.\n",
    "It facilitates code organization and promotes polymorphism, as objects of derived classes can be treated as objects of their parent classes.\n",
    "Inheritance is often used when there is a clear hierarchical relationship between classes, and derived classes share common attributes and behaviors with their parent classes."
   ]
  },
  {
   "cell_type": "code",
   "execution_count": null,
   "id": "07a49b0d-cbe6-4e85-9c01-6b09ff159051",
   "metadata": {},
   "outputs": [],
   "source": [
    "#3 Create a Python class called `Author` with attributes for name and birthdate. Then, create a `Book` class that contains an instance of `Author` as a composition. Provide an example of creating a `Book` object."
   ]
  },
  {
   "cell_type": "code",
   "execution_count": null,
   "id": "65c533f1-8a1d-4a84-8836-e4c16ed5b6f1",
   "metadata": {},
   "outputs": [],
   "source": [
    "class Author:\n",
    "    def __init__(self, name, birthdate):\n",
    "        self.name = name\n",
    "        self.birthdate = birthdate\n",
    "\n",
    "class Book:\n",
    "    def __init__(self, title, author_name, author_birthdate):\n",
    "        self.title = title\n",
    "        self.author = Author(author_name, author_birthdate)\n",
    "\n",
    "    def display_info(self):\n",
    "        print(f\"Title: {self.title}\")\n",
    "        print(f\"Author: {self.author.name}\")\n",
    "        print(f\"Author's Birthdate: {self.author.birthdate}\")\n",
    "\n",
    "# Creating a Book object\n",
    "book1 = Book(\"Python Programming\", \"John Smith\", \"1980-05-15\")\n",
    "\n",
    "# Displaying information about the book\n",
    "book1.display_info()"
   ]
  },
  {
   "cell_type": "code",
   "execution_count": null,
   "id": "5f0121e6-8071-46e2-8ffb-f8fe2ce3b241",
   "metadata": {},
   "outputs": [],
   "source": [
    "#4 Discuss the benefits of using composition over inheritance in Python, especially in terms of code flexibility and reusability."
   ]
  },
  {
   "cell_type": "markdown",
   "id": "5121fcb5-f5b3-4820-82cd-0e858028cefb",
   "metadata": {},
   "source": [
    "Using composition over inheritance offers several benefits, particularly in terms of code flexibility and reusability:\n",
    "\n",
    "Flexibility in Object Structure: Composition allows for greater flexibility in defining the structure of objects compared to inheritance. With composition, objects can be composed of multiple components, each with its own distinct functionality. This flexibility enables developers to create complex objects by combining simpler components in various configurations, adapting to changing requirements more easily.\n",
    "\n",
    "Reduced Coupling: Composition reduces coupling between classes compared to inheritance. Inheritance establishes a tight coupling between the subclass and its parent class, leading to a stronger dependency between the two. In contrast, composition promotes loose coupling by allowing objects to interact with their components through well-defined interfaces, reducing the risk of unintended side effects and simplifying maintenance and evolution.\n",
    "\n",
    "Improved Code Reusability: Composition promotes code reusability by allowing components to be reused across different objects. Instead of inheriting behavior from a single parent class, objects can be composed of multiple components, each providing a specific aspect of functionality. This modular approach to design facilitates code reuse and promotes a more modular and maintainable codebase.\n",
    "\n",
    "Enhanced Testability: Composition can improve testability compared to inheritance. With composition, components can be tested independently of the composite object, allowing for easier unit testing and mocking of dependencies. This isolation of components simplifies testing and helps ensure the reliability and correctness of the code.\n",
    "\n",
    "Encapsulation of Behavior: Composition encourages encapsulation of behavior within components, promoting a clear separation of concerns and making it easier to reason about the functionality of individual components. Each component focuses on a specific aspect of functionality, leading to more cohesive and understandable code.\n",
    "\n",
    "Adaptability to Change: Composition facilitates adaptability to change by allowing objects to be composed of interchangeable components. Components can be added, removed, or replaced without affecting the overall structure of the composite object, making it easier to accommodate changes in requirements or business logic over time."
   ]
  },
  {
   "cell_type": "code",
   "execution_count": null,
   "id": "f824fc0a-5830-4196-af40-8165e66d1ec6",
   "metadata": {},
   "outputs": [],
   "source": [
    "#5 How can you implement composition in Python classes? Provide examples of using composition to create complex objects."
   ]
  },
  {
   "cell_type": "markdown",
   "id": "644ad859-eb41-4e1c-b209-c0a83926842a",
   "metadata": {},
   "source": [
    "Composition in Python classes can be implemented by creating instances of other classes as attributes within a class. These instances then become components of the composite object."
   ]
  },
  {
   "cell_type": "code",
   "execution_count": null,
   "id": "256cc961-822e-4e87-9423-60d97ae18c58",
   "metadata": {},
   "outputs": [],
   "source": [
    "class Engine:\n",
    "    def start(self):\n",
    "        print(\"Engine started\")\n",
    "\n",
    "    def stop(self):\n",
    "        print(\"Engine stopped\")\n",
    "\n",
    "class Car:\n",
    "    def __init__(self):\n",
    "        self.engine = Engine()  # Engine instance as a component of Car\n",
    "\n",
    "    def start(self):\n",
    "        print(\"Starting the car\")\n",
    "        self.engine.start()\n",
    "\n",
    "    def stop(self):\n",
    "        print(\"Stopping the car\")\n",
    "        self.engine.stop()\n",
    "\n",
    "class AirConditioner:\n",
    "    def start(self):\n",
    "        print(\"Air conditioner started\")\n",
    "\n",
    "    def stop(self):\n",
    "        print(\"Air conditioner stopped\")\n",
    "\n",
    "class ElectricCar:\n",
    "    def __init__(self):\n",
    "        self.engine = Engine()          # Engine instance as a component of ElectricCar\n",
    "        self.air_conditioner = AirConditioner()  # AirConditioner instance as a component of ElectricCar\n",
    "\n",
    "    def start(self):\n",
    "        print(\"Starting the electric car\")\n",
    "        self.engine.start()\n",
    "        self.air_conditioner.start()\n",
    "\n",
    "    def stop(self):\n",
    "        print(\"Stopping the electric car\")\n",
    "        self.engine.stop()\n",
    "        self.air_conditioner.stop()\n",
    "\n",
    "# Creating a Car object\n",
    "my_car = Car()\n",
    "\n",
    "# Starting and stopping the car\n",
    "my_car.start()\n",
    "my_car.stop()\n",
    "\n",
    "print(\"\\n\")\n",
    "\n",
    "# Creating an ElectricCar object\n",
    "my_electric_car = ElectricCar()\n",
    "\n",
    "# Starting and stopping the electric car\n",
    "my_electric_car.start()\n",
    "my_electric_car.stop()"
   ]
  },
  {
   "cell_type": "code",
   "execution_count": null,
   "id": "b9a63d26-e41e-4508-87d6-84faa7debb39",
   "metadata": {},
   "outputs": [],
   "source": [
    "#6 Create a Python class hierarchy for a music player system, using composition to represent playlists and songs."
   ]
  },
  {
   "cell_type": "code",
   "execution_count": null,
   "id": "b042330e-2b27-41b1-97c6-c52d75870bca",
   "metadata": {},
   "outputs": [],
   "source": [
    "class Song:\n",
    "    def __init__(self, title, artist, duration):\n",
    "        self.title = title\n",
    "        self.artist = artist\n",
    "        self.duration = duration\n",
    "\n",
    "    def play(self):\n",
    "        print(f\"Playing: {self.title} - {self.artist}\")\n",
    "\n",
    "\n",
    "class Playlist:\n",
    "    def __init__(self, name):\n",
    "        self.name = name\n",
    "        self.songs = []\n",
    "\n",
    "    def add_song(self, song):\n",
    "        self.songs.append(song)\n",
    "\n",
    "    def remove_song(self, song):\n",
    "        if song in self.songs:\n",
    "            self.songs.remove(song)\n",
    "            print(f\"Removed '{song.title}' from '{self.name}' playlist\")\n",
    "        else:\n",
    "            print(f\"'{song.title}' not found in '{self.name}' playlist\")\n",
    "\n",
    "    def play_all(self):\n",
    "        print(f\"Playing all songs in '{self.name}' playlist:\")\n",
    "        for song in self.songs:\n",
    "            song.play()\n",
    "\n",
    "\n",
    "# Create songs\n",
    "song1 = Song(\"Shape of You\", \"Ed Sheeran\", \"4:23\")\n",
    "song2 = Song(\"Billie Jean\", \"Michael Jackson\", \"4:54\")\n",
    "song3 = Song(\"Bohemian Rhapsody\", \"Queen\", \"6:07\")\n",
    "\n",
    "# Create playlists\n",
    "playlist1 = Playlist(\"Pop Hits\")\n",
    "playlist1.add_song(song1)\n",
    "playlist1.add_song(song2)\n",
    "\n",
    "playlist2 = Playlist(\"Rock Classics\")\n",
    "playlist2.add_song(song3)\n",
    "\n",
    "# Playlists contain songs\n",
    "playlist1.play_all()\n",
    "playlist2.play_all()"
   ]
  },
  {
   "cell_type": "code",
   "execution_count": null,
   "id": "2259659c-6247-42fb-a3f8-172388a9f750",
   "metadata": {},
   "outputs": [],
   "source": [
    "#7 Explain the concept of \"has-a\" relationships in composition and how it helps design software systems."
   ]
  },
  {
   "cell_type": "markdown",
   "id": "64a93fa2-3f47-4c6e-bb46-1b0d8a0eab5b",
   "metadata": {},
   "source": [
    "The concept of \"has-a\" relationships in composition refers to the relationship between objects where one object contains another object as a component or part. This relationship is often represented by the statement \"Object A has a(n) Object B.\" In other words, one object \"has\" another object as a part of its composition.\n",
    "\n",
    "Here's how the \"has-a\" relationship helps in designing software systems:\n",
    "\n",
    "Modularity and Reusability: By decomposing complex systems into smaller, more manageable components, the \"has-a\" relationship promotes modularity and reusability. Each component can be developed, tested, and maintained independently, making the system easier to understand and maintain.\n",
    "\n",
    "Code Organization: The \"has-a\" relationship helps organize code by grouping related functionality together. Objects that \"have\" other objects as components encapsulate related behaviors and data, leading to more coherent and organized codebases.\n",
    "\n",
    "Flexibility and Extensibility: Software systems designed using the \"has-a\" relationship are inherently flexible and extensible. New functionality can be added by introducing new components or modifying existing ones without impacting the overall system structure. This allows for incremental development and adaptation to changing requirements.\n",
    "\n",
    "Encapsulation of Complexity: By encapsulating complex functionality within individual components, the \"has-a\" relationship helps manage complexity effectively. Each component focuses on a specific aspect of functionality, hiding implementation details and exposing only the necessary interfaces to interact with other components.\n",
    "\n",
    "Simplified Testing and Debugging: Components in a system designed using the \"has-a\" relationship can be tested and debugged independently, leading to more efficient testing and debugging processes. Errors are easier to isolate and diagnose, reducing the time and effort required for troubleshooting.\n",
    "\n",
    "Clearer Abstractions: The \"has-a\" relationship promotes clear abstractions by defining well-defined interfaces between components. Each component exposes a set of methods or properties that describe its behavior, making it easier to understand how different parts of the system interact with each other."
   ]
  },
  {
   "cell_type": "code",
   "execution_count": null,
   "id": "efec6e08-07ae-4c11-b22d-67f64c9903d9",
   "metadata": {},
   "outputs": [],
   "source": [
    "#8 Create a Python class for a computer system, using composition to represent components like CPU, RAM, and storage devices."
   ]
  },
  {
   "cell_type": "code",
   "execution_count": null,
   "id": "172d1046-34c6-46d9-b174-bf74920f2722",
   "metadata": {},
   "outputs": [],
   "source": [
    "class CPU:\n",
    "    def __init__(self, brand, model):\n",
    "        self.brand = brand\n",
    "        self.model = model\n",
    "\n",
    "    def process_data(self):\n",
    "        print(\"CPU is processing data\")\n",
    "\n",
    "\n",
    "class RAM:\n",
    "    def __init__(self, capacity_gb):\n",
    "        self.capacity_gb = capacity_gb\n",
    "\n",
    "    def read_data(self):\n",
    "        print(\"RAM is reading data\")\n",
    "\n",
    "    def write_data(self):\n",
    "        print(\"RAM is writing data\")\n",
    "\n",
    "\n",
    "class Storage:\n",
    "    def __init__(self, capacity_gb):\n",
    "        self.capacity_gb = capacity_gb\n",
    "\n",
    "    def read_data(self):\n",
    "        print(\"Storage device is reading data\")\n",
    "\n",
    "    def write_data(self):\n",
    "        print(\"Storage device is writing data\")\n",
    "\n",
    "\n",
    "class Computer:\n",
    "    def __init__(self, cpu_brand, cpu_model, ram_capacity_gb, storage_capacity_gb):\n",
    "        self.cpu = CPU(cpu_brand, cpu_model)\n",
    "        self.ram = RAM(ram_capacity_gb)\n",
    "        self.storage = Storage(storage_capacity_gb)\n",
    "\n",
    "    def process_data(self):\n",
    "        self.cpu.process_data()\n",
    "\n",
    "    def read_data_from_ram(self):\n",
    "        self.ram.read_data()\n",
    "\n",
    "    def write_data_to_ram(self):\n",
    "        self.ram.write_data()\n",
    "\n",
    "    def read_data_from_storage(self):\n",
    "        self.storage.read_data()\n",
    "\n",
    "    def write_data_to_storage(self):\n",
    "        self.storage.write_data()\n",
    "\n",
    "\n",
    "# Create a Computer object\n",
    "my_computer = Computer(cpu_brand=\"Intel\", cpu_model=\"i7\", ram_capacity_gb=16, storage_capacity_gb=512)\n",
    "\n",
    "# Perform operations\n",
    "my_computer.process_data()\n",
    "my_computer.read_data_from_ram()\n",
    "my_computer.write_data_to_ram()\n",
    "my_computer.read_data_from_storage()\n",
    "my_computer.write_data_to_storage()"
   ]
  },
  {
   "cell_type": "code",
   "execution_count": null,
   "id": "c2a3e7bd-7b21-44f3-a482-303612548779",
   "metadata": {},
   "outputs": [],
   "source": [
    "#9 Describe the concept of \"delegation\" in composition and how it simplifies the design of complex systems."
   ]
  },
  {
   "cell_type": "markdown",
   "id": "7822d2a5-343d-46ba-8bdd-50a44cbca0c2",
   "metadata": {},
   "source": [
    "Delegation in composition refers to the process of allowing an object to handle a task by passing the responsibility to another object. Instead of directly implementing functionality within an object, delegation involves assigning tasks to other objects that are better suited to perform them. This design pattern simplifies the design of complex systems by promoting modularity, encapsulation, and code reuse.\n",
    "\n",
    "Here's how delegation simplifies the design of complex systems:\n",
    "\n",
    "Modularity: Delegation promotes modularity by breaking down complex tasks into smaller, more manageable components. Each object focuses on a specific aspect of functionality, making the system easier to understand, maintain, and evolve.\n",
    "\n",
    "Encapsulation: Delegation encourages encapsulation by allowing objects to encapsulate their behavior and delegate tasks to other objects as needed. This promotes a clear separation of concerns and reduces the complexity of individual objects.\n",
    "\n",
    "Code Reuse: Delegation enables code reuse by allowing objects to reuse existing functionality provided by other objects. Instead of duplicating code, objects can delegate tasks to shared components, reducing redundancy and promoting a more efficient use of resources.\n",
    "\n",
    "Flexibility: Delegation enhances the flexibility of the system by enabling objects to delegate tasks dynamically at runtime. Objects can adapt their behavior based on changing conditions or requirements by delegating tasks to different components as needed.\n",
    "\n",
    "Scalability: Delegation supports scalability by allowing the system to scale smoothly as requirements evolve. New functionality can be added by introducing new objects and delegating tasks to them, without affecting the overall structure of the system.\n",
    "\n",
    "Testing and Debugging: Delegation simplifies testing and debugging by promoting loose coupling between objects. Objects can be tested and debugged independently, leading to more efficient testing processes and easier isolation of errors."
   ]
  },
  {
   "cell_type": "code",
   "execution_count": null,
   "id": "692e35aa-36da-48dd-a96f-7993decd5a97",
   "metadata": {},
   "outputs": [],
   "source": [
    "#10 Create a Python class for a car, using composition to represent components like the engine, wheels, and transmission."
   ]
  },
  {
   "cell_type": "code",
   "execution_count": null,
   "id": "4d7ed6bd-7708-409b-a209-75028c5cdf04",
   "metadata": {},
   "outputs": [],
   "source": [
    "class Engine:\n",
    "    def start(self):\n",
    "        print(\"Engine started\")\n",
    "\n",
    "    def stop(self):\n",
    "        print(\"Engine stopped\")\n",
    "\n",
    "class Wheel:\n",
    "    def rotate(self):\n",
    "        print(\"Wheel rotating\")\n",
    "\n",
    "class Transmission:\n",
    "    def shift_gear(self):\n",
    "        print(\"Transmission shifting gear\")\n",
    "\n",
    "class Car:\n",
    "    def __init__(self):\n",
    "        self.engine = Engine()\n",
    "        self.wheels = [Wheel() for _ in range(4)]  # Four wheels\n",
    "        self.transmission = Transmission()\n",
    "\n",
    "    def start(self):\n",
    "        self.engine.start()\n",
    "\n",
    "    def stop(self):\n",
    "        self.engine.stop()\n",
    "\n",
    "    def drive(self):\n",
    "        self.transmission.shift_gear()\n",
    "        for wheel in self.wheels:\n",
    "            wheel.rotate()\n",
    "\n",
    "# Create a Car object\n",
    "my_car = Car()\n",
    "\n",
    "# Perform operations\n",
    "my_car.start()\n",
    "my_car.drive()\n",
    "my_car.stop()"
   ]
  },
  {
   "cell_type": "code",
   "execution_count": null,
   "id": "6f8f6420-1c89-4a3b-a5b4-22d640ea4d0d",
   "metadata": {},
   "outputs": [],
   "source": [
    "#11 How can you encapsulate and hide the details of composed objects in Python classes to maintain abstraction?"
   ]
  },
  {
   "cell_type": "markdown",
   "id": "fd9d4067-7412-4feb-932c-cfbc5c11a8af",
   "metadata": {},
   "source": [
    "To encapsulate and hide the details of composed objects in Python classes to maintain abstraction, you can follow these principles:\n",
    "\n",
    "Encapsulation: Encapsulate the composed objects within the class by instantiating them as attributes within the class constructor. This encapsulation hides the internal details of the composed objects from the external world.\n",
    "\n",
    "Abstraction: Define clear interfaces for interacting with the composed objects. Expose only the necessary methods and properties of the composed objects that are relevant to the functionality of the containing class.\n",
    "\n",
    "Access Control: Use access modifiers such as private (_) or double underscore (__) to control access to the composed objects' attributes and methods. This restricts direct access to the internal details of the composed objects and enforces encapsulation."
   ]
  },
  {
   "cell_type": "code",
   "execution_count": null,
   "id": "88dbf8e9-7e7f-4531-b94e-6d9f04596cd7",
   "metadata": {},
   "outputs": [],
   "source": [
    "#12 Create a Python class for a university course, using composition to represent students, instructors, and course materials."
   ]
  },
  {
   "cell_type": "code",
   "execution_count": null,
   "id": "32f59431-1a1d-48a0-8d09-f1b95ed848d5",
   "metadata": {},
   "outputs": [],
   "source": [
    "class Student:\n",
    "    def __init__(self, name, student_id):\n",
    "        self.name = name\n",
    "        self.student_id = student_id\n",
    "\n",
    "    def enroll(self, course):\n",
    "        print(f\"{self.name} enrolled in {course}\")\n",
    "\n",
    "class Instructor:\n",
    "    def __init__(self, name, instructor_id):\n",
    "        self.name = name\n",
    "        self.instructor_id = instructor_id\n",
    "\n",
    "    def teach(self, course):\n",
    "        print(f\"{self.name} is teaching {course}\")\n",
    "\n",
    "class CourseMaterial:\n",
    "    def __init__(self, title, content):\n",
    "        self.title = title\n",
    "        self.content = content\n",
    "\n",
    "class UniversityCourse:\n",
    "    def __init__(self, course_name, instructor, students, course_material):\n",
    "        self.course_name = course_name\n",
    "        self.instructor = instructor\n",
    "        self.students = students\n",
    "        self.course_material = course_material\n",
    "\n",
    "    def start(self):\n",
    "        print(f\"Course '{self.course_name}' has started\")\n",
    "        self.instructor.teach(self.course_name)\n",
    "        for student in self.students:\n",
    "            student.enroll(self.course_name)\n",
    "\n",
    "    def provide_material(self):\n",
    "        print(f\"Providing course material for '{self.course_name}': {self.course_material.title}\")\n",
    "\n",
    "# Create students\n",
    "student1 = Student(\"Alice\", \"S001\")\n",
    "student2 = Student(\"Bob\", \"S002\")\n",
    "students = [student1, student2]\n",
    "\n",
    "# Create instructor\n",
    "instructor = Instructor(\"Dr. Smith\", \"I001\")\n",
    "\n",
    "# Create course material\n",
    "course_material = CourseMaterial(\"Introduction to Python\", \"Course content goes here...\")\n",
    "\n",
    "# Create a UniversityCourse object\n",
    "python_course = UniversityCourse(\"Python Programming\", instructor, students, course_material)\n",
    "\n",
    "# Perform operations\n",
    "python_course.start()\n",
    "python_course.provide_material()"
   ]
  },
  {
   "cell_type": "code",
   "execution_count": null,
   "id": "6cb39567-7c8c-48a8-a98e-4d722aed1ee8",
   "metadata": {},
   "outputs": [],
   "source": [
    "#13 Discuss the challenges and drawbacks of composition, such as increased complexity and potential for tight coupling between objects."
   ]
  },
  {
   "cell_type": "markdown",
   "id": "59fdc508-abce-4817-9e04-b78c6fa0c46d",
   "metadata": {},
   "source": [
    "While composition offers many benefits, such as flexibility, modularity, and code reuse, it also comes with its own set of challenges and drawbacks. Some of the key challenges and drawbacks of composition include:\n",
    "\n",
    "Increased Complexity: As the number of composed objects grows, the complexity of managing interactions between them can increase significantly. This complexity can make the codebase harder to understand, maintain, and debug.\n",
    "\n",
    "Tight Coupling: Composition can lead to tight coupling between objects if not implemented carefully. Tight coupling occurs when the behavior of one object depends heavily on the internal details of another object. This can make it difficult to modify or replace one component without affecting other components.\n",
    "\n",
    "Dependency Management: In a composition-based design, managing dependencies between objects becomes crucial. Changes to one component may have ripple effects on other components, requiring careful coordination and potentially introducing unexpected side effects.\n",
    "\n",
    "Duplication of Code: In some cases, composition may lead to duplication of code if multiple objects require similar functionality. This duplication can increase code size and maintenance overhead.\n",
    "\n",
    "Performance Overhead: Composition can introduce a performance overhead, especially if there are many layers of objects involved in the composition. Each layer of composition adds additional method calls and object instantiations, which can impact runtime performance.\n",
    "\n",
    "Initialization Order: The order in which objects are initialized and composed can be critical. In complex compositions, managing the initialization order of objects can be challenging and may require careful coordination to avoid dependency issues.\n",
    "\n",
    "Object Lifecycle Management: Composition can complicate the management of object lifecycles, such as creation, initialization, and destruction. Ensuring that objects are created and destroyed in the correct order to avoid memory leaks or resource contention can be challenging.\n",
    "\n",
    "Testing Complexity: Testing composition-based designs can be more complex compared to simpler designs. With multiple objects interacting with each other, writing comprehensive test cases to cover all possible scenarios can be challenging and time-consuming."
   ]
  },
  {
   "cell_type": "code",
   "execution_count": null,
   "id": "4b563733-10c3-4eb7-9bd0-54ecc7f32f4e",
   "metadata": {},
   "outputs": [],
   "source": [
    "#14 Create a Python class hierarchy for a restaurant system, using composition to represent menus, dishes, and ingredients."
   ]
  },
  {
   "cell_type": "code",
   "execution_count": null,
   "id": "ab2ac7e0-b1be-4163-a999-f834541d454b",
   "metadata": {},
   "outputs": [],
   "source": [
    "class Ingredient:\n",
    "    def __init__(self, name):\n",
    "        self.name = name\n",
    "\n",
    "class Dish:\n",
    "    def __init__(self, name, ingredients):\n",
    "        self.name = name\n",
    "        self.ingredients = ingredients\n",
    "\n",
    "    def display(self):\n",
    "        print(f\"Dish: {self.name}\")\n",
    "        print(\"Ingredients:\")\n",
    "        for ingredient in self.ingredients:\n",
    "            print(f\"- {ingredient.name}\")\n",
    "\n",
    "class Menu:\n",
    "    def __init__(self, name, dishes):\n",
    "        self.name = name\n",
    "        self.dishes = dishes\n",
    "\n",
    "    def display(self):\n",
    "        print(f\"Menu: {self.name}\")\n",
    "        print(\"Dishes:\")\n",
    "        for dish in self.dishes:\n",
    "            dish.display()\n",
    "            print()\n",
    "\n",
    "# Create Ingredients\n",
    "tomato = Ingredient(\"Tomato\")\n",
    "lettuce = Ingredient(\"Lettuce\")\n",
    "cheese = Ingredient(\"Cheese\")\n",
    "beef_patty = Ingredient(\"Beef Patty\")\n",
    "chicken_breast = Ingredient(\"Chicken Breast\")\n",
    "bread = Ingredient(\"Bread\")\n",
    "\n",
    "# Create Dishes\n",
    "burger = Dish(\"Burger\", [beef_patty, cheese, lettuce, tomato, bread])\n",
    "salad = Dish(\"Salad\", [lettuce, tomato, cheese])\n",
    "sandwich = Dish(\"Sandwich\", [chicken_breast, lettuce, tomato, bread])\n",
    "\n",
    "# Create Menu\n",
    "main_menu = Menu(\"Main Menu\", [burger, salad, sandwich])\n",
    "\n",
    "# Display Menu\n",
    "main_menu.display()"
   ]
  },
  {
   "cell_type": "code",
   "execution_count": null,
   "id": "829bfa85-a4a4-4c9f-afeb-a313f939ebee",
   "metadata": {},
   "outputs": [],
   "source": [
    "#15 Explain how composition enhances code maintainability and modularity in Python programs."
   ]
  },
  {
   "cell_type": "markdown",
   "id": "ae63e503-be56-4339-8024-7c09b0b5ad70",
   "metadata": {},
   "source": [
    "Composition enhances code maintainability and modularity in Python programs in several ways:\n",
    "\n",
    "Modularity: Composition allows you to break down complex systems into smaller, more manageable components. Each component encapsulates a specific functionality, making the codebase easier to understand, maintain, and extend. This modular approach promotes code reusability and facilitates collaboration among team members.\n",
    "\n",
    "Encapsulation: Composition promotes encapsulation by hiding the internal details of objects within their containing classes. By encapsulating functionality within well-defined interfaces, you can shield the rest of the system from the complexities of individual components. This encapsulation reduces dependencies and isolates changes, making the codebase more robust and resilient to modifications.\n",
    "\n",
    "Flexibility: Composition enables you to create flexible and customizable systems by combining different components in various configurations. You can easily swap out or replace components without affecting the overall structure of the system. This flexibility allows you to adapt to changing requirements and evolve the system over time without major refactoring.\n",
    "\n",
    "Code Reusability: Composition encourages code reusability by promoting the creation of reusable components that can be shared across different parts of the system. By composing objects from smaller, reusable building blocks, you can avoid code duplication and promote a more efficient use of resources.\n",
    "\n",
    "Separation of Concerns: Composition facilitates the separation of concerns by dividing the system into distinct layers of abstraction. Each component focuses on a specific aspect of functionality, such as data storage, business logic, or user interface, allowing you to manage complexity and address different concerns independently.\n",
    "\n",
    "Testing and Debugging: Composition simplifies testing and debugging by promoting loose coupling between components. Each component can be tested and debugged in isolation, leading to more efficient testing processes and easier isolation of errors. Additionally, modular components are easier to mock or stub during testing, enabling more thorough testing of individual functionalities."
   ]
  },
  {
   "cell_type": "code",
   "execution_count": null,
   "id": "64bf0b86-80f6-4529-9269-66948bb27747",
   "metadata": {},
   "outputs": [],
   "source": [
    "#16 Create a Python class for a computer game character, using composition to represent attributes like weapons, armor, and inventory."
   ]
  },
  {
   "cell_type": "code",
   "execution_count": null,
   "id": "4a1c0db2-ae5f-4b57-ae31-61dd6e57858f",
   "metadata": {},
   "outputs": [],
   "source": [
    "class Weapon:\n",
    "    def __init__(self, name, damage):\n",
    "        self.name = name\n",
    "        self.damage = damage\n",
    "\n",
    "    def display(self):\n",
    "        print(f\"Weapon: {self.name} (Damage: {self.damage})\")\n",
    "\n",
    "class Armor:\n",
    "    def __init__(self, name, defense):\n",
    "        self.name = name\n",
    "        self.defense = defense\n",
    "\n",
    "    def display(self):\n",
    "        print(f\"Armor: {self.name} (Defense: {self.defense})\")\n",
    "\n",
    "class Inventory:\n",
    "    def __init__(self):\n",
    "        self.items = []\n",
    "\n",
    "    def add_item(self, item):\n",
    "        self.items.append(item)\n",
    "\n",
    "    def display(self):\n",
    "        print(\"Inventory:\")\n",
    "        for item in self.items:\n",
    "            print(f\"- {item.name}\")\n",
    "\n",
    "class GameCharacter:\n",
    "    def __init__(self, name):\n",
    "        self.name = name\n",
    "        self.weapon = None\n",
    "        self.armor = None\n",
    "        self.inventory = Inventory()\n",
    "\n",
    "    def equip_weapon(self, weapon):\n",
    "        self.weapon = weapon\n",
    "\n",
    "    def equip_armor(self, armor):\n",
    "        self.armor = armor\n",
    "\n",
    "    def display(self):\n",
    "        print(f\"Character: {self.name}\")\n",
    "        if self.weapon:\n",
    "            self.weapon.display()\n",
    "        if self.armor:\n",
    "            self.armor.display()\n",
    "        self.inventory.display()\n",
    "\n",
    "# Create weapons\n",
    "sword = Weapon(\"Sword\", 20)\n",
    "bow = Weapon(\"Bow\", 30)\n",
    "\n",
    "# Create armor\n",
    "chainmail = Armor(\"Chainmail\", 15)\n",
    "plate_armor = Armor(\"Plate Armor\", 25)\n",
    "\n",
    "# Create a character\n",
    "player = GameCharacter(\"Player\")\n",
    "player.equip_weapon(sword)\n",
    "player.equip_armor(plate_armor)\n",
    "player.inventory.add_item(bow)\n",
    "\n",
    "# Display character details\n",
    "player.display()"
   ]
  },
  {
   "cell_type": "code",
   "execution_count": null,
   "id": "22a0057e-05f8-4181-b926-7970fa1f6263",
   "metadata": {},
   "outputs": [],
   "source": [
    "#17 Describe the concept of \"aggregation\" in composition and how it differs from simple composition."
   ]
  },
  {
   "cell_type": "markdown",
   "id": "768e0156-b6bc-4d31-b087-4f63053a8c8d",
   "metadata": {},
   "source": [
    "In object-oriented programming, \"aggregation\" is a form of composition where one class (the containing class) contains objects of another class (the component class) as part of its state. Aggregation implies a \"has-a\" relationship, where the containing class has a reference to the component class, but the component objects can exist independently of the containing class.\n",
    "\n",
    "The key differences between aggregation and simple composition are:\n",
    "\n",
    "Independence of Lifetimes: In aggregation, the component objects can exist independently of the containing class. This means that the component objects can be created and destroyed separately from the containing class. In contrast, in simple composition, the component objects are typically created and destroyed along with the containing class.\n",
    "\n",
    "Multiplicity: Aggregation allows for a one-to-many relationship between the containing class and the component class. This means that a single containing class can have multiple instances of the component class. In contrast, simple composition typically implies a one-to-one relationship, where each instance of the containing class is associated with a single instance of the component class.\n",
    "\n",
    "Ownership: In aggregation, the containing class does not own the component objects. It merely contains references to them. This means that the component objects can be shared among multiple containing classes or exist independently of any containing class. In contrast, in simple composition, the containing class owns the component objects and is responsible for their creation, destruction, and management.\n",
    "\n",
    "Semantic Meaning: Aggregation typically implies a weaker relationship between the containing class and the component class compared to simple composition. It indicates that the component objects are part of the containing class's state but may have their own lifecycles and can be shared among multiple containing classes. In contrast, simple composition implies a stronger relationship, where the component objects are essential parts of the containing class and are tightly coupled to it."
   ]
  },
  {
   "cell_type": "code",
   "execution_count": null,
   "id": "f410e959-44de-4813-930a-4ff50dfe1aa9",
   "metadata": {},
   "outputs": [],
   "source": [
    "#18 Create a Python class for a house, using composition to represent rooms, furniture, and appliances."
   ]
  },
  {
   "cell_type": "code",
   "execution_count": null,
   "id": "e80fa88c-75b3-46f0-8960-48e831172b14",
   "metadata": {},
   "outputs": [],
   "source": [
    "class Furniture:\n",
    "    def __init__(self, name):\n",
    "        self.name = name\n",
    "\n",
    "class Appliance:\n",
    "    def __init__(self, name):\n",
    "        self.name = name\n",
    "\n",
    "class Room:\n",
    "    def __init__(self, name):\n",
    "        self.name = name\n",
    "        self.furniture = []\n",
    "        self.appliances = []\n",
    "\n",
    "    def add_furniture(self, furniture):\n",
    "        self.furniture.append(furniture)\n",
    "\n",
    "    def add_appliance(self, appliance):\n",
    "        self.appliances.append(appliance)\n",
    "\n",
    "    def display(self):\n",
    "        print(f\"Room: {self.name}\")\n",
    "        if self.furniture:\n",
    "            print(\"Furniture:\")\n",
    "            for item in self.furniture:\n",
    "                print(f\"- {item.name}\")\n",
    "        if self.appliances:\n",
    "            print(\"Appliances:\")\n",
    "            for item in self.appliances:\n",
    "                print(f\"- {item.name}\")\n",
    "\n",
    "class House:\n",
    "    def __init__(self):\n",
    "        self.rooms = []\n",
    "\n",
    "    def add_room(self, room):\n",
    "        self.rooms.append(room)\n",
    "\n",
    "    def display(self):\n",
    "        print(\"House:\")\n",
    "        for room in self.rooms:\n",
    "            room.display()\n",
    "            print()\n",
    "\n",
    "# Create furniture\n",
    "sofa = Furniture(\"Sofa\")\n",
    "table = Furniture(\"Coffee Table\")\n",
    "bed = Furniture(\"Bed\")\n",
    "\n",
    "# Create appliances\n",
    "tv = Appliance(\"TV\")\n",
    "fridge = Appliance(\"Fridge\")\n",
    "oven = Appliance(\"Oven\")\n",
    "\n",
    "# Create rooms\n",
    "living_room = Room(\"Living Room\")\n",
    "living_room.add_furniture(sofa)\n",
    "living_room.add_furniture(table)\n",
    "living_room.add_appliance(tv)\n",
    "\n",
    "bedroom = Room(\"Bedroom\")\n",
    "bedroom.add_furniture(bed)\n",
    "bedroom.add_appliance(oven)\n",
    "\n",
    "kitchen = Room(\"Kitchen\")\n",
    "kitchen.add_appliance(fridge)\n",
    "kitchen.add_appliance(oven)\n",
    "\n",
    "# Create a house\n",
    "my_house = House()\n",
    "my_house.add_room(living_room)\n",
    "my_house.add_room(bedroom)\n",
    "my_house.add_room(kitchen)\n",
    "\n",
    "# Display house details\n",
    "my_house.display()"
   ]
  },
  {
   "cell_type": "code",
   "execution_count": null,
   "id": "64da7154-c943-4540-b575-691df52c5af5",
   "metadata": {},
   "outputs": [],
   "source": [
    "#19 How can you achieve flexibility in composed objects by allowing them to be replaced or modified dynamically at runtime?"
   ]
  },
  {
   "cell_type": "markdown",
   "id": "14c3bf72-dd23-4a23-b85f-93f0ebcb7bbf",
   "metadata": {},
   "source": [
    "To achieve flexibility in composed objects by allowing them to be replaced or modified dynamically at runtime, you can employ various design patterns and techniques. Here are some commonly used approaches:\n",
    "\n",
    "Dependency Injection (DI): Dependency injection is a technique where the dependencies of an object are provided from the outside rather than created internally. This allows for flexibility as dependencies can be swapped out or modified without changing the core logic of the object. There are different forms of dependency injection, including constructor injection, setter injection, and interface injection.\n",
    "\n",
    "Factory Method Pattern: The Factory Method pattern involves defining an interface for creating objects but allowing subclasses to alter the type of objects that will be created. By using factories to create instances of composed objects, you can switch between different implementations or configurations at runtime.\n",
    "\n",
    "Abstract Factory Pattern: The Abstract Factory pattern provides an interface for creating families of related or dependent objects without specifying their concrete classes. This allows you to create objects based on a certain theme or context, enabling dynamic replacement or modification of composed objects.\n",
    "\n",
    "Strategy Pattern: The Strategy pattern defines a family of algorithms, encapsulates each one, and makes them interchangeable. By encapsulating algorithms as separate objects and allowing clients to choose among them dynamically, you can achieve flexibility in composed objects.\n",
    "\n",
    "Decorator Pattern: The Decorator pattern allows behavior to be added to individual objects dynamically, without affecting the behavior of other objects from the same class. This allows for dynamic modification of composed objects by adding or removing functionality at runtime.\n",
    "\n",
    "Composite Pattern: The Composite pattern allows objects to be composed into tree structures to represent part-whole hierarchies. By treating individual objects and compositions of objects uniformly, you can dynamically replace or modify composed objects within the hierarchy.\n",
    "\n",
    "Inversion of Control (IoC) Containers: Inversion of Control containers, such as Spring Framework in Java or Flask-DI in Python, manage object dependencies and their lifecycles. These containers enable dynamic configuration of composed objects and facilitate dependency injection and other flexible instantiation patterns."
   ]
  },
  {
   "cell_type": "code",
   "execution_count": null,
   "id": "6fc57040-6afe-4d44-9e67-9936a4212092",
   "metadata": {},
   "outputs": [],
   "source": [
    "#20 Create a Python class for a social media application, using composition to represent users, posts, and comments."
   ]
  },
  {
   "cell_type": "code",
   "execution_count": null,
   "id": "5bfab763-a444-4bbb-b9b3-5ec452464a8f",
   "metadata": {},
   "outputs": [],
   "source": [
    "class Comment:\n",
    "    def __init__(self, text, author):\n",
    "        self.text = text\n",
    "        self.author = author\n",
    "\n",
    "    def display(self):\n",
    "        print(f\"Comment by {self.author}: {self.text}\")\n",
    "\n",
    "class Post:\n",
    "    def __init__(self, title, content, author):\n",
    "        self.title = title\n",
    "        self.content = content\n",
    "        self.author = author\n",
    "        self.comments = []\n",
    "\n",
    "    def add_comment(self, comment):\n",
    "        self.comments.append(comment)\n",
    "\n",
    "    def display(self):\n",
    "        print(f\"Post: {self.title}\")\n",
    "        print(f\"Author: {self.author}\")\n",
    "        print(f\"Content: {self.content}\")\n",
    "        if self.comments:\n",
    "            print(\"Comments:\")\n",
    "            for comment in self.comments:\n",
    "                comment.display()\n",
    "\n",
    "class User:\n",
    "    def __init__(self, username):\n",
    "        self.username = username\n",
    "        self.posts = []\n",
    "\n",
    "    def create_post(self, title, content):\n",
    "        post = Post(title, content, self.username)\n",
    "        self.posts.append(post)\n",
    "        return post\n",
    "\n",
    "    def display_posts(self):\n",
    "        print(f\"Posts by {self.username}:\")\n",
    "        for post in self.posts:\n",
    "            post.display()\n",
    "            print()\n",
    "\n",
    "# Create users\n",
    "user1 = User(\"user1\")\n",
    "user2 = User(\"user2\")\n",
    "\n",
    "# Create posts\n",
    "post1 = user1.create_post(\"First Post\", \"This is my first post!\")\n",
    "post2 = user2.create_post(\"Hello World\", \"Hello from user2!\")\n",
    "\n",
    "# Add comments to posts\n",
    "post1.add_comment(Comment(\"Great post!\", \"user2\"))\n",
    "post2.add_comment(Comment(\"Welcome to the social media app!\", \"user1\"))\n",
    "post2.add_comment(Comment(\"Nice to meet you, user1!\", \"user2\"))\n",
    "\n",
    "# Display posts by users\n",
    "user1.display_posts()\n",
    "user2.display_posts()"
   ]
  }
 ],
 "metadata": {
  "kernelspec": {
   "display_name": "Python 3 (ipykernel)",
   "language": "python",
   "name": "python3"
  },
  "language_info": {
   "codemirror_mode": {
    "name": "ipython",
    "version": 3
   },
   "file_extension": ".py",
   "mimetype": "text/x-python",
   "name": "python",
   "nbconvert_exporter": "python",
   "pygments_lexer": "ipython3",
   "version": "3.10.8"
  }
 },
 "nbformat": 4,
 "nbformat_minor": 5
}
